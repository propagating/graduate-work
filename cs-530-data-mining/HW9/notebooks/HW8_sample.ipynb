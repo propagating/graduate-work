{
 "cells": [
  {
   "cell_type": "markdown",
   "source": [
    "# CS530 HW8"
   ],
   "metadata": {
    "collapsed": false
   }
  },
  {
   "cell_type": "markdown",
   "source": [
    "#### Question 1. (4 points)\n",
    "\n",
    "a. For classification trees, implement three functions to calculate the (1) cross-entropy, (2) Gini index, and (3) misclassification error. Assume binary classification (labels are 0’s and 1’s). The functions takes p_1, the probability of a record belong to class k=1, as input."
   ],
   "metadata": {
    "collapsed": false
   }
  },
  {
   "cell_type": "code",
   "execution_count": 2,
   "outputs": [],
   "source": [
    "import numpy as np\n",
    "import pandas as pd\n",
    "from sklearn.tree import DecisionTreeRegressor as dt\n",
    "from sklearn.datasets import load_iris\n",
    "from sklearn import tree\n",
    "import matplotlib.pyplot as plt"
   ],
   "metadata": {
    "collapsed": false,
    "pycharm": {
     "name": "#%%\n",
     "is_executing": false
    }
   }
  },
  {
   "cell_type": "code",
   "execution_count": 3,
   "outputs": [],
   "source": [
    "#def cal_cross_entropy(p):\n",
    "#    cross_entropy = -np.sum((p)*np.log(p))\n",
    "#    return cross_entropy\n",
    "\n",
    "def cal_cross_entropy(p):\n",
    "    return - p * np.log2(p) - (1 - p) * np.log2(1 - p)\n",
    "\n",
    "def cal_gini_index(p):\n",
    "    gini_index=np.sum(p*(1-p))\n",
    "    return gini_index\n",
    "\n",
    "def cal_misclassification_error(p):\n",
    "    return 1- np.max([p, 1 - p])\n"
   ],
   "metadata": {
    "collapsed": false,
    "pycharm": {
     "name": "#%%\n",
     "is_executing": false
    }
   }
  },
  {
   "cell_type": "markdown",
   "source": [
    "b. Apply the three functions you implemented in 1a on the training test (train.csv) of the heart-disease dataset. Choose the 'age' variable as the root node. Use each value in the 'age' variable as the splitting value. Plot the cross entropy, Gini index, and misclassification error over age on the two child nodes after splitting."
   ],
   "metadata": {
    "collapsed": false
   }
  },
  {
   "cell_type": "code",
   "execution_count": 5,
   "outputs": [],
   "source": [
    "# Your code goes here\n",
    "train=pd.read_csv(\"data/train.csv\")\n",
    "x=train['age'].values\n",
    "xy = train[['target','age']].values \n",
    "y=train['target'].values\n",
    "\n",
    "#Sorting the data based on column age\n",
    "xy = np.array(xy)\n",
    "x_y_sorted = xy[xy[:, 1].argsort()]"
   ],
   "metadata": {
    "collapsed": false,
    "pycharm": {
     "name": "#%%\n",
     "is_executing": false
    }
   }
  },
  {
   "cell_type": "code",
   "execution_count": 6,
   "outputs": [],
   "source": [
    "i=0\n",
    "p_1_left=[]\n",
    "p_1_right=[] \n",
    "p_1_l=0\n",
    "p_1_r=0\n",
    "counter1=0\n",
    "\n",
    "for i in range(len(x)):\n",
    "    if x_y_sorted[i,0]==1:\n",
    "        counter1=counter1+1\n",
    "    if x_y_sorted[i,0]==0:\n",
    "        counter1=counter1+0        \n",
    "    p_1_l=0\n",
    "    p_1_r=0 \n",
    "    p_1_l=counter1/(i+1)\n",
    "    p_1_r=(117-counter1)/(len(x)-i)\n",
    "    p_1_left.append(p_1_l)\n",
    "    p_1_right.append(p_1_r)"
   ],
   "metadata": {
    "collapsed": false,
    "pycharm": {
     "name": "#%%\n",
     "is_executing": false
    }
   }
  },
  {
   "cell_type": "code",
   "execution_count": 7,
   "outputs": [
    {
     "name": "stderr",
     "text": [
      "C:\\Anaconda3\\envs\\cs530\\lib\\site-packages\\ipykernel_launcher.py:6: RuntimeWarning: divide by zero encountered in log2\n",
      "  \n",
      "C:\\Anaconda3\\envs\\cs530\\lib\\site-packages\\ipykernel_launcher.py:6: RuntimeWarning: invalid value encountered in double_scalars\n",
      "  \n"
     ],
     "output_type": "stream"
    }
   ],
   "source": [
    "gin1=[]\n",
    "gin2=[]\n",
    "for i in range(len(x)):\n",
    "    gin_l=cal_gini_index(p_1_left[i])\n",
    "    gin1.append(gin_l)\n",
    "for i in range(len(x)):\n",
    "    gin_r=cal_gini_index(p_1_right[i])\n",
    "    gin2.append(gin_r)\n",
    "ent1=[]\n",
    "ent2=[]\n",
    "for i in range(len(x)):\n",
    "    ent_l=cal_cross_entropy(p_1_left[i])\n",
    "    ent1.append(ent_l)\n",
    "for i in range(len(x)):\n",
    "    ent_r=cal_cross_entropy(p_1_right[i])\n",
    "    ent2.append(ent_r)\n",
    "\n",
    "err1=[]\n",
    "err2=[]\n",
    "for i in range(len(x)):\n",
    "    err_l=cal_misclassification_error(p_1_left[i])\n",
    "    err1.append(err_l)\n",
    "for i in range(len(x)):\n",
    "    err_r=cal_misclassification_error(p_1_right[i])\n",
    "    err2.append(err_r)\n"
   ],
   "metadata": {
    "collapsed": false,
    "pycharm": {
     "name": "#%%\n",
     "is_executing": false
    }
   }
  },
  {
   "cell_type": "code",
   "execution_count": 8,
   "outputs": [
    {
     "data": {
      "text/plain": "[<matplotlib.lines.Line2D at 0x20a97139108>]"
     },
     "metadata": {},
     "output_type": "execute_result",
     "execution_count": 8
    },
    {
     "data": {
      "text/plain": "<Figure size 432x288 with 1 Axes>",
      "image/png": "[encoded data removed]"
     },
     "metadata": {
      "needs_background": "light"
     },
     "output_type": "display_data"
    }
   ],
   "source": [
    "plt.plot(x_y_sorted[:,1],gin1)\n",
    "plt.plot(x_y_sorted[:,1],ent1)\n",
    "plt.plot(x_y_sorted[:,1],err1)"
   ],
   "metadata": {
    "collapsed": false,
    "pycharm": {
     "name": "#%%\n",
     "is_executing": false
    }
   }
  },
  {
   "cell_type": "code",
   "execution_count": null,
   "outputs": [],
   "source": [
    "#plt.plot(x_y_sorted[:,1],gin2)\n",
    "#plt.plot(x_y_sorted[:,1],ent2)\n",
    "#plt.plot(x_y_sorted[:,1],err2)\n"
   ],
   "metadata": {
    "collapsed": false,
    "pycharm": {
     "name": "#%%\n"
    }
   }
  },
  {
   "cell_type": "markdown",
   "source": [
    "c. Discuss what you find in 1b. What age would you choose for the splitting value?"
   ],
   "metadata": {
    "collapsed": false
   }
  },
  {
   "cell_type": "code",
   "execution_count": null,
   "outputs": [],
   "source": [
    "# Your code goes here"
   ],
   "metadata": {
    "collapsed": false,
    "pycharm": {
     "name": "#%%\n"
    }
   }
  },
  {
   "cell_type": "code",
   "execution_count": null,
   "outputs": [],
   "source": [
    "#While I was expecting to get a concave down parabola based the research I did on net, but I am getting the above graph which while ocsillating the general trend is increasing for all gini index, entropy and classification error. Iw ould say the results are valid becasuse at least they in range of [0,1]. For splitting value I would choose 38 because it has the minimum error and minimum gini index."
   ],
   "metadata": {
    "collapsed": false,
    "pycharm": {
     "name": "#%%\n"
    }
   }
  },
  {
   "cell_type": "markdown",
   "source": [
    "#### Question 2. (3 points)"
   ],
   "metadata": {
    "collapsed": false
   }
  },
  {
   "cell_type": "markdown",
   "source": [
    "a. Implement a function to carry out the regression tree algorithm using the greedy approach. This implementation assumes the tree only splits twice. The function takes inputs X_train, y_train, and X_test, and return a prediction y_pred for X_test."
   ],
   "metadata": {
    "collapsed": false
   }
  },
  {
   "cell_type": "code",
   "execution_count": null,
   "outputs": [],
   "source": [
    "def regression_tree(X_train, y_train, X_test):\n",
    "    regressor = dt(criterion = 'mse', splitter = 'best', max_depth = 2).fit(X_train, y_train) \n",
    "    y_pred = regressor.predict(X_test)\n",
    "    return y_pred"
   ],
   "metadata": {
    "collapsed": false,
    "pycharm": {
     "name": "#%%\n"
    }
   }
  },
  {
   "cell_type": "markdown",
   "source": [
    "b. Use the function you implemented in 2a to predict on the synthetic data below."
   ],
   "metadata": {
    "collapsed": false
   }
  },
  {
   "cell_type": "code",
   "execution_count": null,
   "outputs": [],
   "source": [
    "from sklearn.datasets import make_regression\n",
    "from sklearn.model_selection import train_test_split\n",
    "# make a linearly separable dataset\n",
    "X, y = make_regression(n_samples=1000,\n",
    "                       n_features=3)\n",
    "X_train, X_test, y_train, y_test = train_test_split(X, y, test_size=0.33, random_state=42)\n"
   ],
   "metadata": {
    "collapsed": false,
    "pycharm": {
     "name": "#%%\n"
    }
   }
  },
  {
   "cell_type": "code",
   "execution_count": null,
   "outputs": [],
   "source": [
    "# Your code goes here\n",
    "y_pred = regression_tree(X_train, y_train, X_test)\n",
    "y_pred"
   ],
   "metadata": {
    "collapsed": false,
    "pycharm": {
     "name": "#%%\n"
    }
   }
  },
  {
   "cell_type": "markdown",
   "source": [
    "c. Do you think this implementation of the regression tree is a good model for this dataset? Explain."
   ],
   "metadata": {
    "collapsed": false
   }
  },
  {
   "cell_type": "code",
   "execution_count": null,
   "outputs": [],
   "source": [
    "# Your discussion goes here"
   ],
   "metadata": {
    "collapsed": false,
    "pycharm": {
     "name": "#%%\n"
    }
   }
  },
  {
   "cell_type": "markdown",
   "source": [
    "#### Question 3. (3 points)\n",
    "\n",
    "a. Use the scikit-learn package to run Bagging and Random Forest on the heart-disease dataset and predict on its test set. Use cross-validation to find the best parameters for these algorithms."
   ],
   "metadata": {
    "collapsed": false
   }
  },
  {
   "cell_type": "code",
   "execution_count": null,
   "outputs": [],
   "source": [
    "# Your code goes here"
   ],
   "metadata": {
    "collapsed": false,
    "pycharm": {
     "name": "#%%\n"
    }
   }
  },
  {
   "cell_type": "markdown",
   "source": [
    "b. On the same axes, plot the ROC curves for the two algorithms with the best parameters that you found in 3a. Annotate their AUC values and compare their performance. "
   ],
   "metadata": {
    "collapsed": false
   }
  },
  {
   "cell_type": "code",
   "execution_count": null,
   "outputs": [],
   "source": [
    "# Your code goes here"
   ],
   "metadata": {
    "collapsed": false,
    "pycharm": {
     "name": "#%%\n"
    }
   }
  },
  {
   "cell_type": "markdown",
   "source": [
    "c. Explain your results in 3b. Why might the results vary across algorithms?"
   ],
   "metadata": {
    "collapsed": false
   }
  },
  {
   "cell_type": "code",
   "execution_count": null,
   "outputs": [],
   "source": [
    "# Your discussion goes here"
   ],
   "metadata": {
    "collapsed": false,
    "pycharm": {
     "name": "#%%\n"
    }
   }
  },
  {
   "cell_type": "code",
   "execution_count": null,
   "outputs": [],
   "source": [],
   "metadata": {
    "collapsed": false,
    "pycharm": {
     "name": "#%%\n"
    }
   }
  }
 ],
 "metadata": {
  "kernelspec": {
   "display_name": "Python 3",
   "language": "python",
   "name": "python3"
  },
  "language_info": {
   "codemirror_mode": {
    "name": "ipython",
    "version": 3
   },
   "file_extension": ".py",
   "mimetype": "text/x-python",
   "name": "python",
   "nbconvert_exporter": "python",
   "pygments_lexer": "ipython3",
   "version": "3.7.1"
  },
  "pycharm": {
   "stem_cell": {
    "cell_type": "raw",
    "source": [],
    "metadata": {
     "collapsed": false
    }
   }
  }
 },
 "nbformat": 4,
 "nbformat_minor": 2
}