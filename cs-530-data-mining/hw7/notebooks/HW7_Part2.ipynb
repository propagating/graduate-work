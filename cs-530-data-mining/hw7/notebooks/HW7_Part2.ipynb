{
 "cells": [
  {
   "cell_type": "markdown",
   "metadata": {},
   "source": [
    "# CS530 Homework 7 Part 2"
   ]
  },
  {
   "cell_type": "markdown",
   "metadata": {},
   "source": [
    "Queston 1 (1 points) \n",
    "\n",
    "a. Fit a KNN classifier on the Heart Disease dataset from Homework 6 (data is also included in the folder here) using the Scikit-learn package, plot your ROC curve on the testing set and compute the AUC. \n"
   ]
  },
  {
   "cell_type": "code",
   "execution_count": 2,
   "metadata": {
    "pycharm": {
     "is_executing": false
    }
   },
   "outputs": [
    {
     "name": "stdout",
     "text": [
      "0.7982456140350878\n"
     ],
     "output_type": "stream"
    },
    {
     "data": {
      "text/plain": "<Figure size 432x288 with 1 Axes>",
      "image/png": "[encoded data removed]"
     },
     "metadata": {
      "needs_background": "light"
     },
     "output_type": "display_data"
    }
   ],
   "source": [
    "# Your code goes here\n",
    "from sklearn.neighbors import KNeighborsClassifier\n",
    "import pandas as pd\n",
    "import numpy as np\n",
    "from sklearn import metrics\n",
    "import matplotlib.pyplot as plt\n",
    "\n",
    "\n",
    "def predict_knn_classifier(descriptors, target, knn=None):\n",
    "    if knn is None:\n",
    "        knn = KNeighborsClassifier().fit(descriptors, target)\n",
    "    knn.predict(descriptors)\n",
    "    accuracy = knn.score(descriptors, target)\n",
    "    print(accuracy)\n",
    "    return knn\n",
    "\n",
    "\n",
    "trainData = pd.read_csv('notebooks\\\\data\\\\train.csv', sep=',', index_col=0)\n",
    "trainDescriptors = trainData.drop(['target'], axis=1)\n",
    "trainTarget = trainData['target']\n",
    "\n",
    "testData = pd.read_csv('notebooks\\\\data\\\\test.csv', sep=',', index_col=0)\n",
    "testDescriptors = testData.drop(['target'], axis=1)\n",
    "testTarget = testData['target']\n",
    "\n",
    "predictedModel = predict_knn_classifier(trainDescriptors, trainTarget, None)\n",
    "predictions = predictedModel.predict_proba(testDescriptors)\n",
    "falsePositiveRate, truePositiveRate, thresholds = metrics.roc_curve(testTarget, predictions[::, 1])\n",
    "areaUnderCurve = metrics.auc(falsePositiveRate, truePositiveRate)\n",
    "\n",
    "givenThresholds = np.linspace(0.0, 1.0, 20)\n",
    "plt.plot(falsePositiveRate, truePositiveRate)\n",
    "plt.plot(givenThresholds, givenThresholds)\n",
    "plt.xlabel('Average False Positive Rate')\n",
    "plt.ylabel('Average True Positive Rate')\n",
    "plt.title('KNN ROC AUC : ' + str(np.round(areaUnderCurve, 4)))\n",
    "plt.show()"
   ]
  },
  {
   "cell_type": "markdown",
   "metadata": {},
   "source": [
    "b. Compare your result with HW6. Does KNN do better on the classification? Explain\n",
    "\n"
   ]
  },
  {
   "cell_type": "markdown",
   "metadata": {
    "pycharm": {
     "name": "#%% md\n"
    }
   },
   "source": [
    "## Explanation\n",
    "KNN initially does worse than the Logit and LDA. One of the potential reasons is the lack of assumptions in KNN. While Logit \n",
    "and LDA do need to make assumptions regarding the training and test data, those assumptions allow for stronger classifications\n",
    "if the assumptions are met, with the trade off being that they are weaker if those assumptions are missing. KNN doesn't make \n",
    "any assumptions about hte underlying data, and is in a sense an attempt at 'raw' classification as a result. KNN also works better \n",
    "across much larger data sets, so the lack of strong assumptions and relatively small dataset explain its worse accuracy."
   ]
  },
  {
   "cell_type": "markdown",
   "metadata": {},
   "source": [
    "Question 2 (2 points) Implement from scratch the function MyKNN() that classifies the matrix X_test (samples × features) using the KNN algorithm we learned in class. The inputs for the function should be the training set X_train, the labels y_train, the parameter k, and the matrix X_test. The output for the function should be y_test, your prediction for the label of X_test. Test your function on the Iris dataset and compare it to the KNN classifier (use the default parameters other than n_neighbors) of scikit-learn for that dataset (as in Question 1).\n"
   ]
  },
  {
   "cell_type": "code",
   "execution_count": null,
   "metadata": {},
   "outputs": [],
   "source": [
    "def MyKNN(X_train, y_train, k, X_test):\n",
    "    return y_test"
   ]
  },
  {
   "cell_type": "markdown",
   "metadata": {},
   "source": [
    "Question 3 (3 points) \n",
    "\n",
    "a. Create two 2-dimensional Gaussian (normal) distribution with mean (1,0) and (-1,0), and the identity matric as their covariance matrices. Create labels for the data of the two distribution, apply train-test-split, and use KNN to make a prediction on the test set. (Hint: Use the [numpy.random.multivariate_normal](https://docs.scipy.org/doc/numpy-1.15.1/reference/generated/numpy.random.multivariate_normal.html) to create normal distribution dataset) "
   ]
  },
  {
   "cell_type": "code",
   "execution_count": null,
   "metadata": {},
   "outputs": [],
   "source": [
    "# Your code goes here"
   ]
  },
  {
   "cell_type": "markdown",
   "metadata": {},
   "source": [
    "b. Now, we want to create Gaussians of dimensions 1 to 100 to see what happens to KNN as the number of dimensions close. Therefore, use a for loop to simulate two Gaussian distributions with dimensions from 1 to 100. Keep the distance between the center of the two distributions the same. One way to do this is to have the mean of the one distribution bee (1,0,0,...,0) and the other one be (-1,0,0,...,0). In other words, both Gaussians would have their center at 0 in all dimensions except $x_1$. Keep the covariance matrices as identity matrices. Hence, the distance between the two distributions will always be 2. Now, as before, apply a train-test-split, predict on the test set, and record the accuracies in each iteration of the loop. Finally, plot your accuracies over the number of dimensions using matplotlib."
   ]
  },
  {
   "cell_type": "code",
   "execution_count": null,
   "metadata": {},
   "outputs": [],
   "source": [
    "# Your code goes here"
   ]
  },
  {
   "cell_type": "markdown",
   "metadata": {},
   "source": [
    "c. Discuss what you found in the accuracy plot in 3b. Why do you think you got those results?"
   ]
  }
 ],
 "metadata": {
  "kernelspec": {
   "display_name": "Python 3",
   "language": "python",
   "name": "python3"
  },
  "language_info": {
   "codemirror_mode": {
    "name": "ipython",
    "version": 3
   },
   "file_extension": ".py",
   "mimetype": "text/x-python",
   "name": "python",
   "nbconvert_exporter": "python",
   "pygments_lexer": "ipython3",
   "version": "3.6.8"
  },
  "pycharm": {
   "stem_cell": {
    "cell_type": "raw",
    "source": [],
    "metadata": {
     "collapsed": false
    }
   }
  }
 },
 "nbformat": 4,
 "nbformat_minor": 2
}