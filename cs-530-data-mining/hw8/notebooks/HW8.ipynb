{
 "cells": [
  {
   "cell_type": "markdown",
   "metadata": {},
   "source": [
    "# CS530 HW8"
   ]
  },
  {
   "cell_type": "markdown",
   "metadata": {},
   "source": [
    "#### Question 1. (4 points)\n",
    "\n",
    "a. For classification trees, implement three functions to calculate the (1) cross-entropy, (2) Gini index, and (3) misclassification error. Assume binary classification (labels are 0’s and 1’s). The functions takes p_1, the probability of a record belong to class k=1, as input."
   ]
  },
  {
   "cell_type": "code",
   "execution_count": 1,
   "metadata": {
    "pycharm": {
     "is_executing": false
    }
   },
   "outputs": [],
   "source": [
    "import numpy as np\n",
    "import pandas as pd\n",
    "import matplotlib.pyplot as plt\n",
    "from sklearn import tree\n",
    "\n",
    "\n",
    "def calculate_cross_entropy(p):\n",
    "    cross_entropy = 0\n",
    "    for i in p:\n",
    "        cross_entropy += i * np.log2(i)\n",
    "    return cross_entropy * -1\n",
    "\n",
    "\n",
    "def calculate_gini_index(p):\n",
    "    gini_index = 0\n",
    "    for i in p:\n",
    "        gini_index += i * (1 - i)\n",
    "    return gini_index\n",
    "\n",
    "\n",
    "def calculate_misclassification_error(p):\n",
    "    mc_error = 0\n",
    "    for i in p:\n",
    "        mc_error += i * (1 - i)\n",
    "    return mc_error\n",
    "\n",
    "\n",
    "def split_data_at_value(data, value):\n",
    "    classification = np.array([])\n",
    "    for v in data:\n",
    "        if v >= value:\n",
    "            classification = np.append(classification, [1])\n",
    "        else:\n",
    "            classification = np.append(classification, [0])\n",
    "    return classification\n",
    "\n",
    "\n",
    "def calculate_probability_1(data):\n",
    "    total = len(data)\n",
    "    ones = np.count_nonzero(data == 1)\n",
    "    return ones / total"
   ]
  },
  {
   "cell_type": "markdown",
   "metadata": {},
   "source": [
    "b. Apply the three functions you implemented in 1a on the training test (train.csv) of the heart-disease dataset. Choose the 'age' variable as the root node. Use each value in the 'age' variable as the splitting value. Plot the cross entropy, Gini index, and misclassification error over age on the two child nodes after splitting."
   ]
  },
  {
   "cell_type": "code",
   "execution_count": 2,
   "metadata": {
    "pycharm": {
     "is_executing": false
    }
   },
   "outputs": [
    {
     "data": {
      "text/plain": "<Figure size 432x288 with 3 Axes>",
      "image/png": "[encoded data removed]"
     },
     "metadata": {
      "needs_background": "light"
     },
     "output_type": "display_data"
    }
   ],
   "source": [
    "# Your code goes here\n",
    "\n",
    "trainData = pd.read_csv('data\\\\train.csv', sep=',', index_col=0)\n",
    "testData = pd.read_csv('data\\\\test.csv', sep=',', index_col=0)\n",
    "\n",
    "giniIndex = np.array([])\n",
    "crossEntropy = np.array([])\n",
    "misclassification = np.array([])\n",
    "\n",
    "for i in trainData['age']:\n",
    "    split = split_data_at_value(trainData['age'], i)\n",
    "    probabilities = np.array([calculate_probability_1(split)])\n",
    "    cross = calculate_cross_entropy(probabilities)\n",
    "    crossEntropy = np.append(crossEntropy, cross)\n",
    "    gini = calculate_gini_index(probabilities)\n",
    "    giniIndex = np.append(giniIndex, gini)\n",
    "    misError = calculate_misclassification_error(probabilities)\n",
    "    misclassification = np.append(misclassification, misError)\n",
    "    # print(f'split: {i}'\n",
    "    #       f'\\nprobability 1: {probabilities[0]}'\n",
    "    #       f'\\ncross entropy : {cross}'\n",
    "    #       f'\\ngini index : {gini}'\n",
    "    #       f'\\nmisclassification error : {misError}')\n",
    "\n",
    "\n",
    "plt.subplot(3, 1, 1)\n",
    "plt.ylim(top=.5, bottom=-.1)\n",
    "plt.title('Misclassification Error')\n",
    "plt.scatter(x=trainData[\"age\"], y=misclassification)\n",
    "plt.subplot(3, 1, 2)\n",
    "plt.title('Gini Index')\n",
    "plt.ylim(top=.5, bottom=-.1)\n",
    "plt.scatter(x=trainData[\"age\"], y=giniIndex)\n",
    "plt.subplot(3, 1, 3)\n",
    "plt.title('Cross Entropy')\n",
    "plt.scatter(x=trainData[\"age\"], y=crossEntropy)\n",
    "plt.show()"
   ]
  },
  {
   "cell_type": "markdown",
   "metadata": {},
   "source": [
    "c. Discuss what you find in 1b. What age would you choose for the splitting value?"
   ]
  },
  {
   "cell_type": "markdown",
   "metadata": {
    "pycharm": {
     "is_executing": false,
     "name": "#%% md\n"
    }
   },
   "source": [
    "# Discussion\n",
    "For each measure, there's a noticeably increasing trend across all errors and measures as the\n",
    "split occurs at a later and later point, maxing out around 60 years old for the largest error.\n",
    "The place place to split seems to be in the low 40s, however, the lack of data at the lower end could mean\n",
    "that there are unknowns here that age alone cannot describe."
   ]
  },
  {
   "cell_type": "code",
   "execution_count": 3,
   "metadata": {
    "pycharm": {
     "is_executing": false
    }
   },
   "outputs": [],
   "source": []
  },
  {
   "cell_type": "markdown",
   "metadata": {},
   "source": [
    "#### Question 2. (3 points)"
   ]
  },
  {
   "cell_type": "markdown",
   "metadata": {},
   "source": [
    "a. Implement a function to carry out the regression tree algorithm using the greedy approach. This implementation assumes the tree only splits twice. The function takes inputs X_train, y_train, and X_test, and return a prediction y_pred for X_test."
   ]
  },
  {
   "cell_type": "code",
   "execution_count": 7,
   "metadata": {
    "pycharm": {
     "is_executing": false
    }
   },
   "outputs": [],
   "source": [
    "def regression_tree(X_train, y_train, X_test):\n",
    "    clf = tree.DecisionTreeRegressor(criterion='mse', splitter='best', max_depth=2).fit(X_train, y_train)\n",
    "    score = clf.score(X_train, y_train)\n",
    "    y_pred = clf.predict(X_test)\n",
    "    print(score)\n",
    "    return y_pred"
   ]
  },
  {
   "cell_type": "markdown",
   "metadata": {},
   "source": [
    "b. Use the function you implemented in 2a to predict on the synthetic data below."
   ]
  },
  {
   "cell_type": "code",
   "execution_count": 14,
   "metadata": {
    "pycharm": {
     "is_executing": false
    }
   },
   "outputs": [],
   "source": [
    "from sklearn.datasets import make_regression\n",
    "from sklearn.model_selection import train_test_split\n",
    "# make a linearly separable dataset\n",
    "X, y = make_regression(n_samples=1000,\n",
    "                       n_features=3)\n",
    "X_train, X_test, y_train, y_test = train_test_split(X, y, test_size=0.33, random_state=42)\n"
   ]
  },
  {
   "cell_type": "code",
   "execution_count": 15,
   "metadata": {
    "pycharm": {
     "is_executing": false
    }
   },
   "outputs": [
    {
     "name": "stdout",
     "text": [
      "0.602009862160638\n"
     ],
     "output_type": "stream"
    }
   ],
   "source": [
    "# Your code goes here\n",
    "output = regression_tree(X_train, y_train, X_test)\n"
   ]
  },
  {
   "cell_type": "markdown",
   "metadata": {},
   "source": [
    "c. Do you think this implementation of the regression tree is a good model for this dataset? Explain."
   ]
  },
  {
   "cell_type": "markdown",
   "metadata": {
    "pycharm": {
     "is_executing": false,
     "name": "#%% md\n"
    }
   },
   "source": [
    "# Discussion\n",
    "\n",
    "It's hard to tell if it would be a good fit or not, as there are only 3 features, a regression tree might make sense as \n",
    "it has the ability to be truly greedy and brute force all of the allowed splits at max depth without using up \n",
    "a huge amount of time and processing power. Because of that, a decision tree seems to be an okay choice, but its accuracy\n",
    "is not consistent with the random nature of the dataset provided. Beacuse of that, there may be other ideal classifiers for this \n",
    "dataset."
   ]
  },
  {
   "cell_type": "markdown",
   "metadata": {},
   "source": [
    "#### Question 3. (3 points)\n",
    "\n",
    "a. Use the scikit-learn package to run Bagging and Random Forest on the heart-disease dataset and predict on its test set. Use cross-validation to find the best parameters for these algorithms."
   ]
  },
  {
   "cell_type": "code",
   "execution_count": 8,
   "metadata": {
    "pycharm": {
     "is_executing": false
    }
   },
   "outputs": [],
   "source": [
    "# Your code goes here\n",
    "import numpy as np\n",
    "import pandas as pd\n",
    "import matplotlib.pyplot as plt\n",
    "from sklearn.ensemble import BaggingClassifier, RandomForestClassifier\n",
    "from sklearn import metrics\n",
    "from sklearn.metrics import roc_curve\n",
    "from sklearn.metrics import roc_auc_score\n",
    "\n",
    "\n",
    "def fit_bag_est(desc, target, estimators=10):\n",
    "    bag = BaggingClassifier(n_estimators=estimators, oob_score=True)\n",
    "    bag.fit(desc, target)\n",
    "    score = bag.oob_score_\n",
    "    print(score)\n",
    "    return bag\n",
    "\n",
    "\n",
    "def fit_forest_est(desc, target, estimators=10):\n",
    "    forrest = RandomForestClassifier(n_estimators=estimators, oob_score=True)\n",
    "    forrest.fit(desc, target)\n",
    "    score = forrest.oob_score_\n",
    "    print(score)\n",
    "    return forrest\n",
    "\n",
    "\n",
    "def calc_roc(trainTarget, testTarget, predictor):\n",
    "    confusion_matrix = pd.crosstab(testTarget, predictor)\n",
    "    metrics.accuracy_score(testTarget, predictor)\n",
    "    predict_probabilities = predictor.predict_proba(trainTarget)\n",
    "    fpr, tpr, thr = metrics.roc_curve(testTarget, predict_probabilities[:, 1])\n",
    "    return fpr, tpr, thr\n",
    "\n",
    "\n",
    "trainData = pd.read_csv('data\\\\train.csv', sep=',', index_col=0)\n",
    "testData = pd.read_csv('data\\\\test.csv', sep=',', index_col=0)\n",
    "\n",
    "trainDescriptors = trainData.drop(columns=['target'], axis=1)\n",
    "trainTarget = trainData['target']\n",
    "\n",
    "testDescriptors = testData.drop(columns=['target'], axis=1)\n",
    "testTarget = testData['target']\n",
    "\n",
    "bagEst = fit_bag_est(trainDescriptors, trainTarget, 100)\n",
    "bagPredictor = bagEst.predict(testDescriptors)\n",
    "print(bagPredictor)\n",
    "\n",
    "forrestEst = fit_bag_est(trainDescriptors, trainTarget, 100)\n",
    "forrestPredictor = forrestEst.predict(testDescriptors)\n",
    "print(forrestPredictor)\n",
    "\n",
    "\n",
    "descriptors = len(trainDescriptors.columns)\n",
    "maxSplit = 20\n",
    "\n",
    "minEstimators = 1\n",
    "maxEstimators = descriptors * maxSplit\n",
    "\n",
    "bagError = np.array([])\n",
    "forrestError = np.array([])\n",
    "\n",
    "for i in range(minEstimators, maxEstimators):\n",
    "    bagEst = fit_bag_est(trainDescriptors, trainTarget, i)\n",
    "    bagPredictor = bagEst.predict(testDescriptors)\n",
    "    bagError = np.append(bagError, bagEst.oob_score_)\n",
    "\n",
    "    forrestEst = fit_bag_est(trainDescriptors, trainTarget, i)\n",
    "    forrestPredictor = forrestEst.predict(testDescriptors)\n",
    "    forrestError = np.append(forrestError, forrestEst.oob_score_)\n",
    "\n",
    "x = range(minEstimators, maxEstimators)\n",
    "plt.plot(x, bagError)\n",
    "plt.show()\n",
    "\n",
    "x = range(minEstimators, maxEstimators)\n",
    "plt.plot(x, forrestError)\n",
    "plt.show()\n"
   ]
  },
  {
   "cell_type": "markdown",
   "metadata": {},
   "source": [
    "b. On the same axes, plot the ROC curves for the two algorithms with the best parameters that you found in 3a. Annotate their AUC values and compare their performance. "
   ]
  },
  {
   "cell_type": "code",
   "execution_count": 9,
   "metadata": {
    "pycharm": {
     "is_executing": false
    }
   },
   "outputs": [],
   "source": []
  },
  {
   "cell_type": "markdown",
   "metadata": {},
   "source": [
    "c. Explain your results in 3b. Why might the results vary across algorithms?"
   ]
  },
  {
   "cell_type": "code",
   "execution_count": 10,
   "metadata": {
    "pycharm": {
     "is_executing": false
    }
   },
   "outputs": [],
   "source": [
    "# Your discussion goes here"
   ]
  },
  {
   "cell_type": "code",
   "execution_count": 10,
   "metadata": {
    "pycharm": {
     "is_executing": false
    }
   },
   "outputs": [],
   "source": []
  }
 ],
 "metadata": {
  "kernelspec": {
   "name": "python3",
   "language": "python",
   "display_name": "Python 3"
  },
  "language_info": {
   "codemirror_mode": {
    "name": "ipython",
    "version": 3
   },
   "file_extension": ".py",
   "mimetype": "text/x-python",
   "name": "python",
   "nbconvert_exporter": "python",
   "pygments_lexer": "ipython3",
   "version": "3.6.8"
  },
  "pycharm": {
   "stem_cell": {
    "cell_type": "raw",
    "source": [],
    "metadata": {
     "collapsed": false
    }
   }
  }
 },
 "nbformat": 4,
 "nbformat_minor": 2
}