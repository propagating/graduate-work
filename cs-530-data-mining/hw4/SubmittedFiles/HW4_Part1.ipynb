{
 "cells": [
  {
   "cell_type": "markdown",
   "metadata": {},
   "source": [
    "## CS530 Data Mining Homework 4 part 1\n",
    "\n",
    "#### Question 1 (3 points): The Iris Dataset \n",
    "\n",
    "Load the Iris dataset using “datasets.load_iris()” from the Scikit-learn library. You can find the documentation of this dataset on Scikit-learn. Then Write a function that takes in two inputs:\n",
    "1.\tThe data part of the Iris set without the labels\n",
    "2.\tk, the number of clusters\n",
    "The function should implement the k-means algorithm as learned in class. Hence, the output of the function should be a list of cluster labels for each record of the Iris dataset, from 1 to k. "
   ]
  },
  {
   "cell_type": "code",
   "execution_count": 35,
   "metadata": {
    "pycharm": {
     "is_executing": false
    }
   },
   "outputs": [],
   "source": [
    "import numpy as np\n",
    "from sklearn.datasets import load_iris\n",
    "\n",
    "\n",
    "def cluster_data(x, y):\n",
    "    y = np.asarray(y)\n",
    "    x = np.asarray(x)\n",
    "    y_uniques = np.unique(y)\n",
    "    return [x[y == yi] for yi in y_uniques]\n",
    "\n",
    "\n",
    "def euclidean_distance(u, v):\n",
    "    totalDistance = 0\n",
    "    for i in range(len(u)):\n",
    "        distance = np.math.sqrt((u[i] - v[i]) ** 2)\n",
    "        totalDistance += distance\n",
    "    return totalDistance\n",
    "\n",
    "\n",
    "def update_cluster_label(centroids, cluster_labels, x):\n",
    "    for i in range(len(x)):\n",
    "        distance = [np.linalg.norm(x[i] - centroid) for centroid in centroids]\n",
    "        label = distance.index(min(distance))\n",
    "        cluster_labels.append(label)\n",
    "\n",
    "\n",
    "def update_centroid(centroids, clusters):\n",
    "    for i in range(len(clusters)):\n",
    "        centroid = clusters[i].mean(axis=0)\n",
    "        centroids[i] = centroid\n",
    "\n",
    "\n",
    "def k_means(x, k=3, max_iterations=1000, tolerance=0.001):\n",
    "    cluster_labels = []\n",
    "    currentIterations = 0\n",
    "    centroids = x[np.random.choice(x.shape[0], k, replace=False), :]\n",
    "\n",
    "    while True:\n",
    "        update_cluster_label(centroids, cluster_labels, x)\n",
    "        clusters = cluster_data(x, cluster_labels)\n",
    "\n",
    "        previousCentroids = np.array(centroids)\n",
    "        update_centroid(centroids, clusters)\n",
    "        currentError = np.sum((centroids - previousCentroids) / previousCentroids * 100, dtype=np.float32)\n",
    "        if (currentIterations >= max_iterations) or (abs(currentError) <= tolerance):\n",
    "            print(f'Iterations : {currentIterations}')\n",
    "            print(f'Current Error : {currentError}')\n",
    "            print(f'Current Centroids : {centroids}')\n",
    "            break\n",
    "        cluster_labels = []\n",
    "        currentIterations += 1\n",
    "\n",
    "    return cluster_labels"
   ]
  },
  {
   "cell_type": "code",
   "execution_count": 36,
   "outputs": [
    {
     "name": "stdout",
     "text": [
      "Iterations : 7\n",
      "Current Error : 0.0\n",
      "Current Centroids : [[6.85       3.07368421 5.74210526 2.07105263]\n",
      " [5.9016129  2.7483871  4.39354839 1.43387097]\n",
      " [5.006      3.428      1.462      0.246     ]]\n",
      "[2, 2, 2, 2, 2, 2, 2, 2, 2, 2, 2, 2, 2, 2, 2, 2, 2, 2, 2, 2, 2, 2, 2, 2, 2, 2, 2, 2, 2, 2, 2, 2, 2, 2, 2, 2, 2, 2, 2, 2, 2, 2, 2, 2, 2, 2, 2, 2, 2, 2, 1, 1, 0, 1, 1, 1, 1, 1, 1, 1, 1, 1, 1, 1, 1, 1, 1, 1, 1, 1, 1, 1, 1, 1, 1, 1, 1, 0, 1, 1, 1, 1, 1, 1, 1, 1, 1, 1, 1, 1, 1, 1, 1, 1, 1, 1, 1, 1, 1, 1, 0, 1, 0, 0, 0, 0, 1, 0, 0, 0, 0, 0, 0, 1, 1, 0, 0, 0, 0, 1, 0, 1, 0, 1, 0, 0, 1, 1, 0, 0, 0, 0, 0, 1, 0, 0, 0, 0, 1, 0, 0, 0, 1, 0, 0, 0, 1, 0, 0, 1]\n"
     ],
     "output_type": "stream"
    }
   ],
   "source": [
    "iris = load_iris()\n",
    "X = iris.data\n",
    "labels = k_means(X)\n",
    "print(labels)\n"
   ],
   "metadata": {
    "collapsed": false,
    "pycharm": {
     "name": "#%%\n",
     "is_executing": false
    }
   }
  }
 ],
 "metadata": {
  "kernelspec": {
   "name": "python3",
   "language": "python",
   "display_name": "Python 3"
  },
  "language_info": {
   "codemirror_mode": {
    "name": "ipython",
    "version": 3
   },
   "file_extension": ".py",
   "mimetype": "text/x-python",
   "name": "python",
   "nbconvert_exporter": "python",
   "pygments_lexer": "ipython3",
   "version": "3.6.8"
  },
  "pycharm": {
   "stem_cell": {
    "cell_type": "raw",
    "source": [],
    "metadata": {
     "collapsed": false
    }
   }
  }
 },
 "nbformat": 4,
 "nbformat_minor": 2
}