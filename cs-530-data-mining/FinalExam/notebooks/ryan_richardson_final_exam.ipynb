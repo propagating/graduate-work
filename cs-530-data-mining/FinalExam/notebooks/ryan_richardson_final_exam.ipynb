{
 "cells": [
  {
   "cell_type": "markdown",
   "metadata": {},
   "source": [
    "# CS 530 – Final take home exam  (20 points)\n",
    "## Due: Sunday, May 24 at 11:59am\n",
    "     ++++++++++++++++++++++++++++++++++++++++++++++++++++++++++++++++++++++++++++++++++++++++++++++++++++++\n",
    "**This exam is individual and—unlike the final project—is therefore meant to be taken alone rather than in a group. Please write your name below to certify that you have worked on this exam by yourself and the code written in this exam as well as all the text explaining your results is yours and yours alone or code that you yourself have found only legitimately and in the public domain on the internet. You have not discussed this exam with anyone else and certainly have not used code, text, or other information from anyone in any part of the exam below. You have also not shared any code or text that you have written with anyone else.<br>\n",
    "Your name: _____________________________________________________ <br>**\n",
    "\n",
    "\n",
    "Make sure you submit your zipped file (Jupyter notebook + CSV file) to Canvas after you finish this exam (do not attach the dataset). In addition, we strongly encourage you to do all of the following to minimize loss of points of this exam:\n",
    "<li>   Double check and make sure that all your code blocks runs smoothly. This should be the very last thing you do before submitting. If you then change just one little thing in the code, check again that it all runs well before submitting. Submitting code that does not run will be highly detrimental for your grade.\n",
    "<li>   The Jupyter notebook should be readable, well designed and styled. It should look like a report to solve an important problem (not something put together hastily and haphazardly). Clean up your block outputs. Do not leave anything that might be confusing for the reader. In this exam, just like in real life, if your report is confusing to the reader, that is on you and not on the reader. One way to achieve this is to finish the exam well in advance of the deadline, go do something else for a day or two, and then read your submission carefully again. You will typically find that many things that were supposedly clear to you when you read the submission just after finishing writing it all no longer make sense when you read it a few days later. Naturally, if it is not clear to you a few days later, it would not be clear to any other reader too. This will give you a chance to modify your submission before finally submitting it.\n",
    "\n",
    "     \n",
    "     ++++++++++++++++++++++++++++++++++++++++++++++++++++++++++++++++++++++++++++++++++++++++++++++++++++++\n",
    "\n",
    "\n"
   ]
  },
  {
   "cell_type": "markdown",
   "metadata": {},
   "source": [
    "**In the questions below, make sure to use the appropriate goodness of fit measures in your discussion (R^2, adjusted R^2, AIC, BIC, accuracy, ROC AUC, ...). When you carry out any improvements you think you can make to the machine-learning models you build, you should explain whether they work, and—importantly—why. Visualizing the dataset and plotting various graphs as discussed below is important. But you must convince us that you understand why you got the results that you did**\n",
    "\n",
    "(8 points)  Q1. Load the dataset in the zip file with the below code:"
   ]
  },
  {
   "cell_type": "code",
   "execution_count": 1,
   "metadata": {},
   "outputs": [
    {
     "name": "stderr",
     "output_type": "stream",
     "text": [
      "Using TensorFlow backend.\n",
      "C:\\Anaconda3\\lib\\site-packages\\tensorflow\\python\\framework\\dtypes.py:516: FutureWarning: Passing (type, 1) or '1type' as a synonym of type is deprecated; in a future version of numpy, it will be understood as (type, (1,)) / '(1,)type'.\n",
      "  _np_qint8 = np.dtype([(\"qint8\", np.int8, 1)])\n",
      "C:\\Anaconda3\\lib\\site-packages\\tensorflow\\python\\framework\\dtypes.py:517: FutureWarning: Passing (type, 1) or '1type' as a synonym of type is deprecated; in a future version of numpy, it will be understood as (type, (1,)) / '(1,)type'.\n",
      "  _np_quint8 = np.dtype([(\"quint8\", np.uint8, 1)])\n",
      "C:\\Anaconda3\\lib\\site-packages\\tensorflow\\python\\framework\\dtypes.py:518: FutureWarning: Passing (type, 1) or '1type' as a synonym of type is deprecated; in a future version of numpy, it will be understood as (type, (1,)) / '(1,)type'.\n",
      "  _np_qint16 = np.dtype([(\"qint16\", np.int16, 1)])\n",
      "C:\\Anaconda3\\lib\\site-packages\\tensorflow\\python\\framework\\dtypes.py:519: FutureWarning: Passing (type, 1) or '1type' as a synonym of type is deprecated; in a future version of numpy, it will be understood as (type, (1,)) / '(1,)type'.\n",
      "  _np_quint16 = np.dtype([(\"quint16\", np.uint16, 1)])\n",
      "C:\\Anaconda3\\lib\\site-packages\\tensorflow\\python\\framework\\dtypes.py:520: FutureWarning: Passing (type, 1) or '1type' as a synonym of type is deprecated; in a future version of numpy, it will be understood as (type, (1,)) / '(1,)type'.\n",
      "  _np_qint32 = np.dtype([(\"qint32\", np.int32, 1)])\n",
      "C:\\Anaconda3\\lib\\site-packages\\tensorflow\\python\\framework\\dtypes.py:525: FutureWarning: Passing (type, 1) or '1type' as a synonym of type is deprecated; in a future version of numpy, it will be understood as (type, (1,)) / '(1,)type'.\n",
      "  np_resource = np.dtype([(\"resource\", np.ubyte, 1)])\n",
      "C:\\Anaconda3\\lib\\site-packages\\tensorboard\\compat\\tensorflow_stub\\dtypes.py:541: FutureWarning: Passing (type, 1) or '1type' as a synonym of type is deprecated; in a future version of numpy, it will be understood as (type, (1,)) / '(1,)type'.\n",
      "  _np_qint8 = np.dtype([(\"qint8\", np.int8, 1)])\n",
      "C:\\Anaconda3\\lib\\site-packages\\tensorboard\\compat\\tensorflow_stub\\dtypes.py:542: FutureWarning: Passing (type, 1) or '1type' as a synonym of type is deprecated; in a future version of numpy, it will be understood as (type, (1,)) / '(1,)type'.\n",
      "  _np_quint8 = np.dtype([(\"quint8\", np.uint8, 1)])\n",
      "C:\\Anaconda3\\lib\\site-packages\\tensorboard\\compat\\tensorflow_stub\\dtypes.py:543: FutureWarning: Passing (type, 1) or '1type' as a synonym of type is deprecated; in a future version of numpy, it will be understood as (type, (1,)) / '(1,)type'.\n",
      "  _np_qint16 = np.dtype([(\"qint16\", np.int16, 1)])\n",
      "C:\\Anaconda3\\lib\\site-packages\\tensorboard\\compat\\tensorflow_stub\\dtypes.py:544: FutureWarning: Passing (type, 1) or '1type' as a synonym of type is deprecated; in a future version of numpy, it will be understood as (type, (1,)) / '(1,)type'.\n",
      "  _np_quint16 = np.dtype([(\"quint16\", np.uint16, 1)])\n",
      "C:\\Anaconda3\\lib\\site-packages\\tensorboard\\compat\\tensorflow_stub\\dtypes.py:545: FutureWarning: Passing (type, 1) or '1type' as a synonym of type is deprecated; in a future version of numpy, it will be understood as (type, (1,)) / '(1,)type'.\n",
      "  _np_qint32 = np.dtype([(\"qint32\", np.int32, 1)])\n",
      "C:\\Anaconda3\\lib\\site-packages\\tensorboard\\compat\\tensorflow_stub\\dtypes.py:550: FutureWarning: Passing (type, 1) or '1type' as a synonym of type is deprecated; in a future version of numpy, it will be understood as (type, (1,)) / '(1,)type'.\n",
      "  np_resource = np.dtype([(\"resource\", np.ubyte, 1)])\n"
     ]
    }
   ],
   "source": [
    "import numpy as np\n",
    "import keras\n",
    "from keras import Sequential\n",
    "from keras.layers import Dense, Conv2D, MaxPooling2D, Dropout, Flatten,BatchNormalization\n",
    "from keras.optimizers import SGD, Adadelta, RMSprop\n",
    "from keras_preprocessing.image import ImageDataGenerator\n",
    "import warnings\n",
    "warnings.filterwarnings('ignore')\n",
    "warnings.simplefilter('ignore')\n"
   ]
  },
  {
   "cell_type": "code",
   "execution_count": 2,
   "metadata": {},
   "outputs": [
    {
     "name": "stdout",
     "output_type": "stream",
     "text": [
      "(47520, 784) (6480, 784) (47520,) (6480,)\n"
     ]
    }
   ],
   "source": [
    "\n",
    "xtrain = np.loadtxt('xtrain.csv')\n",
    "xtest = np.loadtxt('xtest.csv')\n",
    "ytrain = np.loadtxt('ytrain.csv')\n",
    "ytest = np.loadtxt('ytest.csv')\n",
    "print(xtrain.shape, xtest.shape, ytrain.shape, ytest.shape)"
   ]
  },
  {
   "cell_type": "markdown",
   "metadata": {},
   "source": [
    "This dataset consists of 47,520 training samples and 6,480 test samples. Each example is a 28x28 grayscale image, associated with a label from 1 of 9 possible classes. \n",
    "\n",
    "In this question, you will design a classification neural network. When asked to discuss various effects below, discussing them in relation to the bias-variance tradeoff is likely to be useful. \n",
    "\n",
    "<li> a) Visualize this dataset (5 samples for each class).<br>\n",
    "<li> b) Do the data preprocessing for your neural network. <br>\n",
    "<li> c)Use the Keras package and train a neural network to achieve at least 90% accuracy on the test set. Explain the architecture you chose—i.e., the number of layers, their width, the neuron types, the activation functions, etc. \n",
    "<li>d) Use at least 3 regularization techniques to improve the accuracy of the network you designed in part (a). Describe the improvement in the classification accuracy that you get from each technique. Explain why each technique worked or did not work.  <br>\n",
    "<li>e) Augment the training dataset (x2 and x3) and test your model. Which augmentation methods did you use? Explain why it did or did not improve the accuracy.  <br>\n",
    "\n",
    "**For part c, d, and e, plot the loss function and accuracy**\n",
    "\n"
   ]
  },
  {
   "cell_type": "code",
   "execution_count": 3,
   "metadata": {},
   "outputs": [
    {
     "name": "stdout",
     "output_type": "stream",
     "text": [
      "(47520, 28, 28, 1)\n"
     ]
    }
   ],
   "source": [
    "xtrain = xtrain.reshape((xtrain.shape[0], 28, 28, 1))\n",
    "xtest = xtest.reshape((xtest.shape[0], 28, 28, 1))\n",
    "print(xtrain.shape)\n"
   ]
  },
  {
   "cell_type": "markdown",
   "metadata": {},
   "source": [
    "## Visualisations:"
   ]
  },
  {
   "cell_type": "code",
   "execution_count": 4,
   "metadata": {
    "pycharm": {
     "name": "#%%\n"
    }
   },
   "outputs": [
    {
     "data": {
      "text/plain": [
       "<matplotlib.image.AxesImage at 0x1ad00490f98>"
      ]
     },
     "execution_count": 4,
     "metadata": {},
     "output_type": "execute_result"
    },
    {
     "data": {
      "image/png": "[encoded data removed]",
      "text/plain": [
       "<Figure size 720x720 with 9 Axes>"
      ]
     },
     "metadata": {
      "needs_background": "light"
     },
     "output_type": "display_data"
    }
   ],
   "source": [
    "import matplotlib.pyplot as plt\n",
    "import matplotlib.image as mpimg\n",
    "\n",
    "fig, axs = plt.subplots(3, 3, figsize=(10,10))\n",
    "\n",
    "r1 = xtrain[1]\n",
    "rowData1 = r1.reshape(28, 28)\n",
    "r2 = xtrain[2]\n",
    "rowData2 = r2.reshape(28, 28)\n",
    "r3 = xtrain[3]\n",
    "rowData3 = r3.reshape(28, 28)\n",
    "r4 = xtrain[4]\n",
    "rowData4 = r4.reshape(28, 28)\n",
    "r5 = xtrain[5]\n",
    "rowData5 = r5.reshape(28, 28)\n",
    "r6 = xtrain[6]\n",
    "rowData6 = r6.reshape(28, 28)\n",
    "r7 = xtrain[7]\n",
    "rowData7 = r7.reshape(28, 28)\n",
    "r8 = xtrain[8]\n",
    "rowData8 = r8.reshape(28, 28)\n",
    "r9 = xtrain[9]\n",
    "rowData9 = r9.reshape(28, 28)\n",
    "\n",
    "\n",
    "\n",
    "axs[0,0].imshow(rowData1)\n",
    "axs[0,1].imshow(rowData2)\n",
    "axs[0,2].imshow(rowData3)\n",
    "axs[1,0].imshow(rowData4)\n",
    "axs[1,1].imshow(rowData5)\n",
    "axs[1,2].imshow(rowData6)\n",
    "axs[2,0].imshow(rowData7)\n",
    "axs[2,1].imshow(rowData8)\n",
    "axs[2,2].imshow(rowData9)\n"
   ]
  },
  {
   "cell_type": "markdown",
   "metadata": {},
   "source": [
    "## Pre-processing:\n",
    "\n",
    "1) Rescale X and Y between 0 and 1 by dividing by 255\n",
    "2) Cast Y to Categorical Values and reshape based on number of classes (9 in this case)"
   ]
  },
  {
   "cell_type": "code",
   "execution_count": 5,
   "metadata": {
    "pycharm": {
     "name": "#%%\n"
    }
   },
   "outputs": [
    {
     "name": "stdout",
     "output_type": "stream",
     "text": [
      "[2. 5. 5. ... 3. 6. 5.]\n",
      "[2. 0. 4. ... 4. 1. 4.]\n",
      "(47520, 9)\n",
      "(6480, 9)\n"
     ]
    }
   ],
   "source": [
    "### your code for part b\n",
    "batch_size = 128\n",
    "num_classes = 9\n",
    "epochs = 20\n",
    "\n",
    "# pre-processing\n",
    "# rescale data to be between 0 and 1\n",
    "xtrain /= 255.\n",
    "xtest /= 255.\n",
    "ytrain -= 247\n",
    "ytest -= 247\n",
    "\n",
    "print(ytrain)\n",
    "print(ytest)\n",
    "ytrain = keras.utils.to_categorical(ytrain, num_classes)\n",
    "ytest = keras.utils.to_categorical(ytest, num_classes)\n",
    "\n",
    "print(ytrain.shape)\n",
    "print(ytest.shape)"
   ]
  },
  {
   "cell_type": "markdown",
   "metadata": {
    "pycharm": {
     "name": "#%% md\n"
    }
   },
   "source": [
    "## Layer Decisions\n",
    "\n",
    "Due to the similarity between this and HW12, I used a very similar layer structure as I did in that HW, but instead of\n",
    "chaining just Conv2D Layers, I chained Conv2D and MaxPooling2D Layers, with a consistent drop out to avoid over-fitting,\n",
    "ending with fully connected layers for the output classification\n",
    "\n",
    "\n",
    "### Convolution Layers\n",
    "\n",
    "As the input to this problem is a 2d image, convolutional 2d layers were a natural choice. Convlutional layers work well\n",
    "for images as they are able to group small areas into the image into distinct features, under the idea that pixels closer\n",
    "together are more highly related than those further apart.\n",
    "\n",
    "The strides can be thought of as how far away centre-point the layer should look at when it's looking across the image.\n",
    "In my case, I tend to like the stride to start a bit larger, so that each 'window' is a bit wider to first identify features.\n",
    "As the image is reduced in size over the layers, I reduce the strides in tandem until eventually we look pixel by pixel for\n",
    "identifying features.\n",
    "\n",
    "RELU seems to be the standard suggestion for images as each pixel is either 'on' at some intensity or 'off' maxing RELU's\n",
    "lower bound of 0 a good fit.\n",
    "\n",
    "### Pooling Layers\n",
    "\n",
    "Pooling layers are required for feature reduction. We dont' need as many of these as we do convolutional layers, but we\n",
    "do still require them in order to reduce the identifying features as our image goes through each convolution. As each layer\n",
    "essentially causes the image to become less and less recognizable (to a human) there are also less and less features needed\n",
    "to identify an image, which is one of the goals of the convolutionl network to begin with. \n",
    "\n",
    "\n",
    "### Dropout\n",
    "Not true layers, assigns a probability of dropping each neuron to reduce overfitting. I used one of these as they helped to marginally push accuracy to just about 90%.\n",
    "\n",
    "### Flatten\n",
    "\n",
    "Also not true layers, they flatten our nodes to being 1 dimensional so that our Dense Layers can do their classification on a\n",
    "single dimensional object instead of a 28x28 object.\n",
    "\n",
    "### Dense Layers\n",
    "Used for our output. These are fully connected doing simple matrix multiplication. I started with 1 layer of size 9(number of classes) then continued up by Nx9 from there, 3 total layers seemed to give the best accuracy.\n",
    "\n",
    "\n",
    "### Optimization Function\n",
    "\n",
    "I just played around with various optimizers. RMSprop was the fastest to run and still gave decent accuracy, so that's what\n",
    "I went with. There were 45 epochs necessary to get accuracy and val_accuracy to just at 90%\n"
   ]
  },
  {
   "cell_type": "code",
   "execution_count": 6,
   "metadata": {
    "pycharm": {
     "name": "#%%\n"
    }
   },
   "outputs": [
    {
     "name": "stdout",
     "output_type": "stream",
     "text": [
      "WARNING:tensorflow:From C:\\Anaconda3\\lib\\site-packages\\keras\\backend\\tensorflow_backend.py:4070: The name tf.nn.max_pool is deprecated. Please use tf.nn.max_pool2d instead.\n",
      "\n",
      "Model: \"sequential_1\"\n",
      "_________________________________________________________________\n",
      "Layer (type)                 Output Shape              Param #   \n",
      "=================================================================\n",
      "conv2d_1 (Conv2D)            (None, 25, 25, 36)        612       \n",
      "_________________________________________________________________\n",
      "max_pooling2d_1 (MaxPooling2 (None, 9, 9, 36)          0         \n",
      "_________________________________________________________________\n",
      "dropout_1 (Dropout)          (None, 9, 9, 36)          0         \n",
      "_________________________________________________________________\n",
      "conv2d_2 (Conv2D)            (None, 7, 7, 36)          11700     \n",
      "_________________________________________________________________\n",
      "max_pooling2d_2 (MaxPooling2 (None, 4, 4, 36)          0         \n",
      "_________________________________________________________________\n",
      "conv2d_3 (Conv2D)            (None, 3, 3, 27)          3915      \n",
      "_________________________________________________________________\n",
      "max_pooling2d_3 (MaxPooling2 (None, 3, 3, 27)          0         \n",
      "_________________________________________________________________\n",
      "flatten_1 (Flatten)          (None, 243)               0         \n",
      "_________________________________________________________________\n",
      "dense_1 (Dense)              (None, 27)                6588      \n",
      "_________________________________________________________________\n",
      "dense_2 (Dense)              (None, 18)                504       \n",
      "_________________________________________________________________\n",
      "dense_3 (Dense)              (None, 9)                 171       \n",
      "=================================================================\n",
      "Total params: 23,490\n",
      "Trainable params: 23,490\n",
      "Non-trainable params: 0\n",
      "_________________________________________________________________\n",
      "WARNING:tensorflow:From C:\\Anaconda3\\lib\\site-packages\\keras\\backend\\tensorflow_backend.py:422: The name tf.global_variables is deprecated. Please use tf.compat.v1.global_variables instead.\n",
      "\n",
      "Train on 47520 samples, validate on 6480 samples\n",
      "Epoch 1/45\n",
      "47520/47520 [==============================] - 17s 358us/step - loss: 1.1358 - accuracy: 0.5827 - val_loss: 0.7605 - val_accuracy: 0.7145\n",
      "Epoch 2/45\n",
      "47520/47520 [==============================] - 17s 365us/step - loss: 0.6838 - accuracy: 0.7416 - val_loss: 0.6126 - val_accuracy: 0.7633\n",
      "Epoch 3/45\n",
      "47520/47520 [==============================] - 18s 371us/step - loss: 0.5733 - accuracy: 0.7845 - val_loss: 0.5281 - val_accuracy: 0.8034\n",
      "Epoch 4/45\n",
      "47520/47520 [==============================] - 17s 365us/step - loss: 0.5040 - accuracy: 0.8144 - val_loss: 0.5084 - val_accuracy: 0.8094\n",
      "Epoch 5/45\n",
      "47520/47520 [==============================] - 17s 365us/step - loss: 0.4578 - accuracy: 0.8325 - val_loss: 0.4942 - val_accuracy: 0.8154\n",
      "Epoch 6/45\n",
      "47520/47520 [==============================] - 17s 365us/step - loss: 0.4294 - accuracy: 0.8441 - val_loss: 0.4262 - val_accuracy: 0.8512\n",
      "Epoch 7/45\n",
      "47520/47520 [==============================] - 18s 372us/step - loss: 0.4044 - accuracy: 0.8532 - val_loss: 0.4049 - val_accuracy: 0.8539\n",
      "Epoch 8/45\n",
      "47520/47520 [==============================] - 17s 363us/step - loss: 0.3865 - accuracy: 0.8598 - val_loss: 0.3839 - val_accuracy: 0.8593\n",
      "Epoch 9/45\n",
      "47520/47520 [==============================] - 17s 362us/step - loss: 0.3744 - accuracy: 0.8639 - val_loss: 0.3639 - val_accuracy: 0.8676\n",
      "Epoch 10/45\n",
      "47520/47520 [==============================] - 17s 362us/step - loss: 0.3605 - accuracy: 0.8700 - val_loss: 0.3563 - val_accuracy: 0.8730\n",
      "Epoch 11/45\n",
      "47520/47520 [==============================] - 17s 366us/step - loss: 0.3479 - accuracy: 0.8741 - val_loss: 0.3831 - val_accuracy: 0.8603\n",
      "Epoch 12/45\n",
      "47520/47520 [==============================] - 17s 362us/step - loss: 0.3386 - accuracy: 0.8777 - val_loss: 0.3733 - val_accuracy: 0.8660\n",
      "Epoch 13/45\n",
      "47520/47520 [==============================] - 17s 361us/step - loss: 0.3321 - accuracy: 0.8795 - val_loss: 0.3235 - val_accuracy: 0.8838\n",
      "Epoch 14/45\n",
      "47520/47520 [==============================] - 17s 362us/step - loss: 0.3216 - accuracy: 0.8840 - val_loss: 0.3442 - val_accuracy: 0.8793\n",
      "Epoch 15/45\n",
      "47520/47520 [==============================] - 17s 366us/step - loss: 0.3156 - accuracy: 0.8869 - val_loss: 0.3280 - val_accuracy: 0.8818\n",
      "Epoch 16/45\n",
      "47520/47520 [==============================] - 17s 361us/step - loss: 0.3088 - accuracy: 0.8891 - val_loss: 0.3488 - val_accuracy: 0.8755\n",
      "Epoch 17/45\n",
      "47520/47520 [==============================] - 17s 361us/step - loss: 0.3036 - accuracy: 0.8909 - val_loss: 0.3381 - val_accuracy: 0.8779\n",
      "Epoch 18/45\n",
      "47520/47520 [==============================] - 17s 362us/step - loss: 0.2963 - accuracy: 0.8940 - val_loss: 0.3809 - val_accuracy: 0.8642\n",
      "Epoch 19/45\n",
      "47520/47520 [==============================] - 17s 363us/step - loss: 0.2925 - accuracy: 0.8948 - val_loss: 0.3199 - val_accuracy: 0.8852\n",
      "Epoch 20/45\n",
      "47520/47520 [==============================] - 17s 361us/step - loss: 0.2865 - accuracy: 0.8953 - val_loss: 0.3302 - val_accuracy: 0.8852\n",
      "Epoch 21/45\n",
      "47520/47520 [==============================] - 17s 362us/step - loss: 0.2813 - accuracy: 0.8986 - val_loss: 0.3116 - val_accuracy: 0.8884\n",
      "Epoch 22/45\n",
      "47520/47520 [==============================] - 17s 365us/step - loss: 0.2788 - accuracy: 0.8990 - val_loss: 0.3197 - val_accuracy: 0.8841\n",
      "Epoch 23/45\n",
      "47520/47520 [==============================] - 17s 363us/step - loss: 0.2729 - accuracy: 0.9013 - val_loss: 0.2986 - val_accuracy: 0.8946\n",
      "Epoch 24/45\n",
      "47520/47520 [==============================] - 17s 361us/step - loss: 0.2688 - accuracy: 0.9023 - val_loss: 0.2852 - val_accuracy: 0.8974\n",
      "Epoch 25/45\n",
      "47520/47520 [==============================] - 17s 363us/step - loss: 0.2671 - accuracy: 0.9028 - val_loss: 0.3040 - val_accuracy: 0.8853\n",
      "Epoch 26/45\n",
      "47520/47520 [==============================] - 17s 367us/step - loss: 0.2611 - accuracy: 0.9061 - val_loss: 0.2998 - val_accuracy: 0.8932\n",
      "Epoch 27/45\n",
      "47520/47520 [==============================] - 17s 362us/step - loss: 0.2585 - accuracy: 0.9077 - val_loss: 0.2895 - val_accuracy: 0.8994\n",
      "Epoch 28/45\n",
      "47520/47520 [==============================] - 17s 362us/step - loss: 0.2552 - accuracy: 0.9074 - val_loss: 0.2910 - val_accuracy: 0.8972\n",
      "Epoch 29/45\n",
      "47520/47520 [==============================] - 17s 361us/step - loss: 0.2521 - accuracy: 0.9082 - val_loss: 0.2965 - val_accuracy: 0.8901\n",
      "Epoch 30/45\n",
      "47520/47520 [==============================] - 17s 367us/step - loss: 0.2486 - accuracy: 0.9104 - val_loss: 0.2719 - val_accuracy: 0.9035\n",
      "Epoch 31/45\n",
      "47520/47520 [==============================] - 17s 364us/step - loss: 0.2466 - accuracy: 0.9099 - val_loss: 0.2817 - val_accuracy: 0.9031\n",
      "Epoch 32/45\n",
      "47520/47520 [==============================] - 17s 365us/step - loss: 0.2427 - accuracy: 0.9114 - val_loss: 0.2995 - val_accuracy: 0.8940\n",
      "Epoch 33/45\n",
      "47520/47520 [==============================] - 17s 364us/step - loss: 0.2405 - accuracy: 0.9126 - val_loss: 0.3108 - val_accuracy: 0.8887\n",
      "Epoch 34/45\n",
      "47520/47520 [==============================] - 18s 370us/step - loss: 0.2384 - accuracy: 0.9140 - val_loss: 0.2723 - val_accuracy: 0.9026\n",
      "Epoch 35/45\n",
      "47520/47520 [==============================] - 17s 364us/step - loss: 0.2364 - accuracy: 0.9146 - val_loss: 0.2942 - val_accuracy: 0.8957\n",
      "Epoch 36/45\n",
      "47520/47520 [==============================] - 19s 396us/step - loss: 0.2354 - accuracy: 0.9136 - val_loss: 0.2752 - val_accuracy: 0.9005\n",
      "Epoch 37/45\n",
      "47520/47520 [==============================] - 20s 412us/step - loss: 0.2314 - accuracy: 0.9165 - val_loss: 0.2709 - val_accuracy: 0.9039\n",
      "Epoch 38/45\n",
      "47520/47520 [==============================] - 19s 406us/step - loss: 0.2276 - accuracy: 0.9167 - val_loss: 0.2790 - val_accuracy: 0.8997\n",
      "Epoch 39/45\n",
      "47520/47520 [==============================] - 19s 405us/step - loss: 0.2254 - accuracy: 0.9179 - val_loss: 0.2837 - val_accuracy: 0.8995\n",
      "Epoch 40/45\n",
      "47520/47520 [==============================] - 19s 407us/step - loss: 0.2244 - accuracy: 0.9182 - val_loss: 0.2790 - val_accuracy: 0.9045\n"
     ]
    },
    {
     "name": "stdout",
     "output_type": "stream",
     "text": [
      "Epoch 41/45\n",
      "47520/47520 [==============================] - 20s 412us/step - loss: 0.2226 - accuracy: 0.9185 - val_loss: 0.2866 - val_accuracy: 0.9008\n",
      "Epoch 42/45\n",
      "47520/47520 [==============================] - 19s 406us/step - loss: 0.2207 - accuracy: 0.9193 - val_loss: 0.2668 - val_accuracy: 0.9063\n",
      "Epoch 43/45\n",
      "47520/47520 [==============================] - 19s 407us/step - loss: 0.2183 - accuracy: 0.9210 - val_loss: 0.2608 - val_accuracy: 0.9074\n",
      "Epoch 44/45\n",
      "47520/47520 [==============================] - 20s 413us/step - loss: 0.2152 - accuracy: 0.9212 - val_loss: 0.2814 - val_accuracy: 0.8974\n",
      "Epoch 45/45\n",
      "47520/47520 [==============================] - 19s 407us/step - loss: 0.2132 - accuracy: 0.9227 - val_loss: 0.2687 - val_accuracy: 0.9065\n"
     ]
    }
   ],
   "source": [
    "### your code for part c\n",
    "reg = Sequential()\n",
    "\n",
    "reg.add(Conv2D(num_classes * 4, (4, 4), strides=(1, 1), activation=\"relu\", input_shape=(28, 28, 1)))\n",
    "reg.add(MaxPooling2D(pool_size=(3, 3), strides=(3, 3), padding='same'))\n",
    "reg.add(Dropout(0.15))\n",
    "\n",
    "reg.add(Conv2D(num_classes * 4, (3, 3), strides=(1, 1), activation=\"relu\"))\n",
    "reg.add(MaxPooling2D(pool_size=(2, 2), strides=(2,2), padding='same'))\n",
    "\n",
    "reg.add(Conv2D(num_classes * 3, (2, 2), strides=(1, 1), activation=\"relu\"))\n",
    "reg.add(MaxPooling2D(pool_size=(1, 1), strides=(1,1), padding='same'))\n",
    "reg.add(Flatten())\n",
    "\n",
    "reg.add(Dense(num_classes * 3, activation='relu'))\n",
    "reg.add(Dense(num_classes * 2, activation='relu'))\n",
    "reg.add(Dense(num_classes, activation='softmax'))\n",
    "\n",
    "reg.compile(loss='categorical_crossentropy', optimizer=RMSprop(lr=0.0005), metrics=['accuracy'])\n",
    "reg.summary()\n",
    "\n",
    "reg_hist = reg.fit(xtrain, ytrain, batch_size=batch_size, epochs=45, validation_data=(xtest, ytest))"
   ]
  },
  {
   "cell_type": "code",
   "execution_count": 7,
   "metadata": {},
   "outputs": [
    {
     "data": {
      "image/png": "[encoded data removed]",
      "text/plain": [
       "<Figure size 432x288 with 1 Axes>"
      ]
     },
     "metadata": {
      "needs_background": "light"
     },
     "output_type": "display_data"
    },
    {
     "data": {
      "image/png": "[encoded data removed]",
      "text/plain": [
       "<Figure size 432x288 with 1 Axes>"
      ]
     },
     "metadata": {
      "needs_background": "light"
     },
     "output_type": "display_data"
    }
   ],
   "source": [
    "plt.plot(reg_hist.history['accuracy'])\n",
    "plt.plot(reg_hist.history['val_accuracy'])\n",
    "plt.title('model accuracy')\n",
    "plt.ylabel('accuracy')\n",
    "plt.xlabel('epoch')\n",
    "plt.legend(['train', 'test'], loc='upper left')\n",
    "plt.show()\n",
    "# \"Loss\"\n",
    "plt.plot(reg_hist.history['loss'])\n",
    "plt.plot(reg_hist.history['val_loss'])\n",
    "plt.title('model loss')\n",
    "plt.ylabel('loss')\n",
    "plt.xlabel('epoch')\n",
    "plt.legend(['train', 'test'], loc='upper left')\n",
    "plt.show()"
   ]
  },
  {
   "cell_type": "markdown",
   "metadata": {
    "pycharm": {
     "name": "#%% md\n"
    }
   },
   "source": [
    "## Regularisation\n",
    "\n",
    "### L1 Regularisation + Additional Dropout\n",
    "\n",
    "Adding dropout regularisation reduced the accuracy and val_accuracy of the model, but that is not necessarily a bad thing.\n",
    "We see that there is a higher difference in performance against the training and test set with the regularlisation methods, which suggests we are reducing some overfitting in the model that could have caused artificial inflation of the original accuracy measures.\n"
   ]
  },
  {
   "cell_type": "code",
   "execution_count": 8,
   "metadata": {
    "pycharm": {
     "name": "#%%\n"
    }
   },
   "outputs": [
    {
     "name": "stdout",
     "output_type": "stream",
     "text": [
      "Model: \"sequential_2\"\n",
      "_________________________________________________________________\n",
      "Layer (type)                 Output Shape              Param #   \n",
      "=================================================================\n",
      "conv2d_4 (Conv2D)            (None, 25, 25, 36)        612       \n",
      "_________________________________________________________________\n",
      "max_pooling2d_4 (MaxPooling2 (None, 9, 9, 36)          0         \n",
      "_________________________________________________________________\n",
      "conv2d_5 (Conv2D)            (None, 7, 7, 36)          11700     \n",
      "_________________________________________________________________\n",
      "max_pooling2d_5 (MaxPooling2 (None, 4, 4, 36)          0         \n",
      "_________________________________________________________________\n",
      "dropout_2 (Dropout)          (None, 4, 4, 36)          0         \n",
      "_________________________________________________________________\n",
      "conv2d_6 (Conv2D)            (None, 3, 3, 27)          3915      \n",
      "_________________________________________________________________\n",
      "max_pooling2d_6 (MaxPooling2 (None, 3, 3, 27)          0         \n",
      "_________________________________________________________________\n",
      "dropout_3 (Dropout)          (None, 3, 3, 27)          0         \n",
      "_________________________________________________________________\n",
      "flatten_2 (Flatten)          (None, 243)               0         \n",
      "_________________________________________________________________\n",
      "dense_4 (Dense)              (None, 27)                6588      \n",
      "_________________________________________________________________\n",
      "dense_5 (Dense)              (None, 18)                504       \n",
      "_________________________________________________________________\n",
      "dense_6 (Dense)              (None, 9)                 171       \n",
      "=================================================================\n",
      "Total params: 23,490\n",
      "Trainable params: 23,490\n",
      "Non-trainable params: 0\n",
      "_________________________________________________________________\n",
      "Train on 47520 samples, validate on 6480 samples\n",
      "Epoch 1/45\n",
      "47520/47520 [==============================] - 18s 382us/step - loss: 2.6430 - accuracy: 0.4662 - val_loss: 1.2028 - val_accuracy: 0.6596\n",
      "Epoch 2/45\n",
      "47520/47520 [==============================] - 18s 380us/step - loss: 1.0318 - accuracy: 0.6967 - val_loss: 0.8795 - val_accuracy: 0.7340\n",
      "Epoch 3/45\n",
      "47520/47520 [==============================] - 18s 383us/step - loss: 0.8367 - accuracy: 0.7416 - val_loss: 0.7515 - val_accuracy: 0.7606\n",
      "Epoch 4/45\n",
      "47520/47520 [==============================] - 18s 379us/step - loss: 0.7544 - accuracy: 0.7599 - val_loss: 0.7234 - val_accuracy: 0.7731\n",
      "Epoch 5/45\n",
      "47520/47520 [==============================] - 18s 380us/step - loss: 0.7068 - accuracy: 0.7742 - val_loss: 0.7387 - val_accuracy: 0.7511\n",
      "Epoch 6/45\n",
      "47520/47520 [==============================] - 18s 389us/step - loss: 0.6745 - accuracy: 0.7816 - val_loss: 0.6070 - val_accuracy: 0.8073\n",
      "Epoch 7/45\n",
      "47520/47520 [==============================] - 18s 377us/step - loss: 0.6500 - accuracy: 0.7892 - val_loss: 0.6047 - val_accuracy: 0.8040\n",
      "Epoch 8/45\n",
      "47520/47520 [==============================] - 18s 379us/step - loss: 0.6314 - accuracy: 0.7968 - val_loss: 0.6169 - val_accuracy: 0.7875\n",
      "Epoch 9/45\n",
      "47520/47520 [==============================] - 18s 377us/step - loss: 0.6161 - accuracy: 0.8015 - val_loss: 0.5690 - val_accuracy: 0.8236\n",
      "Epoch 10/45\n",
      "47520/47520 [==============================] - 18s 385us/step - loss: 0.5990 - accuracy: 0.8068 - val_loss: 0.5657 - val_accuracy: 0.8219\n",
      "Epoch 11/45\n",
      "47520/47520 [==============================] - 18s 376us/step - loss: 0.5863 - accuracy: 0.8124 - val_loss: 0.5572 - val_accuracy: 0.8208\n",
      "Epoch 12/45\n",
      "47520/47520 [==============================] - 18s 377us/step - loss: 0.5718 - accuracy: 0.8178 - val_loss: 0.5419 - val_accuracy: 0.8336\n",
      "Epoch 13/45\n",
      "47520/47520 [==============================] - 18s 381us/step - loss: 0.5636 - accuracy: 0.8197 - val_loss: 0.5578 - val_accuracy: 0.8137\n",
      "Epoch 14/45\n",
      "47520/47520 [==============================] - 18s 374us/step - loss: 0.5566 - accuracy: 0.8214 - val_loss: 0.5152 - val_accuracy: 0.8338\n",
      "Epoch 15/45\n",
      "47520/47520 [==============================] - 18s 372us/step - loss: 0.5501 - accuracy: 0.8243 - val_loss: 0.6507 - val_accuracy: 0.7887\n",
      "Epoch 16/45\n",
      "47520/47520 [==============================] - 18s 371us/step - loss: 0.5402 - accuracy: 0.8274 - val_loss: 0.5204 - val_accuracy: 0.8341\n",
      "Epoch 17/45\n",
      "47520/47520 [==============================] - 18s 377us/step - loss: 0.5348 - accuracy: 0.8292 - val_loss: 0.5065 - val_accuracy: 0.8465\n",
      "Epoch 18/45\n",
      "47520/47520 [==============================] - 18s 369us/step - loss: 0.5285 - accuracy: 0.8323 - val_loss: 0.5284 - val_accuracy: 0.8350\n",
      "Epoch 19/45\n",
      "47520/47520 [==============================] - 18s 370us/step - loss: 0.5241 - accuracy: 0.8333 - val_loss: 0.4945 - val_accuracy: 0.8418\n",
      "Epoch 20/45\n",
      "47520/47520 [==============================] - 18s 372us/step - loss: 0.5173 - accuracy: 0.8363 - val_loss: 0.4857 - val_accuracy: 0.8438\n",
      "Epoch 21/45\n",
      "47520/47520 [==============================] - 18s 377us/step - loss: 0.5110 - accuracy: 0.8383 - val_loss: 0.4753 - val_accuracy: 0.8514\n",
      "Epoch 22/45\n",
      "47520/47520 [==============================] - 18s 372us/step - loss: 0.5064 - accuracy: 0.8401 - val_loss: 0.4714 - val_accuracy: 0.8494\n",
      "Epoch 23/45\n",
      "47520/47520 [==============================] - 18s 372us/step - loss: 0.5026 - accuracy: 0.8408 - val_loss: 0.5020 - val_accuracy: 0.8431\n",
      "Epoch 24/45\n",
      "47520/47520 [==============================] - 18s 375us/step - loss: 0.5023 - accuracy: 0.8412 - val_loss: 0.4877 - val_accuracy: 0.8481\n",
      "Epoch 25/45\n",
      "47520/47520 [==============================] - 18s 375us/step - loss: 0.4951 - accuracy: 0.8433 - val_loss: 0.4723 - val_accuracy: 0.8548\n",
      "Epoch 26/45\n",
      "47520/47520 [==============================] - 18s 372us/step - loss: 0.4906 - accuracy: 0.8451 - val_loss: 0.4524 - val_accuracy: 0.8566\n",
      "Epoch 27/45\n",
      "47520/47520 [==============================] - 18s 371us/step - loss: 0.4892 - accuracy: 0.8460 - val_loss: 0.4453 - val_accuracy: 0.8608\n",
      "Epoch 28/45\n",
      "47520/47520 [==============================] - 18s 379us/step - loss: 0.4879 - accuracy: 0.8465 - val_loss: 0.4521 - val_accuracy: 0.8566\n",
      "Epoch 29/45\n",
      "47520/47520 [==============================] - 18s 384us/step - loss: 0.4833 - accuracy: 0.8492 - val_loss: 0.4448 - val_accuracy: 0.8606\n",
      "Epoch 30/45\n",
      "47520/47520 [==============================] - 18s 384us/step - loss: 0.4817 - accuracy: 0.8484 - val_loss: 0.4391 - val_accuracy: 0.8665\n",
      "Epoch 31/45\n",
      "47520/47520 [==============================] - 18s 380us/step - loss: 0.4761 - accuracy: 0.8499 - val_loss: 0.4335 - val_accuracy: 0.8639\n",
      "Epoch 32/45\n",
      "47520/47520 [==============================] - 18s 384us/step - loss: 0.4758 - accuracy: 0.8501 - val_loss: 0.4405 - val_accuracy: 0.8628\n",
      "Epoch 33/45\n",
      "47520/47520 [==============================] - 18s 374us/step - loss: 0.4687 - accuracy: 0.8527 - val_loss: 0.4509 - val_accuracy: 0.8596\n",
      "Epoch 34/45\n",
      "47520/47520 [==============================] - 18s 372us/step - loss: 0.4666 - accuracy: 0.8541 - val_loss: 0.4461 - val_accuracy: 0.8614\n",
      "Epoch 35/45\n",
      "47520/47520 [==============================] - 18s 375us/step - loss: 0.4665 - accuracy: 0.8525 - val_loss: 0.4356 - val_accuracy: 0.8654\n",
      "Epoch 36/45\n",
      "47520/47520 [==============================] - 18s 373us/step - loss: 0.4650 - accuracy: 0.8549 - val_loss: 0.4404 - val_accuracy: 0.8657\n",
      "Epoch 37/45\n",
      "47520/47520 [==============================] - 18s 370us/step - loss: 0.4592 - accuracy: 0.8567 - val_loss: 0.4334 - val_accuracy: 0.8657\n",
      "Epoch 38/45\n",
      "47520/47520 [==============================] - 18s 374us/step - loss: 0.4592 - accuracy: 0.8575 - val_loss: 0.4353 - val_accuracy: 0.8619\n",
      "Epoch 39/45\n",
      "47520/47520 [==============================] - 18s 379us/step - loss: 0.4584 - accuracy: 0.8564 - val_loss: 0.4212 - val_accuracy: 0.8691\n",
      "Epoch 40/45\n",
      "47520/47520 [==============================] - 18s 371us/step - loss: 0.4551 - accuracy: 0.8579 - val_loss: 0.4315 - val_accuracy: 0.8667\n",
      "Epoch 41/45\n",
      "47520/47520 [==============================] - 18s 372us/step - loss: 0.4551 - accuracy: 0.8580 - val_loss: 0.4636 - val_accuracy: 0.8585\n",
      "Epoch 42/45\n",
      "47520/47520 [==============================] - 18s 371us/step - loss: 0.4550 - accuracy: 0.8578 - val_loss: 0.4221 - val_accuracy: 0.8690\n",
      "Epoch 43/45\n",
      "47520/47520 [==============================] - 18s 378us/step - loss: 0.4525 - accuracy: 0.8590 - val_loss: 0.4256 - val_accuracy: 0.8668\n",
      "Epoch 44/45\n",
      "47520/47520 [==============================] - 18s 370us/step - loss: 0.4488 - accuracy: 0.8600 - val_loss: 0.4070 - val_accuracy: 0.8725\n",
      "Epoch 45/45\n",
      "47520/47520 [==============================] - 18s 370us/step - loss: 0.4495 - accuracy: 0.8598 - val_loss: 0.4169 - val_accuracy: 0.8698\n"
     ]
    }
   ],
   "source": [
    "### your code for part d\n",
    "from keras.regularizers import l1,l2,l1_l2\n",
    "reg2 = Sequential()\n",
    "\n",
    "reg2.add(Conv2D(num_classes * 4, (4, 4), strides=(1, 1), activation=\"relu\", input_shape=(28, 28, 1)))\n",
    "reg2.add(MaxPooling2D(pool_size=(3, 3), strides=(3, 3), padding='same'))\n",
    "\n",
    "\n",
    "reg2.add(Conv2D(num_classes * 4, (3, 3), strides=(1, 1), activation=\"relu\",kernel_regularizer=l1(0.01)))\n",
    "reg2.add(MaxPooling2D(pool_size=(2, 2), strides=(2,2), padding='same'))\n",
    "reg2.add(Dropout(0.1))\n",
    "reg2.add(Conv2D(num_classes * 3, (2, 2), strides=(1, 1), activation=\"relu\", bias_regularizer=l1(0.01)))\n",
    "reg2.add(MaxPooling2D(pool_size=(1, 1), strides=(1,1), padding='same'))\n",
    "reg2.add(Dropout(0.15))\n",
    "\n",
    "\n",
    "reg2.add(Flatten())\n",
    "reg2.add(Dense(num_classes * 3, activation='relu'))\n",
    "reg2.add(Dense(num_classes * 2, activation='relu'))\n",
    "reg2.add(Dense(num_classes, activation='softmax'))\n",
    "\n",
    "reg2.compile(loss='categorical_crossentropy', optimizer=RMSprop(lr=0.0005), metrics=['accuracy'])\n",
    "reg2.summary()\n",
    "\n",
    "reg2_history = reg2.fit(xtrain, ytrain, batch_size=batch_size, epochs=45, validation_data=(xtest, ytest))"
   ]
  },
  {
   "cell_type": "code",
   "execution_count": 9,
   "metadata": {},
   "outputs": [
    {
     "data": {
      "image/png": "[encoded data removed]",
      "text/plain": [
       "<Figure size 432x288 with 1 Axes>"
      ]
     },
     "metadata": {
      "needs_background": "light"
     },
     "output_type": "display_data"
    },
    {
     "data": {
      "image/png": "[encoded data removed]",
      "text/plain": [
       "<Figure size 432x288 with 1 Axes>"
      ]
     },
     "metadata": {
      "needs_background": "light"
     },
     "output_type": "display_data"
    }
   ],
   "source": [
    "plt.plot(reg2_history.history['accuracy'])\n",
    "plt.plot(reg2_history.history['val_accuracy'])\n",
    "plt.title('model accuracy')\n",
    "plt.ylabel('accuracy')\n",
    "plt.xlabel('epoch')\n",
    "plt.legend(['train', 'test'], loc='upper left')\n",
    "plt.show()\n",
    "# \"Loss\"\n",
    "plt.plot(reg2_history.history['loss'])\n",
    "plt.plot(reg2_history.history['val_loss'])\n",
    "plt.title('model loss')\n",
    "plt.ylabel('loss')\n",
    "plt.xlabel('epoch')\n",
    "plt.legend(['train', 'test'], loc='upper left')\n",
    "plt.show()"
   ]
  },
  {
   "cell_type": "markdown",
   "metadata": {},
   "source": [
    "### L2 Kernel + Bias Regularisation + DropOut\n",
    "Kernel and Bias Ridge (L2) Regularisation used to reduce overfitting through reduction of weights used in final\n",
    "regression and bias term and dropout from above, still an accuracy reduction over base."
   ]
  },
  {
   "cell_type": "code",
   "execution_count": 10,
   "metadata": {
    "pycharm": {
     "name": "#%%\n"
    }
   },
   "outputs": [
    {
     "name": "stdout",
     "output_type": "stream",
     "text": [
      "Model: \"sequential_3\"\n",
      "_________________________________________________________________\n",
      "Layer (type)                 Output Shape              Param #   \n",
      "=================================================================\n",
      "conv2d_7 (Conv2D)            (None, 25, 25, 36)        612       \n",
      "_________________________________________________________________\n",
      "max_pooling2d_7 (MaxPooling2 (None, 9, 9, 36)          0         \n",
      "_________________________________________________________________\n",
      "dropout_4 (Dropout)          (None, 9, 9, 36)          0         \n",
      "_________________________________________________________________\n",
      "conv2d_8 (Conv2D)            (None, 7, 7, 36)          11700     \n",
      "_________________________________________________________________\n",
      "max_pooling2d_8 (MaxPooling2 (None, 4, 4, 36)          0         \n",
      "_________________________________________________________________\n",
      "conv2d_9 (Conv2D)            (None, 3, 3, 27)          3915      \n",
      "_________________________________________________________________\n",
      "max_pooling2d_9 (MaxPooling2 (None, 3, 3, 27)          0         \n",
      "_________________________________________________________________\n",
      "dropout_5 (Dropout)          (None, 3, 3, 27)          0         \n",
      "_________________________________________________________________\n",
      "flatten_3 (Flatten)          (None, 243)               0         \n",
      "_________________________________________________________________\n",
      "dense_7 (Dense)              (None, 27)                6588      \n",
      "_________________________________________________________________\n",
      "dense_8 (Dense)              (None, 18)                504       \n",
      "_________________________________________________________________\n",
      "dense_9 (Dense)              (None, 9)                 171       \n",
      "=================================================================\n",
      "Total params: 23,490\n",
      "Trainable params: 23,490\n",
      "Non-trainable params: 0\n",
      "_________________________________________________________________\n",
      "Train on 47520 samples, validate on 6480 samples\n",
      "Epoch 1/45\n",
      "47520/47520 [==============================] - 20s 429us/step - loss: 1.6163 - accuracy: 0.5479 - val_loss: 0.9992 - val_accuracy: 0.7076\n",
      "Epoch 2/45\n",
      "47520/47520 [==============================] - 20s 419us/step - loss: 0.9197 - accuracy: 0.7375 - val_loss: 0.8243 - val_accuracy: 0.7644\n",
      "Epoch 3/45\n",
      "47520/47520 [==============================] - 20s 420us/step - loss: 0.7708 - accuracy: 0.7735 - val_loss: 0.6903 - val_accuracy: 0.7861\n",
      "Epoch 4/45\n",
      "47520/47520 [==============================] - 20s 419us/step - loss: 0.6887 - accuracy: 0.7910 - val_loss: 0.6326 - val_accuracy: 0.8045\n",
      "Epoch 5/45\n",
      "47520/47520 [==============================] - 20s 426us/step - loss: 0.6388 - accuracy: 0.8012 - val_loss: 0.5701 - val_accuracy: 0.8239\n",
      "Epoch 6/45\n",
      "47520/47520 [==============================] - 20s 419us/step - loss: 0.6018 - accuracy: 0.8142 - val_loss: 0.5546 - val_accuracy: 0.8287\n",
      "Epoch 7/45\n",
      "47520/47520 [==============================] - 20s 416us/step - loss: 0.5749 - accuracy: 0.8216 - val_loss: 0.5797 - val_accuracy: 0.8139\n",
      "Epoch 8/45\n",
      "47520/47520 [==============================] - 20s 422us/step - loss: 0.5547 - accuracy: 0.8257 - val_loss: 0.5144 - val_accuracy: 0.8380\n",
      "Epoch 9/45\n",
      "47520/47520 [==============================] - 20s 416us/step - loss: 0.5407 - accuracy: 0.8307 - val_loss: 0.4928 - val_accuracy: 0.8472\n",
      "Epoch 10/45\n",
      "47520/47520 [==============================] - 20s 417us/step - loss: 0.5253 - accuracy: 0.8352 - val_loss: 0.4906 - val_accuracy: 0.8483\n",
      "Epoch 11/45\n",
      "47520/47520 [==============================] - 20s 425us/step - loss: 0.5130 - accuracy: 0.8388 - val_loss: 0.4669 - val_accuracy: 0.8509\n",
      "Epoch 12/45\n",
      "47520/47520 [==============================] - 20s 421us/step - loss: 0.5009 - accuracy: 0.8412 - val_loss: 0.4832 - val_accuracy: 0.8505\n",
      "Epoch 13/45\n",
      "47520/47520 [==============================] - 20s 415us/step - loss: 0.4905 - accuracy: 0.8457 - val_loss: 0.5074 - val_accuracy: 0.8437\n",
      "Epoch 14/45\n",
      "47520/47520 [==============================] - 20s 414us/step - loss: 0.4823 - accuracy: 0.8476 - val_loss: 0.4815 - val_accuracy: 0.8448\n",
      "Epoch 15/45\n",
      "47520/47520 [==============================] - 20s 419us/step - loss: 0.4761 - accuracy: 0.8488 - val_loss: 0.4632 - val_accuracy: 0.8537\n",
      "Epoch 16/45\n",
      "47520/47520 [==============================] - 20s 423us/step - loss: 0.4668 - accuracy: 0.8536 - val_loss: 0.4409 - val_accuracy: 0.8588\n",
      "Epoch 17/45\n",
      "47520/47520 [==============================] - 19s 410us/step - loss: 0.4592 - accuracy: 0.8549 - val_loss: 0.4333 - val_accuracy: 0.8620\n",
      "Epoch 18/45\n",
      "47520/47520 [==============================] - 20s 415us/step - loss: 0.4545 - accuracy: 0.8574 - val_loss: 0.4275 - val_accuracy: 0.8668\n",
      "Epoch 19/45\n",
      "47520/47520 [==============================] - 19s 409us/step - loss: 0.4473 - accuracy: 0.8572 - val_loss: 0.4167 - val_accuracy: 0.8694\n",
      "Epoch 20/45\n",
      "47520/47520 [==============================] - 19s 410us/step - loss: 0.4401 - accuracy: 0.8619 - val_loss: 0.4467 - val_accuracy: 0.8614\n",
      "Epoch 21/45\n",
      "47520/47520 [==============================] - 20s 417us/step - loss: 0.4369 - accuracy: 0.8621 - val_loss: 0.4135 - val_accuracy: 0.8677\n",
      "Epoch 22/45\n",
      "47520/47520 [==============================] - 19s 410us/step - loss: 0.4320 - accuracy: 0.8641 - val_loss: 0.4001 - val_accuracy: 0.8728\n",
      "Epoch 23/45\n",
      "47520/47520 [==============================] - 20s 411us/step - loss: 0.4253 - accuracy: 0.8654 - val_loss: 0.4010 - val_accuracy: 0.8736\n",
      "Epoch 24/45\n",
      "47520/47520 [==============================] - 20s 412us/step - loss: 0.4240 - accuracy: 0.8667 - val_loss: 0.4045 - val_accuracy: 0.8728\n",
      "Epoch 25/45\n",
      "47520/47520 [==============================] - 20s 413us/step - loss: 0.4175 - accuracy: 0.8689 - val_loss: 0.4096 - val_accuracy: 0.8674\n",
      "Epoch 26/45\n",
      "47520/47520 [==============================] - 20s 411us/step - loss: 0.4158 - accuracy: 0.8695 - val_loss: 0.3877 - val_accuracy: 0.8787\n",
      "Epoch 27/45\n",
      "47520/47520 [==============================] - 20s 411us/step - loss: 0.4115 - accuracy: 0.8690 - val_loss: 0.4475 - val_accuracy: 0.8542\n",
      "Epoch 28/45\n",
      "47520/47520 [==============================] - 20s 427us/step - loss: 0.4082 - accuracy: 0.8728 - val_loss: 0.3869 - val_accuracy: 0.8779\n",
      "Epoch 29/45\n",
      "47520/47520 [==============================] - 20s 420us/step - loss: 0.4050 - accuracy: 0.8733 - val_loss: 0.3905 - val_accuracy: 0.8781\n",
      "Epoch 30/45\n",
      "47520/47520 [==============================] - 20s 420us/step - loss: 0.4019 - accuracy: 0.8737 - val_loss: 0.3848 - val_accuracy: 0.8778\n",
      "Epoch 31/45\n",
      "47520/47520 [==============================] - 20s 417us/step - loss: 0.4005 - accuracy: 0.8750 - val_loss: 0.3806 - val_accuracy: 0.8823\n",
      "Epoch 32/45\n",
      "47520/47520 [==============================] - 18s 388us/step - loss: 0.3947 - accuracy: 0.8770 - val_loss: 0.3674 - val_accuracy: 0.8850\n",
      "Epoch 33/45\n",
      "47520/47520 [==============================] - 19s 409us/step - loss: 0.3930 - accuracy: 0.8768 - val_loss: 0.3791 - val_accuracy: 0.8852\n",
      "Epoch 34/45\n",
      "47520/47520 [==============================] - 20s 427us/step - loss: 0.3892 - accuracy: 0.8784 - val_loss: 0.3650 - val_accuracy: 0.8850\n",
      "Epoch 35/45\n",
      "47520/47520 [==============================] - 20s 431us/step - loss: 0.3872 - accuracy: 0.8795 - val_loss: 0.3610 - val_accuracy: 0.8883\n",
      "Epoch 36/45\n",
      "47520/47520 [==============================] - 20s 415us/step - loss: 0.3821 - accuracy: 0.8819 - val_loss: 0.3702 - val_accuracy: 0.8852\n",
      "Epoch 37/45\n",
      "47520/47520 [==============================] - 18s 382us/step - loss: 0.3804 - accuracy: 0.8821 - val_loss: 0.3719 - val_accuracy: 0.8779\n",
      "Epoch 38/45\n",
      "47520/47520 [==============================] - 20s 411us/step - loss: 0.3797 - accuracy: 0.8815 - val_loss: 0.3924 - val_accuracy: 0.8756\n",
      "Epoch 39/45\n",
      "47520/47520 [==============================] - 18s 381us/step - loss: 0.3757 - accuracy: 0.8834 - val_loss: 0.3825 - val_accuracy: 0.8759\n",
      "Epoch 40/45\n",
      "47520/47520 [==============================] - 18s 379us/step - loss: 0.3728 - accuracy: 0.8838 - val_loss: 0.3580 - val_accuracy: 0.8886\n",
      "Epoch 41/45\n",
      "47520/47520 [==============================] - 18s 377us/step - loss: 0.3737 - accuracy: 0.8847 - val_loss: 0.3702 - val_accuracy: 0.8821\n",
      "Epoch 42/45\n",
      "47520/47520 [==============================] - 18s 383us/step - loss: 0.3699 - accuracy: 0.8853 - val_loss: 0.3656 - val_accuracy: 0.8889\n",
      "Epoch 43/45\n",
      "47520/47520 [==============================] - 18s 380us/step - loss: 0.3691 - accuracy: 0.8862 - val_loss: 0.3638 - val_accuracy: 0.8840\n",
      "Epoch 44/45\n",
      "47520/47520 [==============================] - 18s 379us/step - loss: 0.3673 - accuracy: 0.8847 - val_loss: 0.3417 - val_accuracy: 0.8946\n",
      "Epoch 45/45\n",
      "47520/47520 [==============================] - 18s 384us/step - loss: 0.3667 - accuracy: 0.8844 - val_loss: 0.3533 - val_accuracy: 0.8914\n"
     ]
    }
   ],
   "source": [
    "### your code for part d\n",
    "reg3 = Sequential()\n",
    "\n",
    "reg3.add(Conv2D(num_classes * 4, (4, 4), strides=(1, 1), activation=\"relu\", input_shape=(28, 28, 1)))\n",
    "reg3.add(MaxPooling2D(pool_size=(3, 3), strides=(3, 3), padding='same'))\n",
    "reg3.add(Dropout(0.2))\n",
    "\n",
    "reg3.add(Conv2D(num_classes * 4, (3, 3), strides=(1, 1), activation=\"relu\",kernel_regularizer=l1(0.001)))\n",
    "reg3.add(MaxPooling2D(pool_size=(2, 2), strides=(2,2), padding='same'))\n",
    "\n",
    "reg3.add(Conv2D(num_classes * 3, (2, 2), strides=(1, 1), activation=\"relu\",kernel_regularizer=l2(0.001), bias_regularizer=l2(0.001)))\n",
    "reg3.add(MaxPooling2D(pool_size=(1, 1), strides=(1,1), padding='same'))\n",
    "reg3.add(Dropout(0.2))\n",
    "\n",
    "\n",
    "reg3.add(Flatten())\n",
    "reg3.add(Dense(num_classes * 3, activation='relu'))\n",
    "reg3.add(Dense(num_classes * 2, activation='relu'))\n",
    "reg3.add(Dense(num_classes, activation='softmax'))\n",
    "\n",
    "reg3.compile(loss='categorical_crossentropy', optimizer=RMSprop(lr=0.0005), metrics=['accuracy'])\n",
    "reg3.summary()\n",
    "\n",
    "reg3_history = reg3.fit(xtrain, ytrain, batch_size=batch_size, epochs=45, validation_data=(xtest, ytest))"
   ]
  },
  {
   "cell_type": "code",
   "execution_count": 11,
   "metadata": {},
   "outputs": [
    {
     "data": {
      "image/png": "[encoded data removed]",
      "text/plain": [
       "<Figure size 432x288 with 1 Axes>"
      ]
     },
     "metadata": {
      "needs_background": "light"
     },
     "output_type": "display_data"
    },
    {
     "data": {
      "image/png": "[encoded data removed]",
      "text/plain": [
       "<Figure size 432x288 with 1 Axes>"
      ]
     },
     "metadata": {
      "needs_background": "light"
     },
     "output_type": "display_data"
    }
   ],
   "source": [
    "plt.plot(reg3_history.history['accuracy'])\n",
    "plt.plot(reg3_history.history['val_accuracy'])\n",
    "plt.title('model accuracy')\n",
    "plt.ylabel('accuracy')\n",
    "plt.xlabel('epoch')\n",
    "plt.legend(['train', 'test'], loc='upper left')\n",
    "plt.show()\n",
    "# \"Loss\"\n",
    "plt.plot(reg3_history.history['loss'])\n",
    "plt.plot(reg3_history.history['val_loss'])\n",
    "plt.title('model loss')\n",
    "plt.ylabel('loss')\n",
    "plt.xlabel('epoch')\n",
    "plt.legend(['train', 'test'], loc='upper left')\n",
    "plt.show()"
   ]
  },
  {
   "cell_type": "markdown",
   "metadata": {
    "pycharm": {
     "name": "#%% md\n"
    }
   },
   "source": [
    "### L1, L2 Kernel Regularisation (Elastic Net) + Dropout\n",
    "Kernel and Bias Elastic Net (L1+L2) Regularisation used to reduce overfitting through reduction of weights used in final\n",
    "regression and bias term. Overall accuracy decresased, but there was better performance on the test set.\n",
    "\n"
   ]
  },
  {
   "cell_type": "markdown",
   "metadata": {},
   "source": [
    "\n",
    "## Regularisation Results\n",
    "After trying many regularisation methods, I have been unable to find any additional changes to dropout that resulted in an increase in accuracy. I think this is likely due to the original model being overfitted to the point of inflating accuracy, and each of the regularisation models are removing that overfitting. However, I would expect that the bias regularisation would assist in increasing the accuracy a bit, as our bias increases a bit when we regularise due to the bias variance tradeoff, so for accuracy to still be reduced with bias regularisation as well, there may be more going on than just overfitting.\n"
   ]
  },
  {
   "cell_type": "code",
   "execution_count": 12,
   "metadata": {
    "pycharm": {
     "name": "#%%\n"
    }
   },
   "outputs": [
    {
     "name": "stdout",
     "output_type": "stream",
     "text": [
      "Model: \"sequential_4\"\n",
      "_________________________________________________________________\n",
      "Layer (type)                 Output Shape              Param #   \n",
      "=================================================================\n",
      "conv2d_10 (Conv2D)           (None, 25, 25, 45)        765       \n",
      "_________________________________________________________________\n",
      "max_pooling2d_10 (MaxPooling (None, 9, 9, 45)          0         \n",
      "_________________________________________________________________\n",
      "dropout_6 (Dropout)          (None, 9, 9, 45)          0         \n",
      "_________________________________________________________________\n",
      "conv2d_11 (Conv2D)           (None, 7, 7, 36)          14616     \n",
      "_________________________________________________________________\n",
      "max_pooling2d_11 (MaxPooling (None, 4, 4, 36)          0         \n",
      "_________________________________________________________________\n",
      "conv2d_12 (Conv2D)           (None, 3, 3, 27)          3915      \n",
      "_________________________________________________________________\n",
      "max_pooling2d_12 (MaxPooling (None, 3, 3, 27)          0         \n",
      "_________________________________________________________________\n",
      "dropout_7 (Dropout)          (None, 3, 3, 27)          0         \n",
      "_________________________________________________________________\n",
      "flatten_4 (Flatten)          (None, 243)               0         \n",
      "_________________________________________________________________\n",
      "dense_10 (Dense)             (None, 27)                6588      \n",
      "_________________________________________________________________\n",
      "dense_11 (Dense)             (None, 18)                504       \n",
      "_________________________________________________________________\n",
      "dense_12 (Dense)             (None, 9)                 171       \n",
      "=================================================================\n",
      "Total params: 26,559\n",
      "Trainable params: 26,559\n",
      "Non-trainable params: 0\n",
      "_________________________________________________________________\n",
      "Train on 47520 samples, validate on 6480 samples\n",
      "Epoch 1/45\n",
      "47520/47520 [==============================] - 21s 441us/step - loss: 1.8092 - accuracy: 0.5511 - val_loss: 1.2577 - val_accuracy: 0.7042\n",
      "Epoch 2/45\n",
      "47520/47520 [==============================] - 21s 433us/step - loss: 1.1553 - accuracy: 0.7285 - val_loss: 1.0196 - val_accuracy: 0.7562\n",
      "Epoch 3/45\n",
      "47520/47520 [==============================] - 21s 434us/step - loss: 1.0075 - accuracy: 0.7575 - val_loss: 0.9150 - val_accuracy: 0.7846\n",
      "Epoch 4/45\n",
      "47520/47520 [==============================] - 20s 431us/step - loss: 0.9194 - accuracy: 0.7749 - val_loss: 0.8865 - val_accuracy: 0.7823\n",
      "Epoch 5/45\n",
      "47520/47520 [==============================] - 21s 436us/step - loss: 0.8527 - accuracy: 0.7863 - val_loss: 0.7970 - val_accuracy: 0.8009\n",
      "Epoch 6/45\n",
      "47520/47520 [==============================] - 21s 436us/step - loss: 0.8018 - accuracy: 0.7958 - val_loss: 0.7774 - val_accuracy: 0.7927\n",
      "Epoch 7/45\n",
      "47520/47520 [==============================] - 21s 436us/step - loss: 0.7616 - accuracy: 0.8020 - val_loss: 0.7143 - val_accuracy: 0.8170\n",
      "Epoch 8/45\n",
      "47520/47520 [==============================] - 21s 433us/step - loss: 0.7304 - accuracy: 0.8095 - val_loss: 0.7020 - val_accuracy: 0.8215\n",
      "Epoch 9/45\n",
      "47520/47520 [==============================] - 21s 432us/step - loss: 0.7005 - accuracy: 0.8165 - val_loss: 0.6582 - val_accuracy: 0.8313\n",
      "Epoch 10/45\n",
      "47520/47520 [==============================] - 21s 433us/step - loss: 0.6776 - accuracy: 0.8236 - val_loss: 0.6253 - val_accuracy: 0.8400\n",
      "Epoch 11/45\n",
      "47520/47520 [==============================] - 20s 427us/step - loss: 0.6549 - accuracy: 0.8281 - val_loss: 0.6525 - val_accuracy: 0.8335\n",
      "Epoch 12/45\n",
      "47520/47520 [==============================] - 20s 428us/step - loss: 0.6393 - accuracy: 0.8327 - val_loss: 0.5892 - val_accuracy: 0.8449\n",
      "Epoch 13/45\n",
      "47520/47520 [==============================] - 21s 433us/step - loss: 0.6208 - accuracy: 0.8350 - val_loss: 0.5886 - val_accuracy: 0.8485\n",
      "Epoch 14/45\n",
      "47520/47520 [==============================] - 20s 427us/step - loss: 0.6084 - accuracy: 0.8401 - val_loss: 0.5672 - val_accuracy: 0.8477\n",
      "Epoch 15/45\n",
      "47520/47520 [==============================] - 20s 429us/step - loss: 0.5973 - accuracy: 0.8425 - val_loss: 0.5579 - val_accuracy: 0.8498\n",
      "Epoch 16/45\n",
      "47520/47520 [==============================] - 21s 438us/step - loss: 0.5866 - accuracy: 0.8440 - val_loss: 0.5740 - val_accuracy: 0.8443\n",
      "Epoch 17/45\n",
      "47520/47520 [==============================] - 21s 433us/step - loss: 0.5759 - accuracy: 0.8479 - val_loss: 0.5585 - val_accuracy: 0.8537\n",
      "Epoch 18/45\n",
      "47520/47520 [==============================] - 21s 433us/step - loss: 0.5666 - accuracy: 0.8498 - val_loss: 0.5425 - val_accuracy: 0.8551\n",
      "Epoch 19/45\n",
      "47520/47520 [==============================] - 21s 438us/step - loss: 0.5579 - accuracy: 0.8503 - val_loss: 0.5381 - val_accuracy: 0.8537\n",
      "Epoch 20/45\n",
      "47520/47520 [==============================] - 21s 433us/step - loss: 0.5490 - accuracy: 0.8535 - val_loss: 0.5183 - val_accuracy: 0.8606\n",
      "Epoch 21/45\n",
      "47520/47520 [==============================] - 21s 433us/step - loss: 0.5425 - accuracy: 0.8551 - val_loss: 0.5153 - val_accuracy: 0.8608\n",
      "Epoch 22/45\n",
      "47520/47520 [==============================] - 21s 437us/step - loss: 0.5348 - accuracy: 0.8557 - val_loss: 0.5226 - val_accuracy: 0.8600\n",
      "Epoch 23/45\n",
      "47520/47520 [==============================] - 20s 431us/step - loss: 0.5319 - accuracy: 0.8569 - val_loss: 0.4960 - val_accuracy: 0.8673\n",
      "Epoch 24/45\n",
      "47520/47520 [==============================] - 21s 432us/step - loss: 0.5246 - accuracy: 0.8582 - val_loss: 0.4881 - val_accuracy: 0.8671\n",
      "Epoch 25/45\n",
      "47520/47520 [==============================] - 20s 430us/step - loss: 0.5217 - accuracy: 0.8593 - val_loss: 0.5085 - val_accuracy: 0.8634\n",
      "Epoch 26/45\n",
      "47520/47520 [==============================] - 21s 433us/step - loss: 0.5159 - accuracy: 0.8607 - val_loss: 0.4936 - val_accuracy: 0.8679\n",
      "Epoch 27/45\n",
      "47520/47520 [==============================] - 20s 430us/step - loss: 0.5117 - accuracy: 0.8624 - val_loss: 0.4845 - val_accuracy: 0.8685\n",
      "Epoch 28/45\n",
      "47520/47520 [==============================] - 20s 431us/step - loss: 0.5067 - accuracy: 0.8629 - val_loss: 0.5023 - val_accuracy: 0.8627\n",
      "Epoch 29/45\n",
      "47520/47520 [==============================] - 21s 435us/step - loss: 0.5018 - accuracy: 0.8639 - val_loss: 0.4699 - val_accuracy: 0.8741\n",
      "Epoch 30/45\n",
      "47520/47520 [==============================] - 21s 432us/step - loss: 0.4999 - accuracy: 0.8658 - val_loss: 0.4766 - val_accuracy: 0.8699\n",
      "Epoch 31/45\n",
      "47520/47520 [==============================] - 20s 429us/step - loss: 0.4960 - accuracy: 0.8674 - val_loss: 0.4739 - val_accuracy: 0.8721\n",
      "Epoch 32/45\n",
      "47520/47520 [==============================] - 21s 438us/step - loss: 0.4937 - accuracy: 0.8662 - val_loss: 0.4622 - val_accuracy: 0.8776\n",
      "Epoch 33/45\n",
      "47520/47520 [==============================] - 21s 432us/step - loss: 0.4895 - accuracy: 0.8673 - val_loss: 0.4674 - val_accuracy: 0.8725\n",
      "Epoch 34/45\n",
      "47520/47520 [==============================] - 21s 435us/step - loss: 0.4882 - accuracy: 0.8680 - val_loss: 0.4877 - val_accuracy: 0.8654\n",
      "Epoch 35/45\n",
      "47520/47520 [==============================] - 21s 436us/step - loss: 0.4852 - accuracy: 0.8690 - val_loss: 0.4518 - val_accuracy: 0.8759\n",
      "Epoch 36/45\n",
      "47520/47520 [==============================] - 21s 432us/step - loss: 0.4812 - accuracy: 0.8686 - val_loss: 0.4628 - val_accuracy: 0.8721\n",
      "Epoch 37/45\n",
      "47520/47520 [==============================] - 20s 431us/step - loss: 0.4813 - accuracy: 0.8685 - val_loss: 0.4812 - val_accuracy: 0.8677\n",
      "Epoch 38/45\n",
      "47520/47520 [==============================] - 21s 438us/step - loss: 0.4772 - accuracy: 0.8692 - val_loss: 0.4622 - val_accuracy: 0.8690\n",
      "Epoch 39/45\n",
      "47520/47520 [==============================] - 20s 427us/step - loss: 0.4725 - accuracy: 0.8716 - val_loss: 0.4708 - val_accuracy: 0.8721\n",
      "Epoch 40/45\n",
      "47520/47520 [==============================] - 20s 431us/step - loss: 0.4727 - accuracy: 0.8723 - val_loss: 0.4517 - val_accuracy: 0.8779\n",
      "Epoch 41/45\n",
      "47520/47520 [==============================] - 21s 432us/step - loss: 0.4700 - accuracy: 0.8695 - val_loss: 0.4728 - val_accuracy: 0.8694\n",
      "Epoch 42/45\n",
      "47520/47520 [==============================] - 21s 433us/step - loss: 0.4675 - accuracy: 0.8735 - val_loss: 0.4395 - val_accuracy: 0.8781\n",
      "Epoch 43/45\n",
      "47520/47520 [==============================] - 20s 430us/step - loss: 0.4653 - accuracy: 0.8723 - val_loss: 0.4465 - val_accuracy: 0.8770\n",
      "Epoch 44/45\n",
      "47520/47520 [==============================] - 20s 429us/step - loss: 0.4611 - accuracy: 0.8743 - val_loss: 0.4411 - val_accuracy: 0.8765\n",
      "Epoch 45/45\n",
      "47520/47520 [==============================] - 20s 431us/step - loss: 0.4618 - accuracy: 0.8747 - val_loss: 0.4514 - val_accuracy: 0.8736\n"
     ]
    }
   ],
   "source": [
    "\n",
    "### your code for part d\n",
    "reg4 = Sequential()\n",
    "\n",
    "reg4.add(Conv2D(num_classes * 5, (4, 4), strides=(1, 1), activation=\"relu\", input_shape=(28, 28, 1)))\n",
    "reg4.add(MaxPooling2D(pool_size=(3, 3), strides=(3, 3), padding='same'))\n",
    "reg4.add(Dropout(0.15))\n",
    "reg4.add(Conv2D(num_classes * 4, (3, 3), strides=(1, 1), activation=\"relu\",kernel_regularizer=l1(0.001)))\n",
    "reg4.add(MaxPooling2D(pool_size=(2, 2), strides=(2,2), padding='same'))\n",
    "\n",
    "reg4.add(Conv2D(num_classes * 3, (2, 2), strides=(1, 1), activation=\"relu\", kernel_regularizer=l1_l2(0.001,0.001), bias_regularizer=l1_l2(0.01,0.01)))\n",
    "reg4.add(MaxPooling2D(pool_size=(1, 1), strides=(1,1), padding='same'))\n",
    "reg4.add(Dropout(0.15))\n",
    "\n",
    "reg4.add(Flatten())\n",
    "reg4.add(Dense(num_classes * 3, activation='relu'))\n",
    "reg4.add(Dense(num_classes * 2, activation='relu', kernel_regularizer=l1_l2(0.001,0.001), bias_regularizer=l1_l2(0.01,0.01)))\n",
    "reg4.add(Dense(num_classes, activation='softmax'))\n",
    "\n",
    "reg4.compile(loss='categorical_crossentropy', optimizer=RMSprop(lr=0.0005), metrics=['accuracy'])\n",
    "reg4.summary()\n",
    "\n",
    "reg4_history = reg4.fit(xtrain, ytrain, batch_size=batch_size, epochs=45, validation_data=(xtest, ytest))"
   ]
  },
  {
   "cell_type": "code",
   "execution_count": 13,
   "metadata": {},
   "outputs": [
    {
     "data": {
      "image/png": "[encoded data removed]",
      "text/plain": [
       "<Figure size 432x288 with 1 Axes>"
      ]
     },
     "metadata": {
      "needs_background": "light"
     },
     "output_type": "display_data"
    },
    {
     "data": {
      "image/png": "[encoded data removed]",
      "text/plain": [
       "<Figure size 432x288 with 1 Axes>"
      ]
     },
     "metadata": {
      "needs_background": "light"
     },
     "output_type": "display_data"
    }
   ],
   "source": [
    "plt.plot(reg4_history.history['accuracy'])\n",
    "plt.plot(reg4_history.history['val_accuracy'])\n",
    "plt.title('model accuracy')\n",
    "plt.ylabel('accuracy')\n",
    "plt.xlabel('epoch')\n",
    "plt.legend(['train', 'test'], loc='upper left')\n",
    "plt.show()\n",
    "\n",
    "# \"Loss\"\n",
    "plt.plot(reg4_history.history['loss'])\n",
    "plt.plot(reg4_history.history['val_loss'])\n",
    "plt.title('model loss')\n",
    "plt.ylabel('loss')\n",
    "plt.xlabel('epoch')\n",
    "plt.legend(['train', 'test'], loc='upper left')\n",
    "plt.show()"
   ]
  },
  {
   "cell_type": "markdown",
   "metadata": {
    "pycharm": {
     "name": "#%% md\n"
    }
   },
   "source": [
    "## Augmentation\n",
    "\n",
    "### Image Expansion\n",
    "\n",
    "First augmentation is simply making the image larger. As these are relatively small images with small features, we want to keep\n",
    "the aspect rati, so we'll try increasing the height and width by 50%.\n",
    "\n",
    "Accuracy seemed to start at a higher value with the first augmentation. However, it struggled to make it past ~80%. I would assume that this is because some of the features became too similar as the image became larger, as well as using a relatively small stride value overall, which could lead to many greater similarity between classes"
   ]
  },
  {
   "cell_type": "code",
   "execution_count": 14,
   "metadata": {
    "pycharm": {
     "name": "#%%\n"
    },
    "scrolled": true
   },
   "outputs": [
    {
     "name": "stdout",
     "output_type": "stream",
     "text": [
      "Model: \"sequential_5\"\n",
      "_________________________________________________________________\n",
      "Layer (type)                 Output Shape              Param #   \n",
      "=================================================================\n",
      "conv2d_13 (Conv2D)           (None, 25, 25, 36)        612       \n",
      "_________________________________________________________________\n",
      "max_pooling2d_13 (MaxPooling (None, 9, 9, 36)          0         \n",
      "_________________________________________________________________\n",
      "dropout_8 (Dropout)          (None, 9, 9, 36)          0         \n",
      "_________________________________________________________________\n",
      "conv2d_14 (Conv2D)           (None, 7, 7, 36)          11700     \n",
      "_________________________________________________________________\n",
      "max_pooling2d_14 (MaxPooling (None, 4, 4, 36)          0         \n",
      "_________________________________________________________________\n",
      "conv2d_15 (Conv2D)           (None, 3, 3, 27)          3915      \n",
      "_________________________________________________________________\n",
      "max_pooling2d_15 (MaxPooling (None, 3, 3, 27)          0         \n",
      "_________________________________________________________________\n",
      "flatten_5 (Flatten)          (None, 243)               0         \n",
      "_________________________________________________________________\n",
      "dense_13 (Dense)             (None, 27)                6588      \n",
      "_________________________________________________________________\n",
      "dense_14 (Dense)             (None, 18)                504       \n",
      "_________________________________________________________________\n",
      "dense_15 (Dense)             (None, 9)                 171       \n",
      "=================================================================\n",
      "Total params: 23,490\n",
      "Trainable params: 23,490\n",
      "Non-trainable params: 0\n",
      "_________________________________________________________________\n",
      "Epoch 1/45\n",
      "742/742 [==============================] - 34s 46ms/step - loss: 1.7297 - accuracy: 0.3249 - val_loss: 1.2354 - val_accuracy: 0.5389\n",
      "Epoch 2/45\n",
      "742/742 [==============================] - 34s 46ms/step - loss: 1.2514 - accuracy: 0.5151 - val_loss: 0.9176 - val_accuracy: 0.6511\n",
      "Epoch 3/45\n",
      "742/742 [==============================] - 34s 46ms/step - loss: 1.1021 - accuracy: 0.5803 - val_loss: 0.8939 - val_accuracy: 0.6537\n",
      "Epoch 4/45\n",
      "742/742 [==============================] - 34s 46ms/step - loss: 1.0247 - accuracy: 0.6105 - val_loss: 0.7998 - val_accuracy: 0.6903\n",
      "Epoch 5/45\n",
      "742/742 [==============================] - 34s 46ms/step - loss: 0.9745 - accuracy: 0.6344 - val_loss: 0.7852 - val_accuracy: 0.6901\n",
      "Epoch 6/45\n",
      "742/742 [==============================] - 34s 46ms/step - loss: 0.9285 - accuracy: 0.6513 - val_loss: 0.7464 - val_accuracy: 0.7111\n",
      "Epoch 7/45\n",
      "742/742 [==============================] - 34s 46ms/step - loss: 0.8961 - accuracy: 0.6628 - val_loss: 0.7539 - val_accuracy: 0.7117\n",
      "Epoch 8/45\n",
      "742/742 [==============================] - 34s 46ms/step - loss: 0.8650 - accuracy: 0.6745 - val_loss: 0.7248 - val_accuracy: 0.7412\n",
      "Epoch 9/45\n",
      "742/742 [==============================] - 34s 46ms/step - loss: 0.8393 - accuracy: 0.6857 - val_loss: 0.6803 - val_accuracy: 0.7491\n",
      "Epoch 10/45\n",
      "742/742 [==============================] - 34s 46ms/step - loss: 0.8202 - accuracy: 0.6954 - val_loss: 0.6511 - val_accuracy: 0.7693\n",
      "Epoch 11/45\n",
      "742/742 [==============================] - 34s 46ms/step - loss: 0.7973 - accuracy: 0.7028 - val_loss: 0.6269 - val_accuracy: 0.7767\n",
      "Epoch 12/45\n",
      "742/742 [==============================] - 34s 46ms/step - loss: 0.7827 - accuracy: 0.7085 - val_loss: 0.6045 - val_accuracy: 0.7779\n",
      "Epoch 13/45\n",
      "742/742 [==============================] - 35s 47ms/step - loss: 0.7655 - accuracy: 0.7164 - val_loss: 0.5658 - val_accuracy: 0.7954\n",
      "Epoch 14/45\n",
      "742/742 [==============================] - 34s 46ms/step - loss: 0.7514 - accuracy: 0.7218 - val_loss: 0.5472 - val_accuracy: 0.8046\n",
      "Epoch 15/45\n",
      "742/742 [==============================] - 34s 46ms/step - loss: 0.7366 - accuracy: 0.7284 - val_loss: 0.5735 - val_accuracy: 0.7943\n",
      "Epoch 16/45\n",
      "742/742 [==============================] - 34s 46ms/step - loss: 0.7246 - accuracy: 0.7324 - val_loss: 0.5772 - val_accuracy: 0.7915\n",
      "Epoch 17/45\n",
      "742/742 [==============================] - 35s 47ms/step - loss: 0.7152 - accuracy: 0.7381 - val_loss: 0.5246 - val_accuracy: 0.8131\n",
      "Epoch 18/45\n",
      "742/742 [==============================] - 34s 46ms/step - loss: 0.7040 - accuracy: 0.7408 - val_loss: 0.5172 - val_accuracy: 0.8102\n",
      "Epoch 19/45\n",
      "742/742 [==============================] - 35s 47ms/step - loss: 0.6904 - accuracy: 0.7463 - val_loss: 0.5120 - val_accuracy: 0.8120\n",
      "Epoch 20/45\n",
      "742/742 [==============================] - 34s 46ms/step - loss: 0.6829 - accuracy: 0.7469 - val_loss: 0.4994 - val_accuracy: 0.8147\n",
      "Epoch 21/45\n",
      "742/742 [==============================] - 34s 46ms/step - loss: 0.6748 - accuracy: 0.7493 - val_loss: 0.4996 - val_accuracy: 0.8150\n",
      "Epoch 22/45\n",
      "742/742 [==============================] - 34s 46ms/step - loss: 0.6683 - accuracy: 0.7527 - val_loss: 0.5002 - val_accuracy: 0.8165\n",
      "Epoch 23/45\n",
      "742/742 [==============================] - 34s 46ms/step - loss: 0.6589 - accuracy: 0.7593 - val_loss: 0.4868 - val_accuracy: 0.8194\n",
      "Epoch 24/45\n",
      "742/742 [==============================] - 34s 46ms/step - loss: 0.6524 - accuracy: 0.7613 - val_loss: 0.4944 - val_accuracy: 0.8205\n",
      "Epoch 25/45\n",
      "742/742 [==============================] - 34s 46ms/step - loss: 0.6440 - accuracy: 0.7635 - val_loss: 0.5030 - val_accuracy: 0.8199\n",
      "Epoch 26/45\n",
      "742/742 [==============================] - 34s 46ms/step - loss: 0.6438 - accuracy: 0.7620 - val_loss: 0.4784 - val_accuracy: 0.8219\n",
      "Epoch 27/45\n",
      "742/742 [==============================] - 34s 46ms/step - loss: 0.6328 - accuracy: 0.7665 - val_loss: 0.5115 - val_accuracy: 0.8148\n",
      "Epoch 28/45\n",
      "742/742 [==============================] - 34s 46ms/step - loss: 0.6282 - accuracy: 0.7684 - val_loss: 0.4938 - val_accuracy: 0.8221\n",
      "Epoch 29/45\n",
      "742/742 [==============================] - 34s 46ms/step - loss: 0.6191 - accuracy: 0.7709 - val_loss: 0.4841 - val_accuracy: 0.8222\n",
      "Epoch 30/45\n",
      "742/742 [==============================] - 34s 46ms/step - loss: 0.6181 - accuracy: 0.7717 - val_loss: 0.5246 - val_accuracy: 0.8069\n",
      "Epoch 31/45\n",
      "742/742 [==============================] - 34s 46ms/step - loss: 0.6154 - accuracy: 0.7732 - val_loss: 0.4674 - val_accuracy: 0.8281\n",
      "Epoch 32/45\n",
      "742/742 [==============================] - 34s 46ms/step - loss: 0.6105 - accuracy: 0.7739 - val_loss: 0.4393 - val_accuracy: 0.8364\n",
      "Epoch 33/45\n",
      "742/742 [==============================] - 34s 46ms/step - loss: 0.6074 - accuracy: 0.7754 - val_loss: 0.4674 - val_accuracy: 0.8273\n",
      "Epoch 34/45\n",
      "742/742 [==============================] - 34s 46ms/step - loss: 0.6011 - accuracy: 0.7781 - val_loss: 0.4617 - val_accuracy: 0.8276\n",
      "Epoch 35/45\n",
      "742/742 [==============================] - 34s 46ms/step - loss: 0.5956 - accuracy: 0.7804 - val_loss: 0.4443 - val_accuracy: 0.8397\n",
      "Epoch 36/45\n",
      "742/742 [==============================] - 34s 46ms/step - loss: 0.5908 - accuracy: 0.7834 - val_loss: 0.4518 - val_accuracy: 0.8383\n",
      "Epoch 37/45\n",
      "742/742 [==============================] - 34s 46ms/step - loss: 0.5896 - accuracy: 0.7822 - val_loss: 0.4525 - val_accuracy: 0.8353\n",
      "Epoch 38/45\n",
      "742/742 [==============================] - 34s 46ms/step - loss: 0.5864 - accuracy: 0.7820 - val_loss: 0.4478 - val_accuracy: 0.8383\n",
      "Epoch 39/45\n",
      "742/742 [==============================] - 34s 46ms/step - loss: 0.5866 - accuracy: 0.7834 - val_loss: 0.4238 - val_accuracy: 0.8432\n",
      "Epoch 40/45\n",
      "742/742 [==============================] - 34s 46ms/step - loss: 0.5812 - accuracy: 0.7849 - val_loss: 0.4732 - val_accuracy: 0.8256\n",
      "Epoch 41/45\n",
      "742/742 [==============================] - 34s 45ms/step - loss: 0.5799 - accuracy: 0.7873 - val_loss: 0.4213 - val_accuracy: 0.8457\n",
      "Epoch 42/45\n",
      "742/742 [==============================] - 34s 46ms/step - loss: 0.5757 - accuracy: 0.7891 - val_loss: 0.4268 - val_accuracy: 0.8409\n",
      "Epoch 43/45\n",
      "742/742 [==============================] - 34s 45ms/step - loss: 0.5730 - accuracy: 0.7897 - val_loss: 0.4119 - val_accuracy: 0.8480\n",
      "Epoch 44/45\n",
      "742/742 [==============================] - 34s 46ms/step - loss: 0.5717 - accuracy: 0.7886 - val_loss: 0.4158 - val_accuracy: 0.8475\n",
      "Epoch 45/45\n",
      "742/742 [==============================] - 34s 45ms/step - loss: 0.5700 - accuracy: 0.7904 - val_loss: 0.4330 - val_accuracy: 0.8414\n"
     ]
    }
   ],
   "source": [
    "### your code for part e\n",
    "from keras_preprocessing.image import ImageDataGenerator\n",
    "datagen = ImageDataGenerator(width_shift_range=0.5, height_shift_range=0.5)\n",
    "# prepare iterator\n",
    "it_gen = datagen.flow(xtrain, ytrain, batch_size=128)\n",
    "\n",
    "from keras.regularizers import l1,l2,l1_l2\n",
    "aug = Sequential()\n",
    "\n",
    "aug.add(Conv2D(num_classes * 4, (4, 4), strides=(1, 1), activation=\"relu\", input_shape=(28, 28, 1)))\n",
    "aug.add(MaxPooling2D(pool_size=(3, 3), strides=(3, 3), padding='same'))\n",
    "aug.add(Dropout(0.15))\n",
    "\n",
    "aug.add(Conv2D(num_classes * 4, (3, 3), strides=(1, 1), activation=\"relu\"))\n",
    "aug.add(MaxPooling2D(pool_size=(2, 2), strides=(2,2), padding='same'))\n",
    "\n",
    "aug.add(Conv2D(num_classes * 3, (2, 2), strides=(1, 1), activation=\"relu\"))\n",
    "aug.add(MaxPooling2D(pool_size=(1, 1), strides=(1,1), padding='same'))\n",
    "aug.add(Flatten())\n",
    "\n",
    "aug.add(Dense(num_classes * 3, activation='relu'))\n",
    "aug.add(Dense(num_classes * 2, activation='relu'))\n",
    "aug.add(Dense(num_classes, activation='softmax'))\n",
    "\n",
    "aug.compile(loss='categorical_crossentropy', optimizer=RMSprop(lr=0.0005), metrics=['accuracy'])\n",
    "aug.summary()\n",
    "\n",
    "# fit model\n",
    "aug_history = aug.fit_generator(it_gen, epochs=45, validation_data=(xtest, ytest), steps_per_epoch=len(xtrain) // 64)"
   ]
  },
  {
   "cell_type": "code",
   "execution_count": 15,
   "metadata": {},
   "outputs": [
    {
     "data": {
      "image/png": "[encoded data removed]",
      "text/plain": [
       "<Figure size 432x288 with 1 Axes>"
      ]
     },
     "metadata": {
      "needs_background": "light"
     },
     "output_type": "display_data"
    },
    {
     "data": {
      "image/png": "[encoded data removed]",
      "text/plain": [
       "<Figure size 432x288 with 1 Axes>"
      ]
     },
     "metadata": {
      "needs_background": "light"
     },
     "output_type": "display_data"
    }
   ],
   "source": [
    "plt.plot(aug_history.history['accuracy'])\n",
    "plt.plot(aug_history.history['val_accuracy'])\n",
    "plt.title('model accuracy')\n",
    "plt.ylabel('accuracy')\n",
    "plt.xlabel('epoch')\n",
    "plt.legend(['train', 'test'], loc='upper left')\n",
    "plt.show()\n",
    "# \"Loss\"\n",
    "plt.plot(aug_history.history['loss'])\n",
    "plt.plot(aug_history.history['val_loss'])\n",
    "plt.title('model loss')\n",
    "plt.ylabel('loss')\n",
    "plt.xlabel('epoch')\n",
    "plt.legend(['train', 'test'], loc='upper left')\n",
    "plt.show()"
   ]
  },
  {
   "cell_type": "markdown",
   "metadata": {
    "pycharm": {
     "name": "#%% md\n"
    }
   },
   "source": [
    "### Image Translation Flip\n",
    "\n",
    "The next iteration we'll try flipping the image horizontally. Accuracy was higher in comparison to the scaling of the image. This provided the first major increase in accuracy above 90%, likely due to the feature space of the images being a bit better defined over the original images."
   ]
  },
  {
   "cell_type": "code",
   "execution_count": 16,
   "metadata": {
    "pycharm": {
     "name": "#%%\n"
    }
   },
   "outputs": [
    {
     "name": "stdout",
     "output_type": "stream",
     "text": [
      "Model: \"sequential_6\"\n",
      "_________________________________________________________________\n",
      "Layer (type)                 Output Shape              Param #   \n",
      "=================================================================\n",
      "conv2d_16 (Conv2D)           (None, 25, 25, 36)        612       \n",
      "_________________________________________________________________\n",
      "max_pooling2d_16 (MaxPooling (None, 9, 9, 36)          0         \n",
      "_________________________________________________________________\n",
      "dropout_9 (Dropout)          (None, 9, 9, 36)          0         \n",
      "_________________________________________________________________\n",
      "conv2d_17 (Conv2D)           (None, 7, 7, 36)          11700     \n",
      "_________________________________________________________________\n",
      "max_pooling2d_17 (MaxPooling (None, 4, 4, 36)          0         \n",
      "_________________________________________________________________\n",
      "conv2d_18 (Conv2D)           (None, 3, 3, 27)          3915      \n",
      "_________________________________________________________________\n",
      "max_pooling2d_18 (MaxPooling (None, 3, 3, 27)          0         \n",
      "_________________________________________________________________\n",
      "flatten_6 (Flatten)          (None, 243)               0         \n",
      "_________________________________________________________________\n",
      "dense_16 (Dense)             (None, 27)                6588      \n",
      "_________________________________________________________________\n",
      "dense_17 (Dense)             (None, 18)                504       \n",
      "_________________________________________________________________\n",
      "dense_18 (Dense)             (None, 9)                 171       \n",
      "=================================================================\n",
      "Total params: 23,490\n",
      "Trainable params: 23,490\n",
      "Non-trainable params: 0\n",
      "_________________________________________________________________\n",
      "Epoch 1/45\n",
      "742/742 [==============================] - 34s 46ms/step - loss: 0.9297 - accuracy: 0.6678 - val_loss: 0.5723 - val_accuracy: 0.7975\n",
      "Epoch 2/45\n",
      "742/742 [==============================] - 34s 46ms/step - loss: 0.5359 - accuracy: 0.8046 - val_loss: 0.4477 - val_accuracy: 0.8412\n",
      "Epoch 3/45\n",
      "742/742 [==============================] - 34s 46ms/step - loss: 0.4417 - accuracy: 0.8404 - val_loss: 0.4070 - val_accuracy: 0.8540\n",
      "Epoch 4/45\n",
      "742/742 [==============================] - 34s 46ms/step - loss: 0.3945 - accuracy: 0.8579 - val_loss: 0.3680 - val_accuracy: 0.8673\n",
      "Epoch 5/45\n",
      "742/742 [==============================] - 34s 46ms/step - loss: 0.3648 - accuracy: 0.8692 - val_loss: 0.3380 - val_accuracy: 0.8818\n",
      "Epoch 6/45\n",
      "742/742 [==============================] - 34s 45ms/step - loss: 0.3424 - accuracy: 0.8772 - val_loss: 0.3211 - val_accuracy: 0.8847\n",
      "Epoch 7/45\n",
      "742/742 [==============================] - 34s 45ms/step - loss: 0.3283 - accuracy: 0.8815 - val_loss: 0.3189 - val_accuracy: 0.8860\n",
      "Epoch 8/45\n",
      "742/742 [==============================] - 33s 45ms/step - loss: 0.3161 - accuracy: 0.8858 - val_loss: 0.3141 - val_accuracy: 0.8864\n",
      "Epoch 9/45\n",
      "742/742 [==============================] - 34s 45ms/step - loss: 0.3054 - accuracy: 0.8885 - val_loss: 0.3076 - val_accuracy: 0.8921\n",
      "Epoch 10/45\n",
      "742/742 [==============================] - 34s 45ms/step - loss: 0.2975 - accuracy: 0.8931 - val_loss: 0.3151 - val_accuracy: 0.8887\n",
      "Epoch 11/45\n",
      "742/742 [==============================] - 34s 45ms/step - loss: 0.2904 - accuracy: 0.8951 - val_loss: 0.2853 - val_accuracy: 0.8991\n",
      "Epoch 12/45\n",
      "742/742 [==============================] - 34s 45ms/step - loss: 0.2824 - accuracy: 0.8975 - val_loss: 0.2874 - val_accuracy: 0.8980\n",
      "Epoch 13/45\n",
      "742/742 [==============================] - 34s 46ms/step - loss: 0.2774 - accuracy: 0.8999 - val_loss: 0.2831 - val_accuracy: 0.8988\n",
      "Epoch 14/45\n",
      "742/742 [==============================] - 34s 45ms/step - loss: 0.2726 - accuracy: 0.9002 - val_loss: 0.2757 - val_accuracy: 0.9031\n",
      "Epoch 15/45\n",
      "742/742 [==============================] - 34s 46ms/step - loss: 0.2666 - accuracy: 0.9038 - val_loss: 0.2973 - val_accuracy: 0.8944\n",
      "Epoch 16/45\n",
      "742/742 [==============================] - 34s 45ms/step - loss: 0.2623 - accuracy: 0.9045 - val_loss: 0.2726 - val_accuracy: 0.9069\n",
      "Epoch 17/45\n",
      "742/742 [==============================] - 33s 45ms/step - loss: 0.2561 - accuracy: 0.9067 - val_loss: 0.2751 - val_accuracy: 0.9032\n",
      "Epoch 18/45\n",
      "742/742 [==============================] - 34s 45ms/step - loss: 0.2536 - accuracy: 0.9080 - val_loss: 0.2844 - val_accuracy: 0.8981\n",
      "Epoch 19/45\n",
      "742/742 [==============================] - 33s 45ms/step - loss: 0.2494 - accuracy: 0.9098 - val_loss: 0.2637 - val_accuracy: 0.9069\n",
      "Epoch 20/45\n",
      "742/742 [==============================] - 34s 45ms/step - loss: 0.2461 - accuracy: 0.9103 - val_loss: 0.2723 - val_accuracy: 0.9034\n",
      "Epoch 21/45\n",
      "742/742 [==============================] - 33s 45ms/step - loss: 0.2453 - accuracy: 0.9107 - val_loss: 0.2632 - val_accuracy: 0.9071\n",
      "Epoch 22/45\n",
      "742/742 [==============================] - 33s 45ms/step - loss: 0.2401 - accuracy: 0.9129 - val_loss: 0.2592 - val_accuracy: 0.9093\n",
      "Epoch 23/45\n",
      "742/742 [==============================] - 33s 45ms/step - loss: 0.2366 - accuracy: 0.9134 - val_loss: 0.2618 - val_accuracy: 0.9088\n",
      "Epoch 24/45\n",
      "742/742 [==============================] - 33s 45ms/step - loss: 0.2325 - accuracy: 0.9151 - val_loss: 0.2537 - val_accuracy: 0.9128\n",
      "Epoch 25/45\n",
      "742/742 [==============================] - 33s 45ms/step - loss: 0.2331 - accuracy: 0.9147 - val_loss: 0.2609 - val_accuracy: 0.9117\n",
      "Epoch 26/45\n",
      "742/742 [==============================] - 33s 45ms/step - loss: 0.2297 - accuracy: 0.9168 - val_loss: 0.2616 - val_accuracy: 0.9085\n",
      "Epoch 27/45\n",
      "742/742 [==============================] - 33s 45ms/step - loss: 0.2263 - accuracy: 0.9172 - val_loss: 0.2535 - val_accuracy: 0.9102\n",
      "Epoch 28/45\n",
      "742/742 [==============================] - 33s 45ms/step - loss: 0.2217 - accuracy: 0.9193 - val_loss: 0.2526 - val_accuracy: 0.9145\n",
      "Epoch 29/45\n",
      "742/742 [==============================] - 33s 45ms/step - loss: 0.2231 - accuracy: 0.9182 - val_loss: 0.2494 - val_accuracy: 0.9099\n",
      "Epoch 30/45\n",
      "742/742 [==============================] - 34s 45ms/step - loss: 0.2189 - accuracy: 0.9195 - val_loss: 0.2736 - val_accuracy: 0.9035\n",
      "Epoch 31/45\n",
      "742/742 [==============================] - 34s 46ms/step - loss: 0.2170 - accuracy: 0.9203 - val_loss: 0.2563 - val_accuracy: 0.9097\n",
      "Epoch 32/45\n",
      "742/742 [==============================] - 34s 46ms/step - loss: 0.2171 - accuracy: 0.9202 - val_loss: 0.2523 - val_accuracy: 0.9108\n",
      "Epoch 33/45\n",
      "742/742 [==============================] - 34s 46ms/step - loss: 0.2153 - accuracy: 0.9208 - val_loss: 0.2484 - val_accuracy: 0.9130\n",
      "Epoch 34/45\n",
      "742/742 [==============================] - 34s 46ms/step - loss: 0.2118 - accuracy: 0.9225 - val_loss: 0.2439 - val_accuracy: 0.9179\n",
      "Epoch 35/45\n",
      "742/742 [==============================] - 34s 46ms/step - loss: 0.2079 - accuracy: 0.9235 - val_loss: 0.2520 - val_accuracy: 0.9114\n",
      "Epoch 36/45\n",
      "742/742 [==============================] - 34s 46ms/step - loss: 0.2084 - accuracy: 0.9231 - val_loss: 0.2484 - val_accuracy: 0.9150\n",
      "Epoch 37/45\n",
      "742/742 [==============================] - 34s 46ms/step - loss: 0.2058 - accuracy: 0.9250 - val_loss: 0.2443 - val_accuracy: 0.9184\n",
      "Epoch 38/45\n",
      "742/742 [==============================] - 34s 46ms/step - loss: 0.2053 - accuracy: 0.9251 - val_loss: 0.2511 - val_accuracy: 0.9177\n",
      "Epoch 39/45\n",
      "742/742 [==============================] - 34s 46ms/step - loss: 0.2027 - accuracy: 0.9251 - val_loss: 0.2443 - val_accuracy: 0.9140\n",
      "Epoch 40/45\n",
      "742/742 [==============================] - 35s 47ms/step - loss: 0.2014 - accuracy: 0.9260 - val_loss: 0.2503 - val_accuracy: 0.9142\n",
      "Epoch 41/45\n",
      "742/742 [==============================] - 34s 46ms/step - loss: 0.1993 - accuracy: 0.9272 - val_loss: 0.2419 - val_accuracy: 0.9162\n",
      "Epoch 42/45\n",
      "742/742 [==============================] - 34s 46ms/step - loss: 0.1996 - accuracy: 0.9264 - val_loss: 0.2504 - val_accuracy: 0.9162\n",
      "Epoch 43/45\n",
      "742/742 [==============================] - 34s 46ms/step - loss: 0.1980 - accuracy: 0.9274 - val_loss: 0.2501 - val_accuracy: 0.9137\n",
      "Epoch 44/45\n",
      "742/742 [==============================] - 34s 46ms/step - loss: 0.1969 - accuracy: 0.9281 - val_loss: 0.2410 - val_accuracy: 0.9181\n",
      "Epoch 45/45\n",
      "742/742 [==============================] - 34s 46ms/step - loss: 0.1946 - accuracy: 0.9288 - val_loss: 0.2431 - val_accuracy: 0.9174\n"
     ]
    }
   ],
   "source": [
    "### your code for part e\n",
    "from keras_preprocessing.image import ImageDataGenerator\n",
    "datagen = ImageDataGenerator(horizontal_flip=True)\n",
    "# prepare iterator\n",
    "it_gen = datagen.flow(xtrain, ytrain, batch_size=128)\n",
    "\n",
    "from keras.regularizers import l1,l2,l1_l2\n",
    "aug2 = Sequential()\n",
    "\n",
    "aug2.add(Conv2D(num_classes * 4, (4, 4), strides=(1, 1), activation=\"relu\", input_shape=(28, 28, 1)))\n",
    "aug2.add(MaxPooling2D(pool_size=(3, 3), strides=(3, 3), padding='same'))\n",
    "aug2.add(Dropout(0.15))\n",
    "\n",
    "aug2.add(Conv2D(num_classes * 4, (3, 3), strides=(1, 1), activation=\"relu\"))\n",
    "aug2.add(MaxPooling2D(pool_size=(2, 2), strides=(2,2), padding='same'))\n",
    "\n",
    "aug2.add(Conv2D(num_classes * 3, (2, 2), strides=(1, 1), activation=\"relu\"))\n",
    "aug2.add(MaxPooling2D(pool_size=(1, 1), strides=(1,1), padding='same'))\n",
    "aug2.add(Flatten())\n",
    "\n",
    "aug2.add(Dense(num_classes * 3, activation='relu'))\n",
    "aug2.add(Dense(num_classes * 2, activation='relu'))\n",
    "aug2.add(Dense(num_classes, activation='softmax'))\n",
    "\n",
    "aug2.compile(loss='categorical_crossentropy', optimizer=RMSprop(lr=0.0005), metrics=['accuracy'])\n",
    "aug2.summary()\n",
    "\n",
    "# fit model\n",
    "aug2_history = aug2.fit_generator(it_gen, epochs=45, validation_data=(xtest, ytest), steps_per_epoch=len(xtrain) // 64)"
   ]
  },
  {
   "cell_type": "code",
   "execution_count": 17,
   "metadata": {},
   "outputs": [
    {
     "data": {
      "image/png": "[encoded data removed]",
      "text/plain": [
       "<Figure size 432x288 with 1 Axes>"
      ]
     },
     "metadata": {
      "needs_background": "light"
     },
     "output_type": "display_data"
    },
    {
     "data": {
      "image/png": "[encoded data removed]",
      "text/plain": [
       "<Figure size 432x288 with 1 Axes>"
      ]
     },
     "metadata": {
      "needs_background": "light"
     },
     "output_type": "display_data"
    }
   ],
   "source": [
    "plt.plot(aug2_history.history['accuracy'])\n",
    "plt.plot(aug2_history.history['val_accuracy'])\n",
    "plt.title('model accuracy')\n",
    "plt.ylabel('accuracy')\n",
    "plt.xlabel('epoch')\n",
    "plt.legend(['train', 'test'], loc='upper left')\n",
    "plt.show()\n",
    "# \"Loss\"\n",
    "plt.plot(aug2_history.history['loss'])\n",
    "plt.plot(aug2_history.history['val_loss'])\n",
    "plt.title('model loss')\n",
    "plt.ylabel('loss')\n",
    "plt.xlabel('epoch')\n",
    "plt.legend(['train', 'test'], loc='upper left')\n",
    "plt.show()"
   ]
  },
  {
   "cell_type": "markdown",
   "metadata": {},
   "source": [
    "(8 points) Q2. Try at least 2 others classical (non-neural-network) machine-learning algorithms that we covered in this class to classify the same dataset. Make sure to tune any hyper-parameters of the models and plot the accuracy as a function of the values of those parameters. Explain those plots. What accuracies do you get? Why did the accuracies increase or decrease with relation to the values of the hyper-parameters? Discussing this with the bias-variance tradeoff in mind will likely be useful. How do these compare to the accuracies you got in Q1? Explain why the accuracies are higher, lower, or similar in terms of the assumptions, strengths, and weaknesses of the classification techniques you used in Q1 and Q2. Use the same data augmentation techniques that you used in Q1c with these algorithms. Compare the change in accuracy due to augmentation that you got here and that in Q1c. Explain any differences you might find."
   ]
  },
  {
   "cell_type": "markdown",
   "metadata": {
    "pycharm": {
     "name": "#%% md\n"
    }
   },
   "source": [
    "## PCA and LDA Classification\n"
   ]
  },
  {
   "cell_type": "code",
   "execution_count": 18,
   "metadata": {
    "pycharm": {
     "name": "#%%\n"
    }
   },
   "outputs": [
    {
     "name": "stdout",
     "output_type": "stream",
     "text": [
      "(47520, 784) (6480, 784) (47520,) (6480,)\n"
     ]
    }
   ],
   "source": [
    "### your code\n",
    "import numpy as np\n",
    "import numpy as np\n",
    "import matplotlib.pyplot as plt\n",
    "from sklearn import svm\n",
    "from sklearn.decomposition import PCA\n",
    "from sklearn.preprocessing import StandardScaler\n",
    "from sklearn.ensemble import AdaBoostClassifier\n",
    "from sklearn import datasets\n",
    "from sklearn.model_selection import train_test_split\n",
    "from sklearn import metrics\n",
    "\n",
    "xtrain = np.loadtxt('xtrain.csv')\n",
    "xtest = np.loadtxt('xtest.csv')\n",
    "ytrain = np.loadtxt('ytrain.csv')\n",
    "ytest = np.loadtxt('ytest.csv')\n",
    "print(xtrain.shape, xtest.shape, ytrain.shape, ytest.shape)"
   ]
  },
  {
   "cell_type": "code",
   "execution_count": 19,
   "metadata": {},
   "outputs": [],
   "source": [
    "xtrain /= 255.\n",
    "xtest /= 255.\n",
    "\n"
   ]
  },
  {
   "cell_type": "markdown",
   "metadata": {},
   "source": [
    "### PCA + Logistic Regression Pipeline Classification\n",
    "Hyperparameters; N_Components, check accuracy based on increasing number of components from 1 to 100. Going above ~20, with anything above ~40 resulting in fractions of a percent increased accuracy, but we pretty quickly approach a limit of accuracy around 85%. \n",
    "\n",
    "\n",
    "PCA largely increases in accuracy as we add more components, but but with a plateau after about 5 components before increasing again aftr about 10, which is interesting.I'm not entirely sure why that happens, but after that the accuracy continues to increase at a decreasing rate, approaching about 85% at its best. \n",
    "\n",
    "I would have expected PCA to do a little better, as it behaves similarly to a CNN just across a different space. Where the CNN will try to group on similar pixels and doing a sort of iterative feature reduction, PCA is achieving through the raw data of each input matrix. One explanation for hte accuracy difference is that there is more similarity in the raw data of the images, which makes sense when you look at the pictures. CNN can look at edges and shapes, where PCA is effectively just seeing that the colors are very similar in pixel 700 in so many images. \n",
    "\n",
    "PCA is not necessarily a bad fit for image recognition, but I think it suffers in this case where the images share too many similarities in such a way that most of the underlying data is the same."
   ]
  },
  {
   "cell_type": "code",
   "execution_count": 20,
   "metadata": {},
   "outputs": [
    {
     "name": "stdout",
     "output_type": "stream",
     "text": [
      "components used 1 . score 0.2770061728395062\n",
      "components used 2 . score 0.5337962962962963\n",
      "components used 3 . score 0.6253086419753087\n",
      "components used 4 . score 0.6623456790123456\n",
      "components used 5 . score 0.7024691358024692\n",
      "components used 6 . score 0.7103395061728395\n",
      "components used 7 . score 0.7171296296296297\n",
      "components used 8 . score 0.7435185185185185\n",
      "components used 9 . score 0.7600308641975309\n",
      "components used 10 . score 0.7612654320987654\n",
      "components used 11 . score 0.7774691358024691\n",
      "components used 12 . score 0.7800925925925926\n",
      "components used 13 . score 0.7853395061728395\n",
      "components used 14 . score 0.7921296296296296\n",
      "components used 15 . score 0.7913580246913581\n",
      "components used 16 . score 0.7950617283950617\n",
      "components used 17 . score 0.7992283950617284\n",
      "components used 18 . score 0.7996913580246914\n",
      "components used 19 . score 0.8058641975308642\n",
      "components used 20 . score 0.808179012345679\n",
      "components used 21 . score 0.807716049382716\n",
      "components used 22 . score 0.8078703703703703\n",
      "components used 23 . score 0.808641975308642\n",
      "components used 24 . score 0.8121913580246913\n",
      "components used 25 . score 0.8158950617283951\n",
      "components used 26 . score 0.8182098765432099\n",
      "components used 27 . score 0.8194444444444444\n",
      "components used 28 . score 0.8189814814814815\n",
      "components used 29 . score 0.8223765432098765\n",
      "components used 30 . score 0.8237654320987654\n",
      "components used 31 . score 0.8222222222222222\n",
      "components used 32 . score 0.8225308641975309\n",
      "components used 33 . score 0.8219135802469136\n",
      "components used 34 . score 0.8251543209876543\n",
      "components used 35 . score 0.8260802469135803\n",
      "components used 36 . score 0.8229938271604939\n",
      "components used 37 . score 0.825462962962963\n",
      "components used 38 . score 0.8287037037037037\n",
      "components used 39 . score 0.8291666666666667\n",
      "components used 40 . score 0.8317901234567902\n",
      "components used 41 . score 0.832716049382716\n",
      "components used 42 . score 0.8314814814814815\n",
      "components used 43 . score 0.8319444444444445\n",
      "components used 44 . score 0.8304012345679013\n",
      "components used 45 . score 0.8342592592592593\n",
      "components used 46 . score 0.8342592592592593\n",
      "components used 47 . score 0.8371913580246914\n",
      "components used 48 . score 0.8348765432098766\n",
      "components used 49 . score 0.8347222222222223\n",
      "components used 50 . score 0.8345679012345679\n",
      "components used 51 . score 0.8337962962962963\n",
      "components used 52 . score 0.8358024691358025\n",
      "components used 53 . score 0.8351851851851851\n",
      "components used 54 . score 0.8356481481481481\n",
      "components used 55 . score 0.8354938271604938\n",
      "components used 56 . score 0.8353395061728395\n",
      "components used 57 . score 0.836574074074074\n",
      "components used 58 . score 0.8356481481481481\n",
      "components used 59 . score 0.836574074074074\n",
      "components used 60 . score 0.836574074074074\n",
      "components used 61 . score 0.8361111111111111\n",
      "components used 62 . score 0.8354938271604938\n",
      "components used 63 . score 0.8395061728395061\n",
      "components used 64 . score 0.8391975308641976\n",
      "components used 65 . score 0.8401234567901235\n",
      "components used 66 . score 0.8412037037037037\n",
      "components used 67 . score 0.8405864197530865\n",
      "components used 68 . score 0.8410493827160493\n",
      "components used 69 . score 0.8390432098765432\n",
      "components used 70 . score 0.8402777777777778\n",
      "components used 71 . score 0.8396604938271605\n",
      "components used 72 . score 0.8421296296296297\n",
      "components used 73 . score 0.8416666666666667\n",
      "components used 74 . score 0.8396604938271605\n",
      "components used 75 . score 0.8407407407407408\n",
      "components used 76 . score 0.840895061728395\n",
      "components used 77 . score 0.8415123456790123\n",
      "components used 78 . score 0.8435185185185186\n",
      "components used 79 . score 0.8455246913580247\n",
      "components used 80 . score 0.8432098765432099\n",
      "components used 81 . score 0.8427469135802469\n",
      "components used 82 . score 0.845679012345679\n",
      "components used 83 . score 0.845679012345679\n",
      "components used 84 . score 0.846141975308642\n",
      "components used 85 . score 0.8472222222222222\n",
      "components used 86 . score 0.8438271604938271\n",
      "components used 87 . score 0.8472222222222222\n",
      "components used 88 . score 0.8478395061728395\n",
      "components used 89 . score 0.8475308641975309\n",
      "components used 90 . score 0.8481481481481481\n",
      "components used 91 . score 0.8473765432098765\n",
      "components used 92 . score 0.846141975308642\n",
      "components used 93 . score 0.8478395061728395\n",
      "components used 94 . score 0.845679012345679\n",
      "components used 95 . score 0.8487654320987654\n",
      "components used 96 . score 0.85\n",
      "components used 97 . score 0.850925925925926\n",
      "components used 98 . score 0.8506172839506173\n",
      "components used 99 . score 0.85\n",
      "components used 100 . score 0.8501543209876543\n"
     ]
    }
   ],
   "source": [
    "from sklearn import decomposition\n",
    "from sklearn import svm\n",
    "from sklearn.linear_model import LogisticRegression\n",
    "from sklearn.pipeline import Pipeline\n",
    "import warnings\n",
    "warnings.filterwarnings('ignore')\n",
    "warnings.simplefilter('ignore')\n",
    "\n",
    "scores = np.array([])\n",
    "for i in range(100):\n",
    "    xt = xtrain # reset each iteration to prevent weirdness\n",
    "    yt = ytrain\n",
    "    x = xtest\n",
    "    y = ytest\n",
    "    pca = decomposition.PCA(n_components=i+1)\n",
    "    pca.fit(xt)\n",
    "    xt_train = pca.transform(xt)\n",
    "    xt_test = pca.transform(x)\n",
    "    \n",
    "    cls = LogisticRegression(solver='lbfgs', dual=False) \n",
    "    pipe = Pipeline([('pca', pca), ('logistic', cls)])\n",
    "    pipe.fit(xt_train, yt)\n",
    "    predictions = pipe.predict(xt_test)\n",
    "    score = pipe.score(xt_test, y)\n",
    "    scores = np.append(scores, [score])\n",
    "    print('components used', i+1,'. score', score)"
   ]
  },
  {
   "cell_type": "code",
   "execution_count": 21,
   "metadata": {},
   "outputs": [
    {
     "data": {
      "text/plain": [
       "[<matplotlib.lines.Line2D at 0x1ad1077e9b0>]"
      ]
     },
     "execution_count": 21,
     "metadata": {},
     "output_type": "execute_result"
    },
    {
     "data": {
      "image/png": "[encoded data removed]",
      "text/plain": [
       "<Figure size 432x288 with 1 Axes>"
      ]
     },
     "metadata": {
      "needs_background": "light"
     },
     "output_type": "display_data"
    }
   ],
   "source": [
    "xp = np.linspace(1,100, 100)\n",
    "plt.plot(xp, scores)\n"
   ]
  },
  {
   "cell_type": "markdown",
   "metadata": {},
   "source": [
    "### LDA Image Classification\n",
    "\n",
    "I figured the best comparison for PCA would end up being LDA as they are both a form of linear transformation on the dataset, with LDA being supervised compared to PCA's unsupervised learning.\n",
    "\n",
    "SVD was chosen due to the high number of features to reduce the computation time. The same pipleli8kne was used for the LDA classification as the PCA for a better comparison.\n",
    "\n",
    "I expected LDA and PCA to behave similarly. The distribution of the data may not be considered uniform, in which case LDA may perform worse than PCA as LDA can favor the most common classification. LDA requiring output labels doesn't harm us as we are trying to classify each image based on a label, making it a decent fit for the dataset.\n",
    "\n",
    "LDA started at a higher accuracy than PCA with the same number of components, but its performance increases were a little smoother than what we see in PCA, it still began to taper off and approach a limit, but it saccuracy quickly tapered off and flattened out to 83.7% at ~8 components. Tolerance also didn't appear to change the accuracy by a significant degree."
   ]
  },
  {
   "cell_type": "code",
   "execution_count": 22,
   "metadata": {},
   "outputs": [
    {
     "name": "stdout",
     "output_type": "stream",
     "text": [
      "components used 1 . score 0.49459876543209874\n",
      "components used 2 . score 0.6228395061728395\n",
      "components used 3 . score 0.6706790123456791\n",
      "components used 4 . score 0.7251543209876543\n",
      "components used 5 . score 0.7472222222222222\n",
      "components used 6 . score 0.7805555555555556\n",
      "components used 7 . score 0.8268518518518518\n",
      "components used 8 . score 0.8376543209876544\n",
      "components used 9 . score 0.8378086419753087\n",
      "components used 10 . score 0.8378086419753087\n"
     ]
    }
   ],
   "source": [
    "from sklearn.discriminant_analysis import LinearDiscriminantAnalysis\n",
    "ldaScores = np.array([])\n",
    "for i in range(10):\n",
    "    xt = xtrain # reset each iteration to prevent weirdness\n",
    "    yt = ytrain\n",
    "    x = xtest\n",
    "    y = ytest\n",
    "    lda = LinearDiscriminantAnalysis(n_components=i+1, solver='svd', tol = 0.01 * (i+1)) \n",
    "    xl_train = lda.fit_transform(xt, yt)\n",
    "    xl_test = lda.transform(x)\n",
    "\n",
    "    cls = LogisticRegression(solver='lbfgs', dual=False) \n",
    "    lda_pipe = Pipeline([('lda', lda), ('logistic', cls)])\n",
    "    lda_pipe.fit(xl_train, yt)\n",
    "    predictions = lda_pipe.predict(xl_test)\n",
    "    score = lda_pipe.score(xl_test, y)\n",
    "    ldaScores = np.append(ldaScores, [score])\n",
    "    print('components used',i+1,'. score', score)"
   ]
  },
  {
   "cell_type": "code",
   "execution_count": 23,
   "metadata": {
    "scrolled": true
   },
   "outputs": [
    {
     "data": {
      "text/plain": [
       "[<matplotlib.lines.Line2D at 0x1ad104b9710>]"
      ]
     },
     "execution_count": 23,
     "metadata": {},
     "output_type": "execute_result"
    },
    {
     "data": {
      "image/png": "[encoded data removed]",
      "text/plain": [
       "<Figure size 432x288 with 1 Axes>"
      ]
     },
     "metadata": {
      "needs_background": "light"
     },
     "output_type": "display_data"
    }
   ],
   "source": [
    "xl = np.linspace(1, 10, 10)\n",
    "plt.plot(xl, ldaScores)\n"
   ]
  },
  {
   "cell_type": "markdown",
   "metadata": {},
   "source": [
    "(4 points) Q3. So far, we gave you both the training set and the test set for your models. But that is not what happens in real life. In real life, you prepare your model based on the training set to evaluate it on a test set to which you will have access only at some point in the future. To simulate that situation better, we are adding this question, which is related to evaluating your algorithms in Q1 and Q2 for predicting previously unseen data. On Friday, 5/22 at 12:01am, we will send you a collection of new samples without their associated labels. Your job is to run the algorithms you created for Q1 and Q2 on this new dataset and create a CSV file with 3 columns, which includes the labels that you predicted with your 3 proposed algorithms in the following order: first column is the NN from Q1, second column is the first model from Q2, and third column is the second model from Q2. You need to upload this CSV file to Canvas as your answer to this question. "
   ]
  },
  {
   "cell_type": "code",
   "execution_count": 24,
   "metadata": {},
   "outputs": [
    {
     "name": "stdout",
     "output_type": "stream",
     "text": [
      "(1080, 784)\n",
      "(1080, 28, 28, 1)\n"
     ]
    },
    {
     "data": {
      "text/plain": [
       "<matplotlib.image.AxesImage at 0x1ad110a6208>"
      ]
     },
     "execution_count": 24,
     "metadata": {},
     "output_type": "execute_result"
    },
    {
     "data": {
      "image/png": "[encoded data removed]",
      "text/plain": [
       "<Figure size 720x720 with 9 Axes>"
      ]
     },
     "metadata": {
      "needs_background": "light"
     },
     "output_type": "display_data"
    }
   ],
   "source": [
    "xnew = np.loadtxt('xnew.csv')\n",
    "print(xnew.shape)\n",
    "xnew_cnn = xnew.reshape((xnew.shape[0], 28, 28,1))\n",
    "xnew_cnn /= 255.\n",
    "print(xnew_cnn.shape)\n",
    "\n",
    "\n",
    "import matplotlib.pyplot as plt\n",
    "import matplotlib.image as mpimg\n",
    "\n",
    "fig, axs = plt.subplots(3, 3, figsize=(10,10))\n",
    "xn_train = xnew\n",
    "\n",
    "r1 = xn_train[1]\n",
    "rowData1 = r1.reshape(28, 28)\n",
    "r2 = xn_train[2]\n",
    "rowData2 = r2.reshape(28, 28)\n",
    "r3 = xn_train[3]\n",
    "rowData3 = r3.reshape(28, 28)\n",
    "r4 = xn_train[4]\n",
    "rowData4 = r4.reshape(28, 28)\n",
    "r5 = xn_train[5]\n",
    "rowData5 = r5.reshape(28, 28)\n",
    "r6 = xn_train[6]\n",
    "rowData6 = r6.reshape(28, 28)\n",
    "r7 = xn_train[7]\n",
    "rowData7 = r7.reshape(28, 28)\n",
    "r8 = xn_train[8]\n",
    "rowData8 = r8.reshape(28, 28)\n",
    "r9 = xn_train[9]\n",
    "rowData9 = r9.reshape(28, 28)\n",
    "\n",
    "\n",
    "\n",
    "axs[0,0].imshow(rowData1)\n",
    "axs[0,1].imshow(rowData2)\n",
    "axs[0,2].imshow(rowData3)\n",
    "axs[1,0].imshow(rowData4)\n",
    "axs[1,1].imshow(rowData5)\n",
    "axs[1,2].imshow(rowData6)\n",
    "axs[2,0].imshow(rowData7)\n",
    "axs[2,1].imshow(rowData8)\n",
    "axs[2,2].imshow(rowData9)\n",
    "#   "
   ]
  },
  {
   "cell_type": "code",
   "execution_count": 25,
   "metadata": {},
   "outputs": [],
   "source": [
    "# for some reason I need to reinit the pca and lda functions to transform properly and run the predictions\n",
    "pca = decomposition.PCA(n_components=100)\n",
    "pca.fit(xt)\n",
    "lda = LinearDiscriminantAnalysis(n_components=10, solver='svd', tol = 0.01 * (10)) \n",
    "xl_train = lda.fit_transform(xtrain, ytrain)\n",
    "xnew_pca = pca.transform(xnew)\n",
    "xnew_lda = lda.transform(xnew)\n",
    "\n",
    "\n",
    "ynew_cnn = aug2.predict_classes(xnew_cnn)\n",
    "ynew_pca = pipe.predict(xnew_pca).astype(int)\n",
    "ynew_pca -= 247\n",
    "ynew_lda =  lda_pipe.predict(xnew_lda).astype(int)\n",
    "ynew_lda -= 247"
   ]
  },
  {
   "cell_type": "code",
   "execution_count": 31,
   "metadata": {},
   "outputs": [
    {
     "name": "stdout",
     "output_type": "stream",
     "text": [
      "(1080,)\n",
      "(1080,)\n",
      "(1080,)\n"
     ]
    }
   ],
   "source": [
    "import pandas as pd\n",
    "print(ynew_cnn.shape)\n",
    "print(ynew_pca.shape)\n",
    "print(ynew_lda.shape)\n",
    "\n",
    "\n",
    "predictions = {\"NN\" : ynew_cnn, \"PCA\":ynew_pca, \"LDA\":ynew_lda}\n",
    "predictions = pd.DataFrame(data=predictions)\n",
    "predictions.to_csv('predictions.csv', index=False)"
   ]
  },
  {
   "cell_type": "code",
   "execution_count": null,
   "metadata": {},
   "outputs": [],
   "source": []
  }
 ],
 "metadata": {
  "kernelspec": {
   "display_name": "Python 3",
   "language": "python",
   "name": "python3"
  },
  "language_info": {
   "codemirror_mode": {
    "name": "ipython",
    "version": 3
   },
   "file_extension": ".py",
   "mimetype": "text/x-python",
   "name": "python",
   "nbconvert_exporter": "python",
   "pygments_lexer": "ipython3",
   "version": "3.7.7"
  }
 },
 "nbformat": 4,
 "nbformat_minor": 4
}
