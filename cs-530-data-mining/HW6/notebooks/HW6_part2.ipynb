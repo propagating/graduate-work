{
 "cells": [
  {
   "cell_type": "markdown",
   "metadata": {},
   "source": [
    "#### Question 3 (3 points)"
   ]
  },
  {
   "cell_type": "markdown",
   "metadata": {},
   "source": [
    "a. Use the synthetic dataset (created below) to train a logistic regression model on the training set. Calculate the AUC of your prediction on the test set."
   ]
  },
  {
   "cell_type": "code",
   "execution_count": 53,
   "metadata": {
    "pycharm": {
     "is_executing": false
    }
   },
   "outputs": [],
   "source": [
    "from sklearn.linear_model import LogisticRegression\n",
    "from sklearn import metrics\n",
    "from sklearn import datasets\n",
    "from sklearn.model_selection import train_test_split\n",
    "import matplotlib.pyplot as plt\n",
    "import numpy as np\n",
    "import random\n",
    "\n",
    "\n",
    "X, y = datasets.make_classification(n_samples=2000, n_features=20,\n",
    "                                    n_informative=3)\n",
    "\n",
    "X_train, X_test, y_train, y_test = train_test_split(X, y, test_size=0.33, random_state=42)\n",
    "\n",
    "def predict_logistic_regression(descriptors, target, logit=None):\n",
    "    if logit is None:\n",
    "        logit = LogisticRegression(solver='lbfgs', random_state=0, max_iter=10000).fit(descriptors, target)\n",
    "    logit.predict(descriptors)\n",
    "    return logit\n",
    "\n",
    "def score_logit(descriptors, target, logit):\n",
    "    predictions = logit.predict_proba(descriptors)\n",
    "    falsePositiveRate, truePositiveRate, thresholds = metrics.roc_curve(target, predictions[::, 1])\n",
    "    areaUnderCurve = metrics.auc(falsePositiveRate, truePositiveRate)\n",
    "    return areaUnderCurve"
   ]
  },
  {
   "cell_type": "code",
   "execution_count": 54,
   "metadata": {
    "pycharm": {
     "is_executing": false
    }
   },
   "outputs": [
    {
     "name": "stdout",
     "text": [
      "Train Data\n",
      "0.8708955223880597\n",
      "Test Data\n",
      "0.85\n",
      "AUC\n",
      "0.9338442735184113\n"
     ],
     "output_type": "stream"
    }
   ],
   "source": [
    "# Your code goes here\n",
    "print('Train Data')\n",
    "predictedModel = predict_logistic_regression(X_train, y_train, None)\n",
    "print(predictedModel.score(X_train, y_train))\n",
    "print('Test Data')\n",
    "testModel = predict_logistic_regression(X_test, y_test, predictedModel)\n",
    "print(testModel.score(X_test, y_test))\n",
    "\n",
    "areaUnderCurve = score_logit(X_test, y_test, predictedModel)\n",
    "\n",
    "print('AUC')\n",
    "print(areaUnderCurve)"
   ]
  },
  {
   "cell_type": "markdown",
   "metadata": {},
   "source": [
    "b. Randomly sample 100, 300, and 1000 data points from the training set. For each sample size, randomly sample 1000 times, each time fit a logistic regresson, predict on the test set and calcuate the AUC. Plot a distribution of the 1000 AUCs for each sample size on the same plot. Also, plot the AUC you get from 3a as a verticle line on the same plot as well. (Hints: Plot [distributions/histogram](https://stackoverflow.com/questions/6871201/plot-two-histograms-on-single-chart-with-matplotlib).) "
   ]
  },
  {
   "cell_type": "code",
   "execution_count": 55,
   "metadata": {
    "pycharm": {
     "is_executing": false
    }
   },
   "outputs": [
    {
     "data": {
      "text/plain": "<Figure size 432x288 with 1 Axes>",
      "image/png": "[encoded data removed]"
     },
     "metadata": {
      "needs_background": "light"
     },
     "output_type": "display_data"
    }
   ],
   "source": [
    "aucHundred = []\n",
    "aucThreeHundred = []\n",
    "aucThousand = []\n",
    "# Your code goes here\n",
    "for i in range(1000):\n",
    "    hundredIndexes = random.sample(range(len(X_train)), 100)\n",
    "    threeHundredIndexes = random.sample(range(len(X_train)), 300)\n",
    "    thousandIndexes = random.sample(range(len(X_train)), 1000)\n",
    "    \n",
    "    hundredPredicted = predict_logistic_regression(X_train[hundredIndexes], y_train[hundredIndexes], None)\n",
    "    threeHundredPredicted = predict_logistic_regression(X_train[threeHundredIndexes], y_train[threeHundredIndexes], None)\n",
    "    thousandPredicted = predict_logistic_regression(X_train[thousandIndexes], y_train[thousandIndexes], None)\n",
    "    \n",
    "    aucHundred.append(score_logit(X_test, y_test, hundredPredicted))\n",
    "    aucThreeHundred.append(score_logit(X_test, y_test, threeHundredPredicted))\n",
    "    aucThousand.append(score_logit(X_test, y_test, thousandPredicted))\n",
    "\n",
    "bins = np.linspace(min(aucHundred), max(aucThousand), 100)\n",
    "plt.axvline(areaUnderCurve,color='black', label = 'Full Sample AUC', linestyle='-')\n",
    "plt.hist(aucHundred, bins, alpha=0.8, label='100 Sample')\n",
    "plt.hist(aucThreeHundred, bins, alpha=0.8, label='300 Sample')\n",
    "plt.hist(aucThousand, bins, alpha=0.8, label='1000 Sample')\n",
    "plt.legend(loc='best')\n",
    "plt.show()"
   ]
  },
  {
   "cell_type": "markdown",
   "metadata": {},
   "source": [
    "c. What pattern did you see from the plot you get from 3b? Explain your findings."
   ]
  },
  {
   "cell_type": "markdown",
   "metadata": {
    "pycharm": {
     "name": "#%% md\n"
    }
   },
   "source": [
    "AUC values increase, while their spread decreases as sample size increases. This is easily explained by the changes in sample size.\n",
    "The more training data you have, the better your predictions will be, and your prediction accuracy will have less variance when comapred\n",
    "against predictions made with a smaller training set.  "
   ]
  }
 ],
 "metadata": {
  "kernelspec": {
   "name": "python3",
   "language": "python",
   "display_name": "Python 3"
  },
  "language_info": {
   "codemirror_mode": {
    "name": "ipython",
    "version": 3
   },
   "file_extension": ".py",
   "mimetype": "text/x-python",
   "name": "python",
   "nbconvert_exporter": "python",
   "pygments_lexer": "ipython3",
   "version": "3.6.8"
  },
  "pycharm": {
   "stem_cell": {
    "cell_type": "raw",
    "source": [],
    "metadata": {
     "collapsed": false
    }
   }
  }
 },
 "nbformat": 4,
 "nbformat_minor": 2
}