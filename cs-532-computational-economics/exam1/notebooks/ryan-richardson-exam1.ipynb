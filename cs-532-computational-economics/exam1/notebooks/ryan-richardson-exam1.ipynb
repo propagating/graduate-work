{
 "cells": [
  {
   "cell_type": "markdown",
   "source": [
    "# EXAM 1\n",
    "\n",
    "### Question 1a. - 1d.\n",
    "\n",
    "See PDF\n",
    "\n",
    "### Question 1e.\n",
    "\n",
    "In this case, the antithetic sampling method should not be expect to reduce variance. This is due to the restricts on the\n",
    "x values. This is due to the fact that the x values we use are pretty heavily skewed to one side of the uniform distribution.\n",
    "The scale of that does not change when swapping to antithetic sampling in our case, so we don't see any positive impact on variance.\n",
    "In fact, we see an increase in variance, but the difference is pretty minimal, so it's hard to tell if it's significant.\n",
    "\n",
    "In other scenarios, Antithetic sampling will typically reduce variance by helping to normalize the sampled\n",
    "values towards the mean of the distribution.\n",
    "\n",
    "In our simulations the variance hovers between 0.0040 and 0.0046 for both uniform and antithetic sampling."
   ],
   "metadata": {
    "collapsed": false,
    "pycharm": {
     "name": "#%% md\n"
    }
   }
  },
  {
   "cell_type": "code",
   "execution_count": 2,
   "outputs": [],
   "source": [
    "import numpy as np\n",
    "import itertools\n"
   ],
   "metadata": {
    "collapsed": false,
    "pycharm": {
     "name": "#%%\n"
    }
   }
  },
  {
   "cell_type": "code",
   "execution_count": 3,
   "outputs": [
    {
     "name": "stdout",
     "output_type": "stream",
     "text": [
      "Random Sampling\n",
      "Approx. Area:\t0.67\n",
      "Variance: 0.004688\n",
      "\n",
      "Antithetic Sampling\n",
      "Approx. Area:\t0.66\n",
      "Variance: 0.004560\n",
      "\n"
     ]
    }
   ],
   "source": [
    "def integrateUniform(iterations):\n",
    "    count = 0\n",
    "    for _ in range(iterations):\n",
    "        x = np.random.uniform(0, 1)\n",
    "        # y is from 0 to 2\n",
    "        y = np.random.uniform(0, 2)\n",
    "        # b/c we are restricting to y values greater than 0,\n",
    "        # we do not need to worry about when f(x) returns a value below 0\n",
    "        if x < 0.5:\n",
    "            count += (2 - 8 * (x ** 2)) >= y\n",
    "    #(must divide by 1/2 )\n",
    "    estimate = (count / iterations) * 2\n",
    "    return estimate\n",
    "\n",
    "\n",
    "def integrateAntithetic(iterations):\n",
    "    count = 0\n",
    "    for _ in range(iterations):\n",
    "        x = np.random.uniform(0, 1)\n",
    "        # y is from 0 to 2\n",
    "        y = np.random.uniform(0, 2)\n",
    "        ax = 1 - x\n",
    "        if ax <= 0.5:\n",
    "            count += (2 - 8 * (ax ** 2)) >= y\n",
    "    estimate = (count / iterations) * 2\n",
    "    return estimate\n",
    "\n",
    "iters = 200\n",
    "trials = 1000\n",
    "\n",
    "print(\"Random Sampling\")\n",
    "uniform = [integrateUniform(iters) for _ in range(trials)]\n",
    "print(f\"Approx. Area:\\t{np.mean(uniform):.2f}\")\n",
    "print(f\"Variance: {np.var(uniform):.6f}\\n\")\n",
    "\n",
    "print(\"Antithetic Sampling\")\n",
    "antithetic = [integrateAntithetic(iters) for _ in range(trials)]\n",
    "print(f\"Approx. Area:\\t{np.mean(antithetic):.2f}\")\n",
    "print(f\"Variance: {np.var(antithetic):.6f}\\n\")"
   ],
   "metadata": {
    "collapsed": false,
    "pycharm": {
     "name": "#%%\n"
    }
   }
  },
  {
   "cell_type": "markdown",
   "source": [
    "### Question 1f.\n",
    "Equation on PDF"
   ],
   "metadata": {
    "collapsed": false
   }
  },
  {
   "cell_type": "code",
   "execution_count": 4,
   "outputs": [
    {
     "name": "stdout",
     "output_type": "stream",
     "text": [
      "Importance Sampling\n",
      "Approx. Area:\t0.66\n",
      "Variance: 0.001168\n",
      "\n"
     ]
    }
   ],
   "source": [
    "def integrateImportance(iterations):\n",
    "    count = 0\n",
    "    for _ in range(iterations):\n",
    "        # b/c x > 0.5 ret 0 we can simplify to random 0,0.5 instead of 0,1\n",
    "        x = np.random.uniform(0, 0.5)\n",
    "        # y is from 0 to 2\n",
    "        y = np.random.uniform(0, 2)\n",
    "        count += (2 - 8 * (x ** 2)) >= y\n",
    "    estimate = (count / iterations)\n",
    "    return estimate\n",
    "\n",
    "\n",
    "print(\"Importance Sampling\")\n",
    "importance = [integrateImportance(iters) for _ in range(trials)]\n",
    "print(f\"Approx. Area:\\t{np.mean(importance):.2f}\")\n",
    "print(f\"Variance: {np.var(importance):.6f}\\n\")\n"
   ],
   "metadata": {
    "collapsed": false,
    "pycharm": {
     "name": "#%%\n"
    }
   }
  },
  {
   "cell_type": "markdown",
   "source": [
    "### 1g.\n",
    "Importance sampling appears to be the absolute best in this case. This is primarily down to focusing our sampling to the region\n",
    "of x's that actually have a chance at affecting our output (previously we had to discard many x values that had a 0 value).\n",
    "By reducing the number of total samples, and focusing all samples on a smaller area, we see a substantially reduced\n",
    "variance in our estimate. While the mean is unaffected, which is expected as the areas on the graph do not change,\n",
    "the more precise sampling method means each iteration is contributing to our estimate in a more substantial way.\n",
    "\n",
    "As a result, importance sampling is the best choice in this scenario."
   ],
   "metadata": {
    "collapsed": false
   }
  },
  {
   "cell_type": "markdown",
   "source": [
    "# Question 2 Linear Programming\n",
    "\n",
    "### Question 2a. Variables to Define\n",
    "\n",
    "We need to define the following:\n",
    "\n",
    "Cost of livestock setup\n",
    "\n",
    "Cost of biohazard setup\n",
    "\n",
    "Profit per livestock unit\n",
    "\n",
    "Profit per biohazard unit\n",
    "\n",
    "Indicator for Livestock Sold at Warehouse 1\n",
    "\n",
    "Indicator for Livestock Sold at Warehouse 2\n",
    "\n",
    "Indicator for Biohazard Sold at Warehouse 1\n",
    "\n",
    "Indicator for Biohazard Sold at Warehouse 2\n",
    "\n",
    "Total Shipping Hours Available at Warehouse 1\n",
    "\n",
    "Total Shipping Hours Available at Warehouse 2\n",
    "\n",
    "Number of Shipments Livestock at Warehouse 1\n",
    "\n",
    "Number of Shipments Livestock at Warehouse 2\n",
    "\n",
    "Number of Shipments Biohazard at Warehouse 1\n",
    "\n",
    "Number of Shipments Biohazard at Warehouse 2\n",
    "\n",
    "Big M for indicators\n",
    "\n",
    "### Question 2b. Objective Function\n",
    "Each warehouse has the same basic profit equation:\n",
    "\n",
    "(Livestock per Hour * Livestock Profit * Livestock Shipments) +\n",
    "(Biohazard per Hours * Biohazard Profit * Biohazard Shipments) +\n",
    "(Livestock Indicator * -Livestock Setup Cost) +\n",
    "(Biohazard Indicator * -Biohazard Setup Cost)\n",
    "\n",
    "\n",
    "We want to maximize the profit of Warehouse 1 + Warehouse 2 as our objective function. This is fully expanded on the code below.\n",
    "\n",
    "### Question 2c. Constraints\n",
    "\n",
    "\n",
    "Indicator for Livestock Sold at Warehouse 1 {0,1}\n",
    "\n",
    "Indicator for Livestock Sold at Warehouse 2 {0,1}\n",
    "\n",
    "Indicator for Biohazard Sold at Warehouse 1 {0,1}\n",
    "\n",
    "Indicator for Biohazard Sold at Warehouse 2 {0,1}\n",
    "\n",
    "Number of Shipments Livestock at Warehouse 1 {0, inf}\n",
    "\n",
    "Number of Shipments Livestock at Warehouse 2 {0, inf}\n",
    "\n",
    "Number of Shipments Biohazard at Warehouse 1 {0, inf}\n",
    "\n",
    "Number of Shipments Biohazard at Warehouse 2 {0, inf}\n",
    "\n",
    "Warehouse 1 Livestock Shipments + Warehouse 1 Biohazard Shipments <= 240\n",
    "\n",
    "Warehouse 2 Livestock Shipments + Warehouse 2 Biohazard Shipments <= 360\n",
    "\n",
    "Warehouse 1 Livestock Shipments <= M * Warehouse 1 Livestock Sold Indicator\n",
    "\n",
    "Warehouse 1 Biohazard Shipments <= M * Warehouse 1 Biohazard Sold Indicator\n",
    "\n",
    "Warehouse 2 Livestock Shipments <= M * Warehouse 2 Livestock Sold Indicator\n",
    "\n",
    "Warehouse 2 Biohazard Shipments <= M * Warehouse 2 Biohazard Sold Indicator\n",
    "\n",
    "All variables are integers\n",
    "\n",
    "We end up with a profit of $286200 selling 240 shipments of livestock at warehouse 1\n",
    "and 360 shipments of livestock at warehouse 2"
   ],
   "metadata": {
    "collapsed": false
   }
  },
  {
   "cell_type": "code",
   "execution_count": 5,
   "outputs": [
    {
     "name": "stdout",
     "output_type": "stream",
     "text": [
      "Solution:\n",
      "Maximum Profit = 286200.0\n",
      "Warehouse 1 Livestock = 240.0\n",
      "Warehouse 2 Livestock = 360.0\n",
      "Warehouse 1 Biohazard = 0.0\n",
      "Warehouse 2 Biohazard = 0.0\n"
     ]
    }
   ],
   "source": [
    "from ortools.linear_solver import pywraplp\n",
    "\n",
    "solver = pywraplp.Solver.CreateSolver('SCIP')\n",
    "\n",
    "livestockCost = -22500\n",
    "livestockProfit = 6\n",
    "biohazardCost = -38000\n",
    "biohazardProfit = 8\n",
    "oneTotalShippingHours = 240\n",
    "twoTotalShippingHours = 360\n",
    "\n",
    "oneLivestockUnitsPerHour = 104\n",
    "oneBiohazardUnitsPerHour = 76\n",
    "twoLivestockUnitsPerHour = 84\n",
    "twoBiohazardUnitsPerHour = 46\n",
    "\n",
    "# w1Constraints = L + B <= 240\n",
    "# w2Constraints = L + B <= 260\n",
    "# w1Profit = (104 * 6 * L1) + (76 * 8 * B1) - 22500 * (Indicator L) - 38000 * (Indicator B)\n",
    "# w2Profit = (84 * 6 * L2) + (46 * 8 * B2) - 22500 * (Indicator L) - 38000 * (Indicator B)\n",
    "# Maximize = w1Profit + w2Profit\n",
    "\n",
    "inf = solver.infinity()\n",
    "\n",
    "oneLivestockIndicator = solver.IntVar(0, 1, 'Warehouse 1 Livestock Indicator')\n",
    "twoLivestockIndicator = solver.IntVar(0, 1, 'Warehouse 2 Livestock Indicator')\n",
    "\n",
    "oneBiohazardIndicator = solver.IntVar(0, 1, 'Warehouse 1 Biohazard Indicator')\n",
    "twoBiohazardIndicator = solver.IntVar(0, 1, 'Warehouse 2 Biohazard Indicator')\n",
    "\n",
    "oneLivestockShipments = solver.IntVar(0, inf, \"Warehouse 1 Livestock\")\n",
    "twoLivestockShipments = solver.IntVar(0, inf, \"Warehouse 2 Livestock\")\n",
    "\n",
    "oneBiohazardShipments = solver.IntVar(0, inf, \"Warehouse 1 Biohazard\")\n",
    "twoBiohazardShipments = solver.IntVar(0, inf, \"Warehouse 2 Biohazard\")\n",
    "\n",
    "m = 1800\n",
    "solver.Add(oneLivestockShipments <= m * oneLivestockIndicator)\n",
    "solver.Add(twoLivestockShipments <= m * twoLivestockIndicator)\n",
    "\n",
    "solver.Add(oneBiohazardShipments <= m * oneBiohazardIndicator)\n",
    "solver.Add(twoBiohazardIndicator <= m * twoBiohazardIndicator)\n",
    "\n",
    "solver.Add(oneLivestockShipments + oneBiohazardShipments <= oneTotalShippingHours)\n",
    "solver.Add(twoLivestockShipments + twoBiohazardShipments <= twoTotalShippingHours)\n",
    "\n",
    "solver.Maximize(oneLivestockUnitsPerHour * livestockProfit * oneLivestockShipments + oneBiohazardUnitsPerHour * biohazardProfit * oneBiohazardShipments + (livestockCost * oneLivestockIndicator) + (biohazardCost * oneBiohazardIndicator) +\n",
    "                twoLivestockUnitsPerHour * livestockProfit * twoLivestockShipments + twoBiohazardUnitsPerHour * biohazardProfit * twoBiohazardShipments + (livestockCost * twoLivestockIndicator) + (biohazardCost * twoBiohazardIndicator))\n",
    "\n",
    "status = solver.Solve()\n",
    "\n",
    "if status == pywraplp.Solver.OPTIMAL:\n",
    "    print('Solution:')\n",
    "    print('Maximum Profit =', solver.Objective().Value())\n",
    "    print('Warehouse 1 Livestock =', oneLivestockShipments.solution_value())\n",
    "    print('Warehouse 2 Livestock =', twoLivestockShipments.solution_value())\n",
    "    print('Warehouse 1 Biohazard =', oneBiohazardShipments.solution_value())\n",
    "    print('Warehouse 2 Biohazard =', twoBiohazardShipments.solution_value())\n",
    "else:\n",
    "    print('The problem does not have an optimal solution.')\n",
    "\n"
   ],
   "metadata": {
    "collapsed": false,
    "pycharm": {
     "name": "#%%\n"
    }
   }
  },
  {
   "cell_type": "markdown",
   "source": [
    "# Question 3\n",
    "\n",
    "### Question 3a.\n",
    "\n",
    "There are (52c5) ways to deal 5 cards from a 52 card deck which equates to 2,598,960\n",
    "\n",
    "\n",
    "### Question 3b.\n",
    "\n",
    "There are (52c5) * (47c5) ways to deal two five card hands from a standard deck of cards which equates to\n",
    "3,986,646,103,440"
   ],
   "metadata": {
    "collapsed": false
   }
  },
  {
   "cell_type": "markdown",
   "source": [
    "### Question 3c.\n",
    "There are 864 face pair flush hands.\n",
    "\n",
    "(3c1) Face Cards * (4c2) Suits * (12c1) Non-Pair Cards *  (4c3) Suits\n",
    "\n",
    "= 3 * 6 * 12 * 4\n",
    "\n",
    "= 144 * 6\n",
    "\n",
    "= 864"
   ],
   "metadata": {
    "collapsed": false
   }
  },
  {
   "cell_type": "markdown",
   "source": [
    "### Question 3d.\n",
    "There are 864/(52c5) way sof being dealt a face pair flush, which equates to 864/2598960, or ~0.033%."
   ],
   "metadata": {
    "collapsed": false
   }
  },
  {
   "cell_type": "code",
   "execution_count": 7,
   "outputs": [
    {
     "name": "stdout",
     "output_type": "stream",
     "text": [
      "Total Face Pair Flush hands 864\n",
      "Total Hands Checked 2598960\n",
      "Face Pair Flush Probability 0.0003324406685751224\n"
     ]
    }
   ],
   "source": [
    "def buildDeck():\n",
    "    suits = ['D', 'H', 'C', 'S']\n",
    "    cards = range(1, 14)\n",
    "    deck = []\n",
    "    for c in cards:\n",
    "        for j in suits:\n",
    "            deck.append((c, j))\n",
    "    return deck\n",
    "\n",
    "\n",
    "def checkFullHouse(hand):\n",
    "    cardValues = list(zip(*hand))[0]  # get values of each card in hand without their suit\n",
    "    handCards = set(cardValues)  # get unique values of cards in hand\n",
    "    faceCards = {11, 12, 13}  # create set of face cards we're interested in\n",
    "\n",
    "    if len(handCards) == 2:  # check only 2 unique card values exist in hand\n",
    "        if set(faceCards & set(handCards)):  # check we have at least 1 face card\n",
    "            inter = handCards.intersection(faceCards)  # get value(s) of face card(s) the hand\n",
    "            for i in inter:  # for each face card that exists in hand\n",
    "                countInHand = cardValues.count(i)  # get count of face card in hand\n",
    "                if countInHand == 2:  # if count is exactly 2, we have a pair of face cards and return a positive value\n",
    "                    return 1\n",
    "            return 0\n",
    "        return 0\n",
    "    return 0\n",
    "\n",
    "fullDeck = buildDeck()\n",
    "handSize = 5\n",
    "iters = 0\n",
    "x = 0\n",
    "for hand in itertools.combinations(fullDeck, handSize): # runs through all 5 card hands\n",
    "    x += checkFullHouse(hand)\n",
    "    iters += 1\n",
    "\n",
    "print(f\"Total Face Pair Flush hands {x}\\nTotal Hands Checked {iters}\\nFace Pair Flush Probability {x / iters}\")"
   ],
   "metadata": {
    "collapsed": false,
    "pycharm": {
     "name": "#%%\n"
    }
   }
  },
  {
   "cell_type": "markdown",
   "source": [
    "# Question 4\n",
    "\n",
    "### Question 4a.\n",
    "\n",
    "I have liked the effort to teach better programming principles that are used int he real world, outside of just building code that works\n",
    "even if it's ugly and hard to read.\n",
    "\n",
    "I have disliked the reliance on python. I know it's used frequently, and that it is considered 'easy' to learn, but I find that\n",
    "it tends to reinforce bad programming habits, and can often be difficult to adjust to when you're used to languages requiring a more\n",
    "formal syntax.\n",
    "\n",
    "### Question 4b.\n",
    "\n",
    "I think the programming exercises that are lead by the professor/TA in class are the most helpful. Typically,\n",
    "when we break into small groups it's one or two people that know how to solve the problem from the beginning and either\n",
    "take over the conversation, or do not contribute much which can make it difficult to learn from.\n",
    "\n",
    "### Question 4c.\n",
    "\n",
    "I know it's probably not feasible, but I would have liked the opportunity to use any programming language to solve the problems.\n",
    "At the very least, R is supported by Jupyter, as are .NET languages w/ .NET Core.\n",
    "Since most assignments can be submitted as a jupyter notebook, I would have liked to have the option to use any language supported\n",
    "by Jupyter. As python is my only major annoyance, I don't think much else needs to change. I've enjoyed the class so far."
   ],
   "metadata": {
    "collapsed": false,
    "pycharm": {
     "name": "#%% md\n"
    }
   }
  }
 ],
 "metadata": {
  "kernelspec": {
   "display_name": "Python 3",
   "language": "python",
   "name": "python3"
  },
  "language_info": {
   "codemirror_mode": {
    "name": "ipython",
    "version": 2
   },
   "file_extension": ".py",
   "mimetype": "text/x-python",
   "name": "python",
   "nbconvert_exporter": "python",
   "pygments_lexer": "ipython2",
   "version": "2.7.6"
  }
 },
 "nbformat": 4,
 "nbformat_minor": 0
}