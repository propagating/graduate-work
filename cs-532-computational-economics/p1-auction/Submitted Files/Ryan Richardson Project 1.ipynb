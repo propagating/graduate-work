{
 "cells": [
  {
   "cell_type": "code",
   "execution_count": 15,
   "metadata": {
    "collapsed": true
   },
   "outputs": [
    {
     "name": "stdout",
     "output_type": "stream",
     "text": [
      "Increment: 1\n",
      "Buyers 5\n",
      "Increment 1\n",
      "Average Reserve 0.0\n",
      "Iterations 10000\n",
      "Average Price 58.895\n",
      "Average Profit 52946.605\n",
      "\n",
      "\n",
      "\n"
     ]
    }
   ],
   "source": [
    "import random\n",
    "import numpy as np\n",
    "from matplotlib import pyplot as plt"
   ]
  },
  {
   "cell_type": "markdown",
   "source": [
    "Ryan Richardson\n",
    "\n",
    "CS532\n",
    "\n",
    "Project 1\n",
    "# Ascending Clock Auction"
   ],
   "metadata": {
    "collapsed": false,
    "pycharm": {
     "name": "#%% md\n"
    }
   }
  },
  {
   "cell_type": "code",
   "execution_count": null,
   "outputs": [],
   "source": [
    "def generateBuyers(numBuyers):\n",
    "    buyers = np.array([])\n",
    "    for _ in range(numBuyers):\n",
    "        buyers = np.append(buyers, random.randint(1, 20) * 5)\n",
    "    return buyers\n",
    "\n",
    "\n",
    "def runAuction(buyers, reservePrice, startingPrice=0, startingIncrement=1):\n",
    "    if reservePrice == 0:\n",
    "        previousPrice = startingPrice\n",
    "        currentPrice = startingPrice\n",
    "    else:\n",
    "        previousPrice = reservePrice\n",
    "        # set to reserve so that if a tie happens we sell at the reserve\n",
    "        currentPrice = reservePrice\n",
    "        # we can skip the iteration for prices below the reserve price to save time,\n",
    "        # since no sale will take place until after the reserve has been met\n",
    "    while len(buyers) > 1:\n",
    "        if currentPrice > 100:  # max value is 100, no need to go above 100\n",
    "            return 0\n",
    "        buyersToRemove = np.array([])\n",
    "        for buyer in buyers:\n",
    "            if currentPrice > buyer:\n",
    "                buyersToRemove = np.append(buyersToRemove, buyer)\n",
    "                if len(buyersToRemove) == len(buyers):\n",
    "                    # if the number of buyers to remove is equal to the number of buyers left,\n",
    "                    # then there's a tie. we don't really care which buyer wins\n",
    "                    # just choose any and  sell at the previous price\n",
    "                    # if the tie happens at the reserve, then we sell for the reserve price\n",
    "                    return previousPrice\n",
    "                buyers = [b for b in buyers if b not in buyersToRemove]\n",
    "                if len(buyers) == 1 and buyers[0] >= currentPrice:\n",
    "                    # if only 1 buyer remains and their price is at least equal to the reserve price\n",
    "                    return currentPrice\n",
    "        previousPrice = currentPrice\n",
    "        currentPrice += startingIncrement\n",
    "    return 0  # something bad happened, return 0\n",
    "\n",
    "\n",
    "prices = np.array([])\n",
    "reserves = np.array([])\n",
    "averageProfit = np.array([])\n",
    "iterations = 1000\n",
    "newBuyers = []\n",
    "increment = 0\n",
    "for _ in range(iterations):\n",
    "    newBuyers = generateBuyers(5)\n",
    "    reserve = 0\n",
    "    reserves = np.append(reserves, reserve)\n",
    "    increment = 1\n",
    "    prices = np.append(prices, runAuction(buyers=newBuyers, startingIncrement=increment, reservePrice=reserve))\n",
    "\n",
    "numPricesAboveZero = len([p for p in prices if p > 0])\n",
    "profit = np.mean(prices) * numPricesAboveZero\n",
    "averageProfit = np.append(averageProfit, profit)\n",
    "# this should give us a better estimate of profit than just looking at the average price\n",
    "\n",
    "print(f\"Increment: 1\\nBuyers {len(newBuyers)}\\nIncrement {increment}\\nAverage Reserve {np.mean(reserves)}\"\n",
    "      f\"\\nIterations {10000}\\nAverage Price {np.mean(prices)}\\nAverage Profit {np.mean(averageProfit)}\\n\\n\\n\")"
   ],
   "metadata": {
    "collapsed": false,
    "pycharm": {
     "name": "#%%\n"
    }
   }
  },
  {
   "cell_type": "markdown",
   "source": [
    "Average Price seems to hover around 58, and profit is about 50,000"
   ],
   "metadata": {
    "collapsed": false,
    "pycharm": {
     "name": "#%% md\n"
    }
   }
  },
  {
   "cell_type": "code",
   "execution_count": 16,
   "outputs": [
    {
     "name": "stdout",
     "output_type": "stream",
     "text": [
      "Increment: 1\n",
      "Buyers 5\n",
      "Increment 10\n",
      "Average Reserve 0.0\n",
      "Iterations 10000\n",
      "Average Price 54.43\n",
      "Average Profit 43271.85\n",
      "\n",
      "\n",
      "\n"
     ]
    }
   ],
   "source": [
    "prices = np.array([])\n",
    "reserves = np.array([])\n",
    "averageProfit = np.array([])\n",
    "iterations = 1000\n",
    "newBuyers = []\n",
    "increment = 0\n",
    "for _ in range(iterations):\n",
    "    newBuyers = generateBuyers(5)\n",
    "    reserve = 0\n",
    "    reserves = np.append(reserves, reserve)\n",
    "    increment = 10\n",
    "    prices = np.append(prices, runAuction(buyers=newBuyers, startingIncrement=increment, reservePrice=reserve))\n",
    "\n",
    "numPricesAboveZero = len([p for p in prices if p > 0])\n",
    "profit = np.mean(prices) * numPricesAboveZero\n",
    "averageProfit = np.append(averageProfit, profit)\n",
    "# this should give us a better estimate of profit than just looking at the average price\n",
    "\n",
    "print(\n",
    "    f\"Increment: 1\\nBuyers {len(newBuyers)}\\nIncrement {increment}\\nAverage Reserve {np.mean(reserves)}\"\n",
    "    f\"\\nIterations {10000}\\nAverage Price {np.mean(prices)}\\nAverage Profit {np.mean(averageProfit)}\\n\\n\\n\")"
   ],
   "metadata": {
    "collapsed": false,
    "pycharm": {
     "name": "#%%\n"
    }
   }
  },
  {
   "cell_type": "markdown",
   "source": [
    "Average Price seems to hover around 55, so it is less than when we used an increment of 1. This is likely because it's possible to skip past someone's reserve entirely, where a $1 increment ensures you will hit every buyer's reserve price at least once.\n",
    "\n",
    "The profit has also dropped significantly, likely for the same reasons as above, we get more auctions ending in $0 bids at a lower price"
   ],
   "metadata": {
    "collapsed": false
   }
  },
  {
   "cell_type": "code",
   "execution_count": 17,
   "outputs": [
    {
     "name": "stdout",
     "output_type": "stream",
     "text": [
      "Increment: 1\n",
      "Buyers 20\n",
      "Increment 1\n",
      "Average Reserve 0.0\n",
      "Iterations 10000\n",
      "Average Price 66.306\n",
      "Average Profit 50392.56\n",
      "\n",
      "\n",
      "\n"
     ]
    }
   ],
   "source": [
    "prices = np.array([])\n",
    "reserves = np.array([])\n",
    "averageProfit = np.array([])\n",
    "iterations = 1000\n",
    "newBuyers = []\n",
    "increment = 0\n",
    "for _ in range(iterations):\n",
    "    newBuyers = generateBuyers(20)\n",
    "    reserve = 0\n",
    "    reserves = np.append(reserves, reserve)\n",
    "    increment = 1\n",
    "    prices = np.append(prices, runAuction(buyers=newBuyers, startingIncrement=increment, reservePrice=reserve))\n",
    "\n",
    "numPricesAboveZero = len([p for p in prices if p > 0])\n",
    "profit = np.mean(prices) * numPricesAboveZero\n",
    "averageProfit = np.append(averageProfit, profit)\n",
    "# this should give us a better estimate of profit than just looking at the average price\n",
    "\n",
    "print(f\"Increment: 1\\nBuyers {len(newBuyers)}\\nIncrement {increment}\\nAverage Reserve {np.mean(reserves)}\"\n",
    "      f\"\\nIterations {10000}\\nAverage Price {np.mean(prices)}\\nAverage Profit {np.mean(averageProfit)}\\n\\n\\n\")"
   ],
   "metadata": {
    "collapsed": false,
    "pycharm": {
     "name": "#%%\n"
    }
   }
  },
  {
   "cell_type": "markdown",
   "source": [
    "Average price jumps up to about 65. This is significantly higher than either of the previous simulations.\n",
    "The more buyers you have, the larger the range of bids, which should mean you get higher bids on average\n",
    "\n",
    "However, the profit is still a bit lower at this rate, likely because the average price increases hasn't offset the number of $0 auctions"
   ],
   "metadata": {
    "collapsed": false,
    "pycharm": {
     "name": "#%% md\n"
    }
   }
  },
  {
   "cell_type": "code",
   "execution_count": 18,
   "outputs": [
    {
     "name": "stdout",
     "output_type": "stream",
     "text": [
      "Increment: 1\n",
      "Buyers 20\n",
      "Increment 1\n",
      "Average Reserve 49.5\n",
      "Iterations 10000\n",
      "Average Price nan\n",
      "Average Profit 5176.2546999999995\n",
      "\n",
      "\n",
      "\n"
     ]
    },
    {
     "name": "stderr",
     "output_type": "stream",
     "text": [
      "C:\\Anaconda3\\envs\\cads\\lib\\site-packages\\numpy\\core\\fromnumeric.py:3335: RuntimeWarning: Mean of empty slice.\n",
      "  out=out, **kwargs)\n",
      "C:\\Anaconda3\\envs\\cads\\lib\\site-packages\\numpy\\core\\_methods.py:161: RuntimeWarning: invalid value encountered in double_scalars\n",
      "  ret = ret.dtype.type(ret / rcount)\n"
     ]
    }
   ],
   "source": [
    "averagePrices = np.array([])\n",
    "averageReserve = np.array([])\n",
    "averageProfit = np.array([])\n",
    "newBuyers = []\n",
    "increment = 0\n",
    "for i in range(100): # this range was the final test for the best reserve price.\n",
    "    # Reasons are listed below, but this can be easily changed to plot\n",
    "    # average profit across the entire range of eligible prices.\n",
    "    prices = np.array([])\n",
    "    reserves = np.array([])\n",
    "    iterations = 100\n",
    "    for _ in range(iterations):\n",
    "        newBuyers = generateBuyers(20)\n",
    "        reserve = i\n",
    "        reserves = np.append(reserves, reserve)\n",
    "        increment = 1\n",
    "        result = runAuction(buyers=newBuyers, startingIncrement=increment, reservePrice=reserve)\n",
    "        prices = np.append(prices, result)\n",
    "\n",
    "    numPricesAboveZero = len([p for p in prices if p > 0])\n",
    "    profit = np.mean(prices) * numPricesAboveZero\n",
    "    averageProfit = np.append(averageProfit, profit)\n",
    "    # this should give us a better estimate of profit than just looking at the average price\n",
    "    averageReserve = np.append(averageReserve, np.mean(reserves))\n",
    "    averagePrices = np.append(averagePrices, np.mean(prices))\n",
    "\n",
    "print(f\"Increment: 1\\nBuyers {len(newBuyers)}\\nIncrement {increment}\\nAverage Reserve {np.mean(averageReserve)}\"\n",
    "      f\"\\nIterations {10000}\\nAverage Price {np.mean(averagePrices)}\\nAverage Profit {np.mean(averageProfit)}\\n\\n\\n\")"
   ],
   "metadata": {
    "collapsed": false,
    "pycharm": {
     "name": "#%%\n"
    }
   }
  },
  {
   "cell_type": "code",
   "execution_count": 19,
   "outputs": [
    {
     "data": {
      "text/plain": "<Figure size 432x288 with 1 Axes>",
      "image/png": "[encoded data removed]"
     },
     "metadata": {
      "needs_background": "light"
     },
     "output_type": "display_data"
    }
   ],
   "source": [
    "plt.scatter(averageReserve, averageProfit)\n",
    "plt.xlabel(\"Average Reserve\")\n",
    "plt.ylabel('Average Profit')\n",
    "plt.show()"
   ],
   "metadata": {
    "collapsed": false,
    "pycharm": {
     "name": "#%%\n"
    }
   }
  },
  {
   "cell_type": "markdown",
   "source": [
    "Adding a reserve price definitely appeared to impact the average total profit.\n",
    "A graph below shows the trend of Profit vs Reserve price.\n",
    "While average profit seemed to spike between 80 and 90, there was a much more stable maximum between 70 and 80.\n"
   ],
   "metadata": {
    "collapsed": false,
    "pycharm": {
     "name": "#%% md\n"
    }
   }
  },
  {
   "cell_type": "code",
   "execution_count": 20,
   "outputs": [
    {
     "name": "stdout",
     "output_type": "stream",
     "text": [
      "Increment: 1\n",
      "Buyers 20\n",
      "Increment 1\n",
      "Average Reserve 89.5\n",
      "Iterations 10000\n",
      "Average Price nan\n",
      "Average Profit 57341.91560000001\n",
      "\n",
      "\n",
      "\n"
     ]
    }
   ],
   "source": [
    "averagePrices = np.array([])\n",
    "averageReserve = np.array([])\n",
    "averageProfit = np.array([])\n",
    "for i in range(80,100): # this range was the final test for the best reserve price.\n",
    "    # Reasons are listed below, but this can be easily changed to plot\n",
    "    # average profit across the entire range of eligible prices.\n",
    "    prices = np.array([])\n",
    "    reserves = np.array([])\n",
    "    iterations = 1000\n",
    "    for _ in range(iterations):\n",
    "        newBuyers = generateBuyers(20)\n",
    "        reserve = i\n",
    "        reserves = np.append(reserves, reserve)\n",
    "        increment = 1\n",
    "        result = runAuction(buyers=newBuyers, startingIncrement=increment, reservePrice=reserve)\n",
    "        prices = np.append(prices, result)\n",
    "\n",
    "    numPricesAboveZero = len([p for p in prices if p > 0])\n",
    "    profit = np.mean(prices) * numPricesAboveZero\n",
    "    averageProfit = np.append(averageProfit, profit)\n",
    "    # this should give us a better estimate of profit than just looking at the average price\n",
    "    averageReserve = np.append(averageReserve, np.mean(reserves))\n",
    "    averagePrices = np.append(averagePrices, np.mean(prices))\n",
    "\n",
    "print(f\"Increment: 1\\nBuyers {len(newBuyers)}\\nIncrement {increment}\\nAverage Reserve {np.mean(averageReserve)}\"\n",
    "      f\"\\nIterations {10000}\\nAverage Price {np.mean(averagePrices)}\\nAverage Profit {np.mean(averageProfit)}\\n\\n\\n\")"
   ],
   "metadata": {
    "collapsed": false,
    "pycharm": {
     "name": "#%%\n"
    }
   }
  },
  {
   "cell_type": "code",
   "execution_count": 21,
   "outputs": [
    {
     "data": {
      "text/plain": "<Figure size 432x288 with 1 Axes>",
      "image/png": "[encoded data removed]"
     },
     "metadata": {
      "needs_background": "light"
     },
     "output_type": "display_data"
    }
   ],
   "source": [
    "plt.scatter(averageReserve, averageProfit)\n",
    "plt.xlabel(\"Average Reserve\")\n",
    "plt.ylabel('Average Profit')\n",
    "plt.show()"
   ],
   "metadata": {
    "collapsed": false,
    "pycharm": {
     "name": "#%%\n"
    }
   }
  },
  {
   "cell_type": "markdown",
   "source": [
    "To shorten the range, we run a more thorough simulation with 1000 iterations of prices between 80 and 100 showing\n",
    "the average quickly falling to below 45,000 when the rserve goes above ~83.\n",
    "There was a maximum profit of 63,000 at a reserve price of 83\n",
    "\n"
   ],
   "metadata": {
    "collapsed": false,
    "pycharm": {
     "name": "#%% md\n"
    }
   }
  },
  {
   "cell_type": "code",
   "execution_count": 22,
   "outputs": [
    {
     "name": "stdout",
     "output_type": "stream",
     "text": [
      "Increment: 1\n",
      "Buyers 20\n",
      "Increment 1\n",
      "Average Reserve 69.5\n",
      "Iterations 10000\n",
      "Average Price nan\n",
      "Average Profit 58425.81799999999\n",
      "\n",
      "\n",
      "\n"
     ]
    }
   ],
   "source": [
    "averagePrices = np.array([])\n",
    "averageReserve = np.array([])\n",
    "averageProfit = np.array([])\n",
    "for i in range(60,80): # this range was the final test for the best reserve price.\n",
    "    # Reasons are listed below, but this can be easily changed to plot\n",
    "    # average profit across the entire range of eligible prices.\n",
    "    prices = np.array([])\n",
    "    reserves = np.array([])\n",
    "    iterations = 1000\n",
    "    for _ in range(iterations):\n",
    "        newBuyers = generateBuyers(20)\n",
    "        reserve = i\n",
    "        reserves = np.append(reserves, reserve)\n",
    "        increment = 1\n",
    "        result = runAuction(buyers=newBuyers, startingIncrement=increment, reservePrice=reserve)\n",
    "        prices = np.append(prices, result)\n",
    "\n",
    "    numPricesAboveZero = len([p for p in prices if p > 0])\n",
    "    profit = np.mean(prices) * numPricesAboveZero\n",
    "    averageProfit = np.append(averageProfit, profit)\n",
    "    # this should give us a better estimate of profit than just looking at the average price\n",
    "    averageReserve = np.append(averageReserve, np.mean(reserves))\n",
    "    averagePrices = np.append(averagePrices, np.mean(prices))\n",
    "\n",
    "print(f\"Increment: 1\\nBuyers {len(newBuyers)}\\nIncrement {increment}\\nAverage Reserve {np.mean(averageReserve)}\"\n",
    "      f\"\\nIterations {10000}\\nAverage Price {np.mean(averagePrices)}\\nAverage Profit {np.mean(averageProfit)}\\n\\n\\n\")"
   ],
   "metadata": {
    "collapsed": false,
    "pycharm": {
     "name": "#%%\n"
    }
   }
  },
  {
   "cell_type": "code",
   "execution_count": 23,
   "outputs": [
    {
     "data": {
      "text/plain": "<Figure size 432x288 with 1 Axes>",
      "image/png": "[encoded data removed]"
     },
     "metadata": {
      "needs_background": "light"
     },
     "output_type": "display_data"
    }
   ],
   "source": [
    "plt.scatter(averageReserve, averageProfit)\n",
    "plt.xlabel(\"Average Reserve\")\n",
    "plt.ylabel('Average Profit')\n",
    "plt.show()"
   ],
   "metadata": {
    "collapsed": false,
    "pycharm": {
     "name": "#%%\n"
    }
   }
  },
  {
   "cell_type": "markdown",
   "source": [
    "Further expanding our test to look at a range between 60 and 83, we end up with a maximum of 64,000 at reserve of 76.\n",
    "This is consistent with the original tests for all values between 1 and 100.\n",
    "To sum up, the best profit is achieved with a reserve price around 76.\n"
   ],
   "metadata": {
    "collapsed": false,
    "pycharm": {
     "name": "#%% md\n"
    }
   }
  },
  {
   "cell_type": "markdown",
   "source": [
    "# Vegas Hotel Problem\n"
   ],
   "metadata": {
    "collapsed": false,
    "pycharm": {
     "name": "#%% md\n"
    }
   }
  },
  {
   "cell_type": "code",
   "execution_count": 44,
   "outputs": [
    {
     "name": "stdout",
     "output_type": "stream",
     "text": [
      "Sample Profile\n",
      "\n",
      "Build Threshold 0.8786384260219167\n",
      "Build Profile [0. 0. 0. 0. 0. 0. 0. 0. 0.]\n",
      "Profit 9000.0\n",
      "\n",
      "\n",
      "\n",
      "Sample Profile\n",
      "\n",
      "Build Threshold 0.12530533955202316\n",
      "Build Profile [0. 1. 1. 2. 2. 3. 3. 4. 4.]\n",
      "Profit 3332.5\n",
      "\n",
      "\n",
      "\n",
      "Sample Profile\n",
      "\n",
      "Build Threshold 0.8418577548661368\n",
      "Build Profile [0. 0. 0. 0. 0. 0. 0. 0. 0.]\n",
      "Profit 9000.0\n",
      "\n",
      "\n",
      "\n",
      "Sample Profile\n",
      "\n",
      "Build Threshold 0.04076502191023901\n",
      "Build Profile [0. 1. 1. 2. 2. 3. 3. 4. 4.]\n",
      "Profit 3332.5\n",
      "\n",
      "\n",
      "\n",
      "Sample Profile\n",
      "\n",
      "Build Threshold 0.24813593002365497\n",
      "Build Profile [0. 1. 1. 2. 2. 3. 3. 4. 4.]\n",
      "Profit 3332.5\n",
      "\n",
      "\n",
      "\n",
      "Sample Profile\n",
      "\n",
      "Build Threshold 0.9311605286045059\n",
      "Build Profile [0. 1. 1. 1. 1. 1. 1. 1. 1.]\n",
      "Profit 4900.0\n",
      "\n",
      "\n",
      "\n",
      "Sample Profile\n",
      "\n",
      "Build Threshold 0.011807480083207977\n",
      "Build Profile [0. 1. 1. 2. 2. 3. 3. 4. 4.]\n",
      "Profit 3332.5\n",
      "\n",
      "\n",
      "\n",
      "Sample Profile\n",
      "\n",
      "Build Threshold 0.8821362174202865\n",
      "Build Profile [0. 0. 0. 0. 0. 0. 0. 0. 0.]\n",
      "Profit 9000.0\n",
      "\n",
      "\n",
      "\n",
      "Sample Profile\n",
      "\n",
      "Build Threshold 0.6836879171702894\n",
      "Build Profile [0. 0. 0. 0. 1. 1. 1. 2. 2.]\n",
      "Profit 5858.333333333333\n",
      "\n",
      "\n",
      "\n",
      "Sample Profile\n",
      "\n",
      "Build Threshold 0.888219624377488\n",
      "Build Profile [0. 0. 0. 0. 0. 1. 1. 1. 1.]\n",
      "Profit 6750.0\n",
      "\n",
      "\n",
      "\n",
      "Average Profit Per Year 4932.485416666667\n",
      "Iterations 10000\n"
     ]
    },
    {
     "data": {
      "text/plain": "<Figure size 432x288 with 1 Axes>",
      "image/png": "[encoded data removed]"
     },
     "metadata": {
      "needs_background": "light"
     },
     "output_type": "display_data"
    }
   ],
   "source": [
    "totalYears = 10\n",
    "startingYear = 1\n",
    "timeToBuild = 2\n",
    "\n",
    "def calculateProfit(profile):\n",
    "    hotelProfit = 0\n",
    "    for p in range(len(profile)):\n",
    "        yearProfit = (750 + (50*(p+1)))/(profile[p]+1) # need to use p+1 for t since arrays are 0 indexed\n",
    "        hotelProfit += yearProfit\n",
    "    return hotelProfit\n",
    "\n",
    "def buildHotel(lastYearBuilt, currentYear, threshold, buildTime):\n",
    "    if currentYear - lastYearBuilt >= buildTime:\n",
    "        chanceToBuild = random.random() # if we roll above the threshold and are in a valid year we add a hotel\n",
    "        if chanceToBuild > threshold:\n",
    "            return 1\n",
    "        else:\n",
    "            return 0\n",
    "    return 0\n",
    "\n",
    "def generateCompetitorThreshold():\n",
    "    return random.random() # didn't seem to be a better method to generate a construction profile\n",
    "\n",
    "def generateBuildProfile(start, total, buildTime, threshold):\n",
    "    profile = np.array([])\n",
    "    current = start\n",
    "    lastBuilt = 0\n",
    "    currentHotels = 0\n",
    "    while current < total:\n",
    "        buildAgain = buildHotel(lastBuilt, current, threshold, buildTime)\n",
    "        if buildAgain == 1:\n",
    "            lastBuilt = current\n",
    "        currentHotels += buildAgain\n",
    "        profile = np.append(profile, currentHotels)\n",
    "        current += 1\n",
    "    return profile\n",
    "\n",
    "\n",
    "testProfile = np.array([0,1,1,2,2,2,3,3,3,3])\n",
    "calculateProfit(testProfile)\n",
    "\n",
    "hotelProfits = np.array([])\n",
    "competitorThresholds = np.array([])\n",
    "iterations = 10000\n",
    "for k in range(iterations):\n",
    "    newThreshold = generateCompetitorThreshold()\n",
    "    newProfile = generateBuildProfile(1, 10, 2, newThreshold)\n",
    "    newProfit = calculateProfit(newProfile)\n",
    "    hotelProfits = np.append(hotelProfits, newProfit)\n",
    "    competitorThresholds = np.append(competitorThresholds, newThreshold)\n",
    "    if k % 1000 == 0: # just for fun we'll sample 10 different profiles\n",
    "        print(f'Sample Profile\\n')\n",
    "        print(f'Build Threshold {newThreshold}\\nBuild Profile {newProfile}\\nProfit {newProfit}\\n\\n\\n')\n",
    "\n",
    "print(f'Average Profit Per Year {np.mean(hotelProfits)}\\nIterations {iterations}')\n",
    "\n",
    "plt.scatter(1-competitorThresholds, hotelProfits)\n",
    "# Use 1-threshold is essentially how aggressive a competitor is.\n",
    "# More aggressive means lower threshold, so they are more likely to build a hotel\n",
    "# that year.\n",
    "plt.xlabel('Competitor Aggressiveness (Higher is more likely to build when able)')\n",
    "plt.ylabel('Build Profit')\n",
    "plt.show()"
   ],
   "metadata": {
    "collapsed": false,
    "pycharm": {
     "name": "#%%\n"
    }
   }
  },
  {
   "cell_type": "markdown",
   "source": [
    "Based on the graph, the less aggressive our competitors are about building additional hotels, the larger our profit is\n",
    "likely to be. It seems that across any build threshold >80% (aggressiveness <20%) we are most likely to see profits\n",
    "between 4000 and 5000, with an average of ~4932."
   ],
   "metadata": {
    "collapsed": false,
    "pycharm": {
     "name": "#%% md\n"
    }
   }
  }
 ],
 "metadata": {
  "kernelspec": {
   "display_name": "Python 3",
   "language": "python",
   "name": "python3"
  },
  "language_info": {
   "codemirror_mode": {
    "name": "ipython",
    "version": 2
   },
   "file_extension": ".py",
   "mimetype": "text/x-python",
   "name": "python",
   "nbconvert_exporter": "python",
   "pygments_lexer": "ipython2",
   "version": "2.7.6"
  }
 },
 "nbformat": 4,
 "nbformat_minor": 0
}