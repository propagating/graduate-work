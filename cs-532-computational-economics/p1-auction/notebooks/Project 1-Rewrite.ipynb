{
 "cells": [
  {
   "cell_type": "code",
   "execution_count": 1,
   "metadata": {
    "collapsed": true
   },
   "outputs": [],
   "source": [
    "import random\n",
    "import numpy as np\n",
    "from matplotlib import pyplot as plt"
   ]
  },
  {
   "cell_type": "markdown",
   "source": [
    "Ryan Richardson\n",
    "\n",
    "CS532\n",
    "\n",
    "Project 1\n",
    "# Ascending Clock Auction"
   ],
   "metadata": {
    "collapsed": false,
    "pycharm": {
     "name": "#%% md\n"
    }
   }
  },
  {
   "cell_type": "code",
   "execution_count": 2,
   "outputs": [
    {
     "name": "stdout",
     "output_type": "stream",
     "text": [
      "Increment: 1\n",
      "Buyers 5\n",
      "Increment 1\n",
      "Average Reserve 0.0\n",
      "Iterations 1\n",
      "Average Price 58.598\n",
      "Average Profit 521990.984\n",
      "\n",
      "\n",
      "\n"
     ]
    }
   ],
   "source": [
    "def generateBuyers(numBuyers):\n",
    "    currentBuyers = np.array([])\n",
    "    for _ in range(numBuyers):\n",
    "        currentBuyers = np.append(currentBuyers, random.randint(1, 20) * 5)\n",
    "    return currentBuyers\n",
    "\n",
    "\n",
    "def runAuction(auctionBuyers, reservePrice, startingPrice=0, startingIncrement=1):\n",
    "    if reservePrice == 0:\n",
    "        previousPrice = startingPrice\n",
    "        currentPrice = startingPrice\n",
    "    else:\n",
    "        previousPrice = 0\n",
    "        # set to 0 as a 5-way 'tie' on the first round should only occur if the reserve price is above every buyers' max\n",
    "        currentPrice = reservePrice\n",
    "        # we can skip the iteration for prices below the reserve price to save time,\n",
    "        # since no sale will take place until after the reserve has been met\n",
    "    while len(auctionBuyers) > 1:\n",
    "        if currentPrice > 100:  # max value is 100, no need to go above 100\n",
    "            return 0\n",
    "        buyersToRemove = np.array([])\n",
    "        for buyer in auctionBuyers:\n",
    "            if currentPrice > buyer:\n",
    "                buyersToRemove = np.append(buyersToRemove, buyer)\n",
    "                if len(buyersToRemove) == len(auctionBuyers):\n",
    "                    # if the number of buyers to remove is equal to the number of buyers left,\n",
    "                    # then there's a tie. we don't really care which buyer wins\n",
    "                    # just choose any and  sell at the previous price\n",
    "                    # if the tie happens at the reserve, then we sell for the reserve price\n",
    "                    return previousPrice\n",
    "                auctionBuyers = [b for b in auctionBuyers if b not in buyersToRemove]\n",
    "                if len(auctionBuyers) == 1 and auctionBuyers[0] >= currentPrice:\n",
    "                    # if only 1 buyer remains and their price is at least equal to the reserve price\n",
    "                    return currentPrice\n",
    "        previousPrice = currentPrice\n",
    "        currentPrice += startingIncrement\n",
    "    return 0  # something bad happened, return 0\n",
    "\n",
    "\n",
    "def iterateAuctions(numIterations, numBuyers, runIncrement, runReserve = 0):\n",
    "    runPrices = np.array([])\n",
    "    runReserves = np.array([])\n",
    "    runBuyers = np.array([])\n",
    "    for _ in range(numIterations):\n",
    "        runBuyers = generateBuyers(numBuyers)\n",
    "        if runReserve is None:\n",
    "            runReserve = random.randint(1, 100)\n",
    "        runReserves = np.append(runReserves, runReserve)\n",
    "        runPrices = np.append(runPrices, runAuction(auctionBuyers=runBuyers, startingIncrement=runIncrement, reservePrice=runReserve))\n",
    "    return runBuyers, runReserves, runPrices\n",
    "\n",
    "\n",
    "def findAverageProfit(runPrices):\n",
    "    # this should give us a better estimate of profit than just looking at the average price, as it will account for\n",
    "    # the frequency of auctions that end without a sale\n",
    "    runProfits = np.array([])\n",
    "    aboveZero = len([p for p in runPrices if p > 0])\n",
    "    runProfit = np.mean(runPrices) * aboveZero\n",
    "    runAverages = np.append(runProfits, runProfit)\n",
    "    return runAverages\n",
    "\n",
    "\n",
    "inc = 1 # price increment\n",
    "res = 0 # reserve price\n",
    "buy = 5 # buyers\n",
    "\n",
    "buyers, reserves, prices = iterateAuctions(10000, buy, inc, res)\n",
    "avgProfit = findAverageProfit(prices)\n",
    "\n",
    "print(f\"Increment: 1\\nBuyers {len(buyers)}\\nIncrement {inc}\\nAverage Reserve {np.mean(reserves)}\"\n",
    "      f\"\\nIterations {inc}\\nAverage Price {np.mean(prices)}\\nAverage Profit {np.mean(avgProfit)}\\n\\n\\n\")"
   ],
   "metadata": {
    "collapsed": false,
    "pycharm": {
     "name": "#%%\n"
    }
   }
  },
  {
   "cell_type": "markdown",
   "source": [
    "Average Price seems to hover around 58, and profit is about 50,000"
   ],
   "metadata": {
    "collapsed": false,
    "pycharm": {
     "name": "#%% md\n"
    }
   }
  },
  {
   "cell_type": "code",
   "execution_count": 3,
   "outputs": [
    {
     "name": "stdout",
     "output_type": "stream",
     "text": [
      "Increment: 1\n",
      "Buyers 5\n",
      "Increment 10\n",
      "Average Reserve 0.0\n",
      "Iterations 10\n",
      "Average Price 56.316\n",
      "Average Profit 462410.67600000004\n",
      "\n",
      "\n",
      "\n"
     ]
    }
   ],
   "source": [
    "# 5 buyers, 0 reserve, increment of 10\n",
    "\n",
    "inc = 10\n",
    "res = 0\n",
    "buy = 5\n",
    "buyers, reserves, prices = iterateAuctions(10000, buy, inc, res)\n",
    "avgProfit = findAverageProfit(prices)\n",
    "\n",
    "print(f\"Increment: 1\\nBuyers {len(buyers)}\\nIncrement {inc}\\nAverage Reserve {np.mean(reserves)}\"\n",
    "      f\"\\nIterations {inc}\\nAverage Price {np.mean(prices)}\\nAverage Profit {np.mean(avgProfit)}\\n\\n\\n\")"
   ],
   "metadata": {
    "collapsed": false,
    "pycharm": {
     "name": "#%%\n"
    }
   }
  },
  {
   "cell_type": "markdown",
   "source": [
    "Average Price seems to hover around 55, so it is less than when we used an increment of 1. This is likely because it's possible to skip past someone's reserve entirely, where a $1 increment ensures you will hit every buyer's reserve price at least once.\n",
    "\n",
    "The profit has also dropped significantly, likely for the same reasons as above, we get more auctions ending in $0 bids at a lower price"
   ],
   "metadata": {
    "collapsed": false
   }
  },
  {
   "cell_type": "code",
   "execution_count": 4,
   "outputs": [
    {
     "name": "stdout",
     "output_type": "stream",
     "text": [
      "Increment: 1\n",
      "Buyers 20\n",
      "Increment 1\n",
      "Average Reserve 0.0\n",
      "Iterations 1\n",
      "Average Price 64.7386\n",
      "Average Profit 480230.93480000005\n",
      "\n",
      "\n",
      "\n"
     ]
    }
   ],
   "source": [
    "# 20 buyers, 0 reserve, increment of 1\n",
    "inc = 1\n",
    "res = 0\n",
    "buy = 20\n",
    "buyers, reserves, prices = iterateAuctions(10000, buy, inc, res)\n",
    "avgProfit = findAverageProfit(prices)\n",
    "\n",
    "print(f\"Increment: 1\\nBuyers {len(buyers)}\\nIncrement {inc}\\nAverage Reserve {np.mean(reserves)}\"\n",
    "      f\"\\nIterations {inc}\\nAverage Price {np.mean(prices)}\\nAverage Profit {np.mean(avgProfit)}\\n\\n\\n\")\n"
   ],
   "metadata": {
    "collapsed": false,
    "pycharm": {
     "name": "#%%\n"
    }
   }
  },
  {
   "cell_type": "markdown",
   "source": [
    "Average price jumps up to about 65. This is significantly higher than either of the previous simulations.\n",
    "The more buyers you have, the larger the range of bids, which should mean you get higher bids on average\n",
    "\n",
    "However, the profit is still a bit lower at this rate, likely because the average price increases hasn't offset the number of $0 auctions"
   ],
   "metadata": {
    "collapsed": false,
    "pycharm": {
     "name": "#%% md\n"
    }
   }
  },
  {
   "cell_type": "code",
   "execution_count": 5,
   "outputs": [
    {
     "name": "stdout",
     "output_type": "stream",
     "text": [
      "Increment: 1\n",
      "Buyers 20\n",
      "Increment 1\n",
      "Average Reserve 49.5\n",
      "Iterations 10000\n",
      "Average Price 46.2285\n",
      "Average Profit 2755.5887\n",
      "\n",
      "\n",
      "\n"
     ]
    }
   ],
   "source": [
    "averagePrices = np.array([])\n",
    "averageReserve = np.array([])\n",
    "averageProfit = np.array([])\n",
    "newBuyers = []\n",
    "increment = 0\n",
    "for i in range(100): # this range was the final test for the best reserve price.\n",
    "    # Reasons are listed below, but this can be easily changed to plot\n",
    "    # average profit across the entire range of eligible prices.\n",
    "    prices = np.array([])\n",
    "    reserves = np.array([])\n",
    "    iterations = 100\n",
    "    for _ in range(iterations):\n",
    "        newBuyers = generateBuyers(20)\n",
    "        reserve = i\n",
    "        reserves = np.append(reserves, reserve)\n",
    "        increment = 1\n",
    "        result = runAuction(auctionBuyers=newBuyers, startingIncrement=increment, reservePrice=reserve)\n",
    "        prices = np.append(prices, result)\n",
    "\n",
    "    numPricesAboveZero = len([p for p in prices if p > 0])\n",
    "    profit = np.mean(prices) * numPricesAboveZero\n",
    "    averageProfit = np.append(averageProfit, profit)\n",
    "    # this should give us a better estimate of profit than just looking at the average price\n",
    "    averageReserve = np.append(averageReserve, np.mean(reserves))\n",
    "    averagePrices = np.append(averagePrices, np.mean(prices))\n",
    "\n",
    "print(f\"Increment: 1\\nBuyers {len(newBuyers)}\\nIncrement {increment}\\nAverage Reserve {np.mean(averageReserve)}\"\n",
    "      f\"\\nIterations {10000}\\nAverage Price {np.mean(averagePrices)}\\nAverage Profit {np.mean(averageProfit)}\\n\\n\\n\")"
   ],
   "metadata": {
    "collapsed": false,
    "pycharm": {
     "name": "#%%\n"
    }
   }
  },
  {
   "cell_type": "code",
   "execution_count": 6,
   "outputs": [
    {
     "data": {
      "text/plain": "<Figure size 432x288 with 1 Axes>",
      "image/png": "[encoded data removed]"
     },
     "metadata": {
      "needs_background": "light"
     },
     "output_type": "display_data"
    }
   ],
   "source": [
    "plt.scatter(averageReserve, averageProfit)\n",
    "plt.xlabel(\"Average Reserve\")\n",
    "plt.ylabel('Average Profit')\n",
    "plt.show()"
   ],
   "metadata": {
    "collapsed": false,
    "pycharm": {
     "name": "#%%\n"
    }
   }
  },
  {
   "cell_type": "markdown",
   "source": [
    "Adding a reserve price definitely appeared to impact the average total profit.\n",
    "A graph below shows the trend of Profit vs Reserve price.\n",
    "While average profit seemed to spike between 80 and 90, there was a much more stable maximum between 70 and 80.\n"
   ],
   "metadata": {
    "collapsed": false,
    "pycharm": {
     "name": "#%% md\n"
    }
   }
  },
  {
   "cell_type": "code",
   "execution_count": 7,
   "outputs": [
    {
     "name": "stdout",
     "output_type": "stream",
     "text": [
      "Increment: 1\n",
      "Buyers 20\n",
      "Increment 1\n",
      "Average Reserve 89.5\n",
      "Iterations 10000\n",
      "Average Price 27.682949999999998\n",
      "Average Profit 8493.7431\n",
      "\n",
      "\n",
      "\n"
     ]
    }
   ],
   "source": [
    "averagePrices = np.array([])\n",
    "averageReserve = np.array([])\n",
    "averageProfit = np.array([])\n",
    "for i in range(80,100): # this range was the final test for the best reserve price.\n",
    "    # Reasons are listed below, but this can be easily changed to plot\n",
    "    # average profit across the entire range of eligible prices.\n",
    "    prices = np.array([])\n",
    "    reserves = np.array([])\n",
    "    iterations = 1000\n",
    "    for _ in range(iterations):\n",
    "        newBuyers = generateBuyers(20)\n",
    "        reserve = i\n",
    "        reserves = np.append(reserves, reserve)\n",
    "        increment = 1\n",
    "        result = runAuction(auctionBuyers=newBuyers, startingIncrement=increment, reservePrice=reserve)\n",
    "        prices = np.append(prices, result)\n",
    "\n",
    "    numPricesAboveZero = len([p for p in prices if p > 0])\n",
    "    profit = np.mean(prices) * numPricesAboveZero\n",
    "    averageProfit = np.append(averageProfit, profit)\n",
    "    # this should give us a better estimate of profit than just looking at the average price\n",
    "    averageReserve = np.append(averageReserve, np.mean(reserves))\n",
    "    averagePrices = np.append(averagePrices, np.mean(prices))\n",
    "\n",
    "print(f\"Increment: 1\\nBuyers {len(newBuyers)}\\nIncrement {increment}\\nAverage Reserve {np.mean(averageReserve)}\"\n",
    "      f\"\\nIterations {10000}\\nAverage Price {np.mean(averagePrices)}\\nAverage Profit {np.mean(averageProfit)}\\n\\n\\n\")"
   ],
   "metadata": {
    "collapsed": false,
    "pycharm": {
     "name": "#%%\n"
    }
   }
  },
  {
   "cell_type": "code",
   "execution_count": 8,
   "outputs": [
    {
     "data": {
      "text/plain": "<Figure size 432x288 with 1 Axes>",
      "image/png": "[encoded data removed]"
     },
     "metadata": {
      "needs_background": "light"
     },
     "output_type": "display_data"
    }
   ],
   "source": [
    "plt.scatter(averageReserve, averageProfit)\n",
    "plt.xlabel(\"Average Reserve\")\n",
    "plt.ylabel('Average Profit')\n",
    "plt.show()"
   ],
   "metadata": {
    "collapsed": false,
    "pycharm": {
     "name": "#%%\n"
    }
   }
  },
  {
   "cell_type": "markdown",
   "source": [
    "To shorten the range, we run a more thorough simulation with 1000 iterations of prices between 80 and 100 showing\n",
    "the average quickly falling to below 45,000 when the rserve goes above ~83.\n",
    "There was a maximum profit of 63,000 at a reserve price of 83\n",
    "\n"
   ],
   "metadata": {
    "collapsed": false,
    "pycharm": {
     "name": "#%% md\n"
    }
   }
  },
  {
   "cell_type": "code",
   "execution_count": 9,
   "outputs": [
    {
     "name": "stdout",
     "output_type": "stream",
     "text": [
      "Increment: 1\n",
      "Buyers 20\n",
      "Increment 1\n",
      "Average Reserve 69.5\n",
      "Iterations 10000\n",
      "Average Price 30.63365\n",
      "Average Profit 10667.202\n",
      "\n",
      "\n",
      "\n"
     ]
    }
   ],
   "source": [
    "averagePrices = np.array([])\n",
    "averageReserve = np.array([])\n",
    "averageProfit = np.array([])\n",
    "for i in range(60,80): # this range was the final test for the best reserve price.\n",
    "    # Reasons are listed below, but this can be easily changed to plot\n",
    "    # average profit across the entire range of eligible prices.\n",
    "    prices = np.array([])\n",
    "    reserves = np.array([])\n",
    "    iterations = 1000\n",
    "    for _ in range(iterations):\n",
    "        newBuyers = generateBuyers(20)\n",
    "        reserve = i\n",
    "        reserves = np.append(reserves, reserve)\n",
    "        increment = 1\n",
    "        result = runAuction(auctionBuyers=newBuyers, startingIncrement=increment, reservePrice=reserve)\n",
    "        prices = np.append(prices, result)\n",
    "\n",
    "    numPricesAboveZero = len([p for p in prices if p > 0])\n",
    "    profit = np.mean(prices) * numPricesAboveZero\n",
    "    averageProfit = np.append(averageProfit, profit)\n",
    "    # this should give us a better estimate of profit than just looking at the average price\n",
    "    averageReserve = np.append(averageReserve, np.mean(reserves))\n",
    "    averagePrices = np.append(averagePrices, np.mean(prices))\n",
    "\n",
    "print(f\"Increment: 1\\nBuyers {len(newBuyers)}\\nIncrement {increment}\\nAverage Reserve {np.mean(averageReserve)}\"\n",
    "      f\"\\nIterations {10000}\\nAverage Price {np.mean(averagePrices)}\\nAverage Profit {np.mean(averageProfit)}\\n\\n\\n\")"
   ],
   "metadata": {
    "collapsed": false,
    "pycharm": {
     "name": "#%%\n"
    }
   }
  },
  {
   "cell_type": "code",
   "execution_count": 10,
   "outputs": [
    {
     "data": {
      "text/plain": "<Figure size 432x288 with 1 Axes>",
      "image/png": "[encoded data removed]"
     },
     "metadata": {
      "needs_background": "light"
     },
     "output_type": "display_data"
    }
   ],
   "source": [
    "plt.scatter(averageReserve, averageProfit)\n",
    "plt.xlabel(\"Average Reserve\")\n",
    "plt.ylabel('Average Profit')\n",
    "plt.show()"
   ],
   "metadata": {
    "collapsed": false,
    "pycharm": {
     "name": "#%%\n"
    }
   }
  },
  {
   "cell_type": "markdown",
   "source": [
    "Further expanding our test to look at a range between 60 and 83, we end up with a maximum of 64,000 at reserve of 76.\n",
    "This is consistent with the original tests for all values between 1 and 100.\n",
    "To sum up, the best profit is achieved with a reserve price around 76.\n"
   ],
   "metadata": {
    "collapsed": false,
    "pycharm": {
     "name": "#%% md\n"
    }
   }
  },
  {
   "cell_type": "markdown",
   "source": [
    "# Vegas Hotel Problem\n"
   ],
   "metadata": {
    "collapsed": false,
    "pycharm": {
     "name": "#%% md\n"
    }
   }
  },
  {
   "cell_type": "code",
   "execution_count": 11,
   "outputs": [
    {
     "name": "stdout",
     "output_type": "stream",
     "text": [
      "Sample Profile\n",
      "\n",
      "Build Threshold 0.6343688579315682\n",
      "Build Profile [0. 0. 1. 1. 1. 1. 2. 2. 2.]\n",
      "Profit 4750.0\n",
      "\n",
      "\n",
      "\n",
      "Sample Profile\n",
      "\n",
      "Build Threshold 0.5869236124346133\n",
      "Build Profile [0. 0. 0. 0. 0. 1. 1. 2. 2.]\n",
      "Profit 6358.333333333333\n",
      "\n",
      "\n",
      "\n",
      "Sample Profile\n",
      "\n",
      "Build Threshold 0.8561927628178946\n",
      "Build Profile [0. 1. 1. 2. 2. 2. 3. 3. 4.]\n",
      "Profit 3477.5\n",
      "\n",
      "\n",
      "\n",
      "Sample Profile\n",
      "\n",
      "Build Threshold 0.46652624702236234\n",
      "Build Profile [0. 1. 1. 1. 2. 2. 2. 2. 2.]\n",
      "Profit 3983.3333333333335\n",
      "\n",
      "\n",
      "\n",
      "Sample Profile\n",
      "\n",
      "Build Threshold 0.0568496411587478\n",
      "Build Profile [0. 1. 1. 2. 2. 3. 3. 3. 4.]\n",
      "Profit 3390.0\n",
      "\n",
      "\n",
      "\n",
      "Sample Profile\n",
      "\n",
      "Build Threshold 0.46294458764165647\n",
      "Build Profile [0. 1. 1. 1. 1. 1. 1. 1. 2.]\n",
      "Profit 4700.0\n",
      "\n",
      "\n",
      "\n",
      "Sample Profile\n",
      "\n",
      "Build Threshold 0.7336434247495796\n",
      "Build Profile [0. 0. 0. 0. 0. 0. 0. 0. 0.]\n",
      "Profit 9000.0\n",
      "\n",
      "\n",
      "\n",
      "Sample Profile\n",
      "\n",
      "Build Threshold 0.7383232784779418\n",
      "Build Profile [0. 0. 0. 0. 1. 1. 1. 1. 2.]\n",
      "Profit 6050.0\n",
      "\n",
      "\n",
      "\n",
      "Sample Profile\n",
      "\n",
      "Build Threshold 0.2511875760482968\n",
      "Build Profile [0. 1. 1. 1. 1. 1. 2. 2. 3.]\n",
      "Profit 4225.0\n",
      "\n",
      "\n",
      "\n",
      "Sample Profile\n",
      "\n",
      "Build Threshold 0.16460950388810047\n",
      "Build Profile [0. 1. 1. 2. 2. 3. 3. 3. 3.]\n",
      "Profit 3450.0\n",
      "\n",
      "\n",
      "\n",
      "Average Profit Per Year 4953.235\n",
      "Iterations 10000\n"
     ]
    },
    {
     "data": {
      "text/plain": "<Figure size 432x288 with 1 Axes>",
      "image/png": "[encoded data removed]"
     },
     "metadata": {
      "needs_background": "light"
     },
     "output_type": "display_data"
    }
   ],
   "source": [
    "totalYears = 10\n",
    "startingYear = 1\n",
    "timeToBuild = 2\n",
    "\n",
    "def calculateProfit(profile):\n",
    "    hotelProfit = 0\n",
    "    for p in range(len(profile)):\n",
    "        yearProfit = (750 + (50*(p+1)))/(profile[p]+1) # need to use p+1 for t since arrays are 0 indexed\n",
    "        hotelProfit += yearProfit\n",
    "    return hotelProfit\n",
    "\n",
    "def buildHotel(lastYearBuilt, currentYear, threshold, buildTime):\n",
    "    if currentYear - lastYearBuilt >= buildTime:\n",
    "        chanceToBuild = random.random() # if we roll above the threshold and are in a valid year we add a hotel\n",
    "        if chanceToBuild > threshold:\n",
    "            return 1\n",
    "        else:\n",
    "            return 0\n",
    "    return 0\n",
    "\n",
    "def generateCompetitorThreshold():\n",
    "    return random.random() # didn't seem to be a better method to generate a construction profile\n",
    "\n",
    "def generateBuildProfile(start, total, buildTime, threshold):\n",
    "    profile = np.array([])\n",
    "    current = start\n",
    "    lastBuilt = 0\n",
    "    currentHotels = 0\n",
    "    while current < total:\n",
    "        buildAgain = buildHotel(lastBuilt, current, threshold, buildTime)\n",
    "        if buildAgain == 1:\n",
    "            lastBuilt = current\n",
    "        currentHotels += buildAgain\n",
    "        profile = np.append(profile, currentHotels)\n",
    "        current += 1\n",
    "    return profile\n",
    "\n",
    "\n",
    "testProfile = np.array([0,1,1,2,2,2,3,3,3,3])\n",
    "calculateProfit(testProfile)\n",
    "\n",
    "hotelProfits = np.array([])\n",
    "competitorThresholds = np.array([])\n",
    "iterations = 10000\n",
    "for k in range(iterations):\n",
    "    newThreshold = generateCompetitorThreshold()\n",
    "    newProfile = generateBuildProfile(1, 10, 2, newThreshold)\n",
    "    newProfit = calculateProfit(newProfile)\n",
    "    hotelProfits = np.append(hotelProfits, newProfit)\n",
    "    competitorThresholds = np.append(competitorThresholds, newThreshold)\n",
    "    if k % 1000 == 0: # just for fun we'll sample 10 different profiles\n",
    "        print(f'Sample Profile\\n')\n",
    "        print(f'Build Threshold {newThreshold}\\nBuild Profile {newProfile}\\nProfit {newProfit}\\n\\n\\n')\n",
    "\n",
    "print(f'Average Profit Per Year {np.mean(hotelProfits)}\\nIterations {iterations}')\n",
    "\n",
    "plt.scatter(1-competitorThresholds, hotelProfits)\n",
    "# Use 1-threshold is essentially how aggressive a competitor is.\n",
    "# More aggressive means lower threshold, so they are more likely to build a hotel\n",
    "# that year.\n",
    "plt.xlabel('Competitor Aggressiveness (Higher is more likely to build when able)')\n",
    "plt.ylabel('Build Profit')\n",
    "plt.show()"
   ],
   "metadata": {
    "collapsed": false,
    "pycharm": {
     "name": "#%%\n"
    }
   }
  },
  {
   "cell_type": "markdown",
   "source": [
    "Based on the graph, the less aggressive our competitors are about building additional hotels, the larger our profit is\n",
    "likely to be. It seems that across any build threshold >80% (aggressiveness <20%) we are most likely to see profits\n",
    "between 4000 and 5000, with an average of ~4932."
   ],
   "metadata": {
    "collapsed": false,
    "pycharm": {
     "name": "#%% md\n"
    }
   }
  }
 ],
 "metadata": {
  "kernelspec": {
   "display_name": "Python 3",
   "language": "python",
   "name": "python3"
  },
  "language_info": {
   "codemirror_mode": {
    "name": "ipython",
    "version": 2
   },
   "file_extension": ".py",
   "mimetype": "text/x-python",
   "name": "python",
   "nbconvert_exporter": "python",
   "pygments_lexer": "ipython2",
   "version": "2.7.6"
  }
 },
 "nbformat": 4,
 "nbformat_minor": 0
}