{
 "cells": [
  {
   "cell_type": "code",
   "execution_count": 52,
   "metadata": {
    "collapsed": true
   },
   "outputs": [],
   "source": [
    "import nltk\n",
    "import collections\n",
    "from nltk import corpus as c\n",
    "from nltk import DefaultTagger\n",
    "from nltk.corpus import brown as b\n",
    "from collections import defaultdict\n",
    "from nltk.tokenize import word_tokenize as wt"
   ]
  },
  {
   "cell_type": "code",
   "execution_count": 2,
   "outputs": [],
   "source": [
    "counts = defaultdict(int)"
   ],
   "metadata": {
    "collapsed": false
   }
  },
  {
   "cell_type": "code",
   "execution_count": 3,
   "outputs": [],
   "source": [
    "for word in c.gutenberg.words('milton-paradise.txt'):\n",
    "    counts[word] +=1"
   ],
   "metadata": {
    "collapsed": false
   }
  },
  {
   "cell_type": "code",
   "execution_count": 4,
   "outputs": [
    {
     "data": {
      "text/plain": "['mortal',\n 'Against',\n 'Him',\n 'There',\n 'brought',\n 'King',\n 'virtue',\n 'every',\n 'been',\n 'thine']"
     },
     "execution_count": 4,
     "metadata": {},
     "output_type": "execute_result"
    }
   ],
   "source": [
    "[key for (key, value) in counts.items() if value == 32]"
   ],
   "metadata": {
    "collapsed": false
   }
  },
  {
   "cell_type": "code",
   "execution_count": 10,
   "outputs": [
    {
     "data": {
      "text/plain": "dict"
     },
     "execution_count": 10,
     "metadata": {},
     "output_type": "execute_result"
    }
   ],
   "source": [
    "pos = {'colorless':'ADJ', 'ideas':'N', 'sleep':'V', 'furiously':'ADV'}"
   ],
   "metadata": {
    "collapsed": false
   }
  },
  {
   "cell_type": "code",
   "execution_count": 15,
   "outputs": [],
   "source": [
    "tags = [tag for (word,tag) in b.tagged_words(categories='news')]"
   ],
   "metadata": {
    "collapsed": false
   }
  },
  {
   "cell_type": "code",
   "execution_count": 16,
   "outputs": [
    {
     "data": {
      "text/plain": "'NN'"
     },
     "execution_count": 16,
     "metadata": {},
     "output_type": "execute_result"
    }
   ],
   "source": [
    "nltk.FreqDist(tags).max()"
   ],
   "metadata": {
    "collapsed": false
   }
  },
  {
   "cell_type": "code",
   "execution_count": 18,
   "outputs": [],
   "source": [
    "raw = 'I do not like green eggs and ham, I do not like them Sam I am!'"
   ],
   "metadata": {
    "collapsed": false
   }
  },
  {
   "cell_type": "code",
   "execution_count": 19,
   "outputs": [],
   "source": [
    "tokens = nltk.word_tokenize(raw)"
   ],
   "metadata": {
    "collapsed": false
   }
  },
  {
   "cell_type": "code",
   "execution_count": 20,
   "outputs": [
    {
     "data": {
      "text/plain": "[('I', 'NN'),\n ('do', 'NN'),\n ('not', 'NN'),\n ('like', 'NN'),\n ('green', 'NN'),\n ('eggs', 'NN'),\n ('and', 'NN'),\n ('ham', 'NN'),\n (',', 'NN'),\n ('I', 'NN'),\n ('do', 'NN'),\n ('not', 'NN'),\n ('like', 'NN'),\n ('them', 'NN'),\n ('Sam', 'NN'),\n ('I', 'NN'),\n ('am', 'NN'),\n ('!', 'NN')]"
     },
     "execution_count": 20,
     "metadata": {},
     "output_type": "execute_result"
    }
   ],
   "source": [
    "default_tagger = nltk.DefaultTagger('NN')\n",
    "default_tagger.tag(tokens)"
   ],
   "metadata": {
    "collapsed": false
   }
  },
  {
   "cell_type": "code",
   "execution_count": 21,
   "outputs": [],
   "source": [
    "b_tagged_sents = b.tagged_sents(categories='news')\n",
    "b_sents = b.sents(categories='news')"
   ],
   "metadata": {
    "collapsed": false
   }
  },
  {
   "cell_type": "code",
   "execution_count": 24,
   "outputs": [
    {
     "data": {
      "text/plain": "0.13089484257215028"
     },
     "execution_count": 24,
     "metadata": {},
     "output_type": "execute_result"
    }
   ],
   "source": [
    "default_tagger.accuracy(b_tagged_sents)"
   ],
   "metadata": {
    "collapsed": false
   }
  },
  {
   "cell_type": "code",
   "execution_count": 31,
   "outputs": [],
   "source": [
    "patterns=[\n",
    "    ('.ing$', 'VBG'),               # -ing: gerunds ( type of verb    )\n",
    "    ('.ed$', 'VBD'),                # -ed past tens\n",
    "    ('.es$', 'VBZ'),                # -3rd singular present\n",
    "    ('.ould$', 'MD'),               # modals\n",
    "    ('.*\\'s$', 'NN$'),              # possessive noun\n",
    "    ('.*s\\'$', 'NN$'),              # possessive noun\n",
    "    ('.*s', 'NNS'),                 # plural nouns\n",
    "    ('^-?[0-9]+(\\.[0-9]+)?$','CD'), # cardinal numbers\n",
    "    ('.*', 'NN')                    # default\n",
    "]"
   ],
   "metadata": {
    "collapsed": false
   }
  },
  {
   "cell_type": "code",
   "execution_count": 32,
   "outputs": [],
   "source": [
    "regexp_tagger = nltk.RegexpTagger(patterns)"
   ],
   "metadata": {
    "collapsed": false
   }
  },
  {
   "cell_type": "code",
   "execution_count": 44,
   "outputs": [
    {
     "data": {
      "text/plain": "[('``', 'NN'),\n ('Only', 'NN'),\n ('a', 'NN'),\n ('relative', 'NN'),\n ('handful', 'NN'),\n ('of', 'NN'),\n ('such', 'NNS'),\n ('reports', 'NNS'),\n ('was', 'NNS'),\n ('received', 'NN'),\n (\"''\", 'NN'),\n (',', 'NN'),\n ('the', 'NN'),\n ('jury', 'NN'),\n ('said', 'NNS'),\n (',', 'NN'),\n ('``', 'NN'),\n ('considering', 'NNS'),\n ('the', 'NN'),\n ('widespread', 'NNS'),\n ('interest', 'NNS'),\n ('in', 'NN'),\n ('the', 'NN'),\n ('election', 'NN'),\n (',', 'NN'),\n ('the', 'NN'),\n ('number', 'NN'),\n ('of', 'NN'),\n ('voters', 'NNS'),\n ('and', 'NN'),\n ('the', 'NN'),\n ('size', 'NNS'),\n ('of', 'NN'),\n ('this', 'NNS'),\n ('city', 'NN'),\n (\"''\", 'NN'),\n ('.', 'NN')]"
     },
     "execution_count": 44,
     "metadata": {},
     "output_type": "execute_result"
    }
   ],
   "source": [
    "regexp_tagger.tag(b_sents[3])"
   ],
   "metadata": {
    "collapsed": false
   }
  },
  {
   "cell_type": "code",
   "execution_count": 43,
   "outputs": [
    {
     "data": {
      "text/plain": "0.15608528750721007"
     },
     "execution_count": 43,
     "metadata": {},
     "output_type": "execute_result"
    }
   ],
   "source": [
    "regexp_tagger.accuracy(b_tagged_sents)"
   ],
   "metadata": {
    "collapsed": false
   }
  },
  {
   "cell_type": "code",
   "execution_count": 45,
   "outputs": [],
   "source": [
    "fd = nltk.FreqDist(b.words(categories='news'))\n",
    "cfd = nltk.ConditionalFreqDist(b.tagged_words(categories='news'))\n",
    "freq_words = fd.most_common(100)\n",
    "likely_tags = dict((word,cfd[word].max()) for (word, _) in freq_words)"
   ],
   "metadata": {
    "collapsed": false
   }
  },
  {
   "cell_type": "code",
   "execution_count": 46,
   "outputs": [],
   "source": [
    "base_tagger = nltk.UnigramTagger(model=likely_tags)"
   ],
   "metadata": {
    "collapsed": false
   }
  },
  {
   "cell_type": "code",
   "execution_count": 48,
   "outputs": [
    {
     "data": {
      "text/plain": "[('The', 'AT'),\n ('jury', None),\n ('further', None),\n ('said', 'VBD'),\n ('in', 'IN'),\n ('term-end', None),\n ('presentments', None),\n ('that', 'CS'),\n ('the', 'AT'),\n ('City', None),\n ('Executive', None),\n ('Committee', None),\n (',', ','),\n ('which', 'WDT'),\n ('had', 'HVD'),\n ('over-all', None),\n ('charge', None),\n ('of', 'IN'),\n ('the', 'AT'),\n ('election', None),\n (',', ','),\n ('``', '``'),\n ('deserves', None),\n ('the', 'AT'),\n ('praise', None),\n ('and', 'CC'),\n ('thanks', None),\n ('of', 'IN'),\n ('the', 'AT'),\n ('City', None),\n ('of', 'IN'),\n ('Atlanta', None),\n (\"''\", \"''\"),\n ('for', 'IN'),\n ('the', 'AT'),\n ('manner', None),\n ('in', 'IN'),\n ('which', 'WDT'),\n ('the', 'AT'),\n ('election', None),\n ('was', 'BEDZ'),\n ('conducted', None),\n ('.', '.')]"
     },
     "execution_count": 48,
     "metadata": {},
     "output_type": "execute_result"
    }
   ],
   "source": [
    "base_tagger.tag(b.sents(categories='news')[1])"
   ],
   "metadata": {
    "collapsed": false
   }
  },
  {
   "cell_type": "code",
   "execution_count": 50,
   "outputs": [
    {
     "data": {
      "text/plain": "0.45578495136941344"
     },
     "execution_count": 50,
     "metadata": {},
     "output_type": "execute_result"
    }
   ],
   "source": [
    "base_tagger.accuracy(b_tagged_sents)"
   ],
   "metadata": {
    "collapsed": false
   }
  },
  {
   "cell_type": "markdown",
   "source": [],
   "metadata": {
    "collapsed": false
   }
  },
  {
   "cell_type": "code",
   "execution_count": 55,
   "outputs": [
    {
     "ename": "NameError",
     "evalue": "name 'DefaulTagger' is not defined",
     "output_type": "error",
     "traceback": [
      "\u001B[1;31m---------------------------------------------------------------------------\u001B[0m",
      "\u001B[1;31mNameError\u001B[0m                                 Traceback (most recent call last)",
      "\u001B[1;32m~\\AppData\\Local\\Temp\\ipykernel_22912\\240213280.py\u001B[0m in \u001B[0;36m<module>\u001B[1;34m\u001B[0m\n\u001B[0;32m      1\u001B[0m base_tagger = nltk.UnigramTagger(model = likely_tags,\n\u001B[1;32m----> 2\u001B[1;33m                                  backoff= DefaulTagger('NN'))\n\u001B[0m\u001B[0;32m      3\u001B[0m \u001B[0mbase_tagger\u001B[0m\u001B[1;33m.\u001B[0m\u001B[0maccuracy\u001B[0m\u001B[1;33m(\u001B[0m\u001B[0mb_tagged_sents\u001B[0m\u001B[1;33m)\u001B[0m\u001B[1;33m\u001B[0m\u001B[1;33m\u001B[0m\u001B[0m\n",
      "\u001B[1;31mNameError\u001B[0m: name 'DefaulTagger' is not defined"
     ]
    }
   ],
   "source": [
    "base_tagger = nltk.UnigramTagger(model = likely_tags,\n",
    "                                 backoff= DefaulTagger('NN'))\n",
    "base_tagger.accuracy(b_tagged_sents)"
   ],
   "metadata": {
    "collapsed": false
   }
  },
  {
   "cell_type": "code",
   "execution_count": null,
   "outputs": [],
   "source": [],
   "metadata": {
    "collapsed": false
   }
  }
 ],
 "metadata": {
  "kernelspec": {
   "display_name": "Python 3",
   "language": "python",
   "name": "python3"
  },
  "language_info": {
   "codemirror_mode": {
    "name": "ipython",
    "version": 2
   },
   "file_extension": ".py",
   "mimetype": "text/x-python",
   "name": "python",
   "nbconvert_exporter": "python",
   "pygments_lexer": "ipython2",
   "version": "2.7.6"
  }
 },
 "nbformat": 4,
 "nbformat_minor": 0
}
