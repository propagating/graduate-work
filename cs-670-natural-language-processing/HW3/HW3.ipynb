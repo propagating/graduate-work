{
 "cells": [
  {
   "cell_type": "code",
   "execution_count": 57,
   "metadata": {
    "collapsed": true,
    "ExecuteTime": {
     "start_time": "2023-04-11T19:46:47.040122Z",
     "end_time": "2023-04-11T19:46:47.069866Z"
    }
   },
   "outputs": [],
   "source": [
    "import nltk\n",
    "import collections\n",
    "from nltk import corpus as c\n",
    "from nltk.corpus import conll2000\n",
    "from nltk import DefaultTagger\n",
    "from nltk.corpus import brown as b\n",
    "from collections import defaultdict\n",
    "from nltk.tokenize import word_tokenize as wt"
   ]
  },
  {
   "cell_type": "markdown",
   "source": [
    "# Question 1"
   ],
   "metadata": {
    "collapsed": false
   }
  },
  {
   "cell_type": "code",
   "execution_count": 37,
   "outputs": [
    {
     "ename": "AttributeError",
     "evalue": "'ConcatenatedCorpusView' object has no attribute 'lower'",
     "output_type": "error",
     "traceback": [
      "\u001B[1;31m---------------------------------------------------------------------------\u001B[0m",
      "\u001B[1;31mAttributeError\u001B[0m                            Traceback (most recent call last)",
      "\u001B[1;32m~\\AppData\\Local\\Temp\\ipykernel_11572\\922974798.py\u001B[0m in \u001B[0;36m<module>\u001B[1;34m\u001B[0m\n\u001B[0;32m      1\u001B[0m \u001B[0mtree\u001B[0m \u001B[1;33m=\u001B[0m \u001B[0mc\u001B[0m\u001B[1;33m.\u001B[0m\u001B[0mtreebank\u001B[0m\u001B[1;33m\u001B[0m\u001B[1;33m\u001B[0m\u001B[0m\n\u001B[0;32m      2\u001B[0m \u001B[1;33m\u001B[0m\u001B[0m\n\u001B[1;32m----> 3\u001B[1;33m \u001B[0mpos\u001B[0m \u001B[1;33m=\u001B[0m \u001B[0mnltk\u001B[0m\u001B[1;33m.\u001B[0m\u001B[0mpos_tag\u001B[0m\u001B[1;33m(\u001B[0m\u001B[0mtree\u001B[0m\u001B[1;33m.\u001B[0m\u001B[0mwords\u001B[0m\u001B[1;33m(\u001B[0m\u001B[1;33m)\u001B[0m\u001B[1;33m.\u001B[0m\u001B[0mlower\u001B[0m\u001B[1;33m(\u001B[0m\u001B[1;33m)\u001B[0m\u001B[1;33m)\u001B[0m\u001B[1;33m\u001B[0m\u001B[1;33m\u001B[0m\u001B[0m\n\u001B[0m\u001B[0;32m      4\u001B[0m \u001B[1;33m\u001B[0m\u001B[0m\n",
      "\u001B[1;31mAttributeError\u001B[0m: 'ConcatenatedCorpusView' object has no attribute 'lower'"
     ]
    }
   ],
   "source": [
    "tree = c.treebank\n",
    "pos = nltk.pos_tag(tree.words())"
   ],
   "metadata": {
    "collapsed": false,
    "ExecuteTime": {
     "start_time": "2023-04-11T19:27:53.481288Z",
     "end_time": "2023-04-11T19:27:57.158678Z"
    }
   }
  },
  {
   "cell_type": "code",
   "execution_count": 41,
   "outputs": [
    {
     "data": {
      "text/plain": "FreqDist({('to', 'TO'): 2164, ('To', 'TO'): 17, ('TO', 'NNP'): 1})"
     },
     "execution_count": 41,
     "metadata": {},
     "output_type": "execute_result"
    }
   ],
   "source": [
    "targets = [(k,v)for (k,v) in pos if k.lower() == 'to']\n",
    "nltk.FreqDist(targets)"
   ],
   "metadata": {
    "collapsed": false,
    "ExecuteTime": {
     "start_time": "2023-04-11T19:32:31.365832Z",
     "end_time": "2023-04-11T19:32:31.407601Z"
    }
   }
  },
  {
   "cell_type": "code",
   "execution_count": 55,
   "outputs": [
    {
     "data": {
      "text/plain": "[('TO', 'NNP'),\n ('THE', 'NNP'),\n ('DEFENSE', 'NNP'),\n (':', ':'),\n ('A', 'DT'),\n ('former', 'JJ'),\n ('member', 'NN'),\n ('of', 'IN'),\n ('the', 'DT'),\n ('prosecution', 'NN'),\n ('team', 'NN'),\n ('in', 'IN'),\n ('the', 'DT'),\n ('Iran\\\\/Contra', 'NNP')]"
     },
     "execution_count": 55,
     "metadata": {},
     "output_type": "execute_result"
    }
   ],
   "source": [
    "pos[24966:24980]"
   ],
   "metadata": {
    "collapsed": false,
    "ExecuteTime": {
     "start_time": "2023-04-11T19:43:41.917091Z",
     "end_time": "2023-04-11T19:43:41.966126Z"
    }
   }
  },
  {
   "cell_type": "markdown",
   "source": [
    "# Question 2"
   ],
   "metadata": {
    "collapsed": false
   }
  },
  {
   "cell_type": "code",
   "execution_count": 75,
   "outputs": [],
   "source": [
    "from nltk.tag import BigramTagger\n",
    "training = conll2000.tagged_sents()[:5473]\n",
    "testing = conll2000.tagged_sents()[5474:]\n"
   ],
   "metadata": {
    "collapsed": false,
    "ExecuteTime": {
     "start_time": "2023-04-11T19:58:11.738296Z",
     "end_time": "2023-04-11T19:58:12.993723Z"
    }
   }
  },
  {
   "cell_type": "code",
   "execution_count": 76,
   "outputs": [
    {
     "name": "stderr",
     "output_type": "stream",
     "text": [
      "C:\\Users\\PC\\AppData\\Local\\Temp\\ipykernel_11572\\1353311262.py:1: DeprecationWarning: \n",
      "  Function evaluate() has been deprecated.  Use accuracy(gold)\n",
      "  instead.\n",
      "  tagger.evaluate(testing)\n"
     ]
    },
    {
     "data": {
      "text/plain": "0.16673277182831323"
     },
     "execution_count": 76,
     "metadata": {},
     "output_type": "execute_result"
    }
   ],
   "source": [
    "tagger = BigramTagger(training)\n",
    "tagger.evaluate(testing)"
   ],
   "metadata": {
    "collapsed": false,
    "ExecuteTime": {
     "start_time": "2023-04-11T19:58:33.624427Z",
     "end_time": "2023-04-11T19:58:34.345795Z"
    }
   }
  },
  {
   "cell_type": "code",
   "execution_count": 125,
   "outputs": [
    {
     "name": "stdout",
     "output_type": "stream",
     "text": [
      "[('company', 'NN'), ('%', 'NN'), ('trading', 'NN'), ('market', 'NN'), ('year', 'NN'), ('addition', 'NN'), ('quarter', 'NN'), ('yesterday', 'NN'), ('time', 'NN'), ('government', 'NN'), ('rate', 'NN'), ('stock', 'NN'), ('move', 'NN'), ('dollar', 'NN'), ('report', 'NN'), ('Revenue', 'NN'), ('price', 'NN'), ('income', 'NN'), ('share', 'NN'), ('Yesterday', 'NN'), ('week', 'NN'), ('loss', 'NN'), ('example', 'NN'), ('result', 'NN'), ('earthquake', 'NN'), ('interest', 'NN'), ('group', 'NN'), ('agency', 'NN'), ('firm', 'NN'), ('profit', 'NN'), ('spokesman', 'NN'), ('period', 'NN'), ('bank', 'NN'), ('increase', 'NN'), ('sale', 'NN'), ('bill', 'NN'), ('issue', 'NN'), ('decision', 'NN'), ('money', 'NN'), ('unit', 'NN'), ('business', 'NN'), ('index', 'NN'), ('plan', 'NN'), ('administration', 'NN'), ('course', 'NN'), ('part', 'NN'), ('president', 'NN'), ('lot', 'NN'), ('month', 'NN'), ('point', 'NN'), ('line', 'NN'), ('insurance', 'NN'), ('investment', 'NN'), ('contract', 'NN'), ('computer', 'NN'), ('quake', 'NN'), ('damage', 'NN'), ('half', 'NN'), ('net', 'NN'), ('brokerage', 'NN'), ('estimate', 'NN'), ('industry', 'NN'), ('legislation', 'NN'), ('drop', 'NN'), ('gold', 'NN'), ('number', 'NN'), ('gain', 'NN'), ('end', 'NN'), ('way', 'NN'), ('capital', 'NN'), ('filing', 'NN'), ('Source', 'NN'), ('charge', 'NN'), ('board', 'NN'), ('instance', 'NN'), ('revenue', 'NN'), ('law', 'NN'), ('fact', 'NN'), ('director', 'NN'), ('5', 'NN'), ('tax', 'NN'), ('problem', 'NN'), ('official', 'NN'), ('trade', 'NN'), ('yield', 'NN'), ('oil', 'NN'), ('buy-out', 'NN'), ('case', 'NN'), ('state', 'NN'), ('volume', 'NN'), ('amount', 'NN'), ('bond', 'NN'), ('car', 'NN'), ('building', 'NN'), ('letter', 'NN'), ('statement', 'NN'), ('Today', 'NN'), ('activity', 'NN'), ('union', 'NN'), ('level', 'NN'), ('idea', 'NN'), ('thing', 'NN'), ('reason', 'NN'), ('secretary', 'NN'), ('debt', 'NN'), ('action', 'NN'), ('transaction', 'NN'), ('morning', 'NN'), ('Volume', 'NN'), ('day', 'NN'), ('size', 'NN'), ('offer', 'NN'), ('proposal', 'NN'), ('chairman', 'NN'), ('program', 'NN'), ('purchase', 'NN'), ('offering', 'NN'), ('term', 'NN'), ('telephone', 'NN'), ('summer', 'NN'), ('analyst', 'NN'), ('exchange', 'NN'), ('base', 'NN'), ('question', 'NN'), ('panel', 'NN'), ('plant', 'NN'), ('cost', 'NN'), ('man', 'NN'), ('machine', 'NN'), ('decline', 'NN'), ('position', 'NN'), ('committee', 'NN'), ('acquisition', 'NN'), ('impact', 'NN'), ('Interest', 'NN'), ('world', 'NN'), ('percentage', 'NN'), ('management', 'NN'), ('something', 'NN'), ('deal', 'NN'), ('staff', 'NN'), ('conference', 'NN'), ('dividend', 'NN'), ('restructuring', 'NN'), ('country', 'NN'), ('estate', 'NN'), ('area', 'NN'), ('news', 'NN'), ('process', 'NN'), ('network', 'NN'), ('vice', 'NN'), ('study', 'NN'), ('change', 'NN'), ('production', 'NN'), ('rise', 'NN'), ('credit', 'NN'), ('plunge', 'NN'), ('research', 'NN'), ('equity', 'NN'), ('margin', 'NN'), ('system', 'NN'), ('currency', 'NN'), ('improvement', 'NN'), ('Operating', 'NN'), ('equipment', 'NN'), ('woman', 'NN'), ('house', 'NN'), ('airline', 'NN'), ('construction', 'NN'), ('drug', 'NN'), ('kind', 'NN'), ('survey', 'NN'), ('policy', 'NN'), ('nation', 'NN'), ('approval', 'NN'), ('maker', 'NN'), ('surge', 'NN'), ('Bond', 'NN'), ('investor', 'NN'), ('settlement', 'NN'), ('version', 'NN'), ('spokeswoman', 'NN'), ('agreement', 'NN'), ('place', 'NN'), ('announcement', 'NN'), ('growth', 'NN'), ('volatility', 'NN'), ('court', 'NN'), ('delivery', 'NN'), ('test', 'NN'), ('hearing', 'NN'), ('history', 'NN'), ('Housing', 'NN'), ('mind', 'NN'), ('parent', 'NN'), ('city', 'NN'), ('provision', 'NN'), ('measure', 'NN'), ('run', 'NN'), ('fall', 'NN'), ('mark', 'NN'), ('transportation', 'NN'), ('difference', 'NN'), ('information', 'NN'), ('power', 'NN'), ('authority', 'NN'), ('bid', 'NN'), ('close', 'NN'), ('development', 'NN'), ('evidence', 'NN'), ('rest', 'NN'), ('buy-back', 'NN'), ('attempt', 'NN'), ('division', 'NN'), ('Stock', 'NN'), ('trend', 'NN'), ('officer', 'NN'), ('shuttle', 'NN'), ('buyer', 'NN'), ('relief', 'NN'), ('budget', 'NN'), ('None', 'NN'), ('disaster', 'NN'), ('value', 'NN'), ('contrast', 'NN'), ('situation', 'NN'), ('head', 'NN'), ('discount', 'NN'), ('State', 'NN'), ('demand', 'NN'), ('poll', 'NN'), ('crash', 'NN'), ('subject', 'NN'), ('article', 'NN'), ('benchmark', 'NN'), ('press', 'NN'), ('television', 'NN'), ('practice', 'NN'), ('spending', 'NN'), ('environment', 'NN'), ('opposition', 'NN'), ('deficit', 'NN'), ('moment', 'NN'), ('center', 'NN'), ('yen', 'NN'), ('image', 'NN'), ('shutdown', 'NN'), ('auto', 'NN'), ('defense', 'NN'), ('order', 'NN'), ('project', 'NN'), ('housing', 'NN'), ('Consumer', 'NN'), ('response', 'NN'), ('Industry', 'NN'), ('property', 'NN'), ('father', 'NN'), ('stock-market', 'NN'), ('product', 'NN'), ('total', 'NN'), ('many', 'NN'), ('right', 'NN'), ('No.', 'NN'), ('factor', 'NN'), ('b', 'NN'), ('century', 'NN'), ('record', 'NN'), ('quality', 'NN'), ('competition', 'NN'), ('floor', 'NN'), ('Power', 'NN'), ('life', 'NN'), ('structure', 'NN'), ('performance', 'NN'), ('takeover', 'NN'), ('carrier', 'NN'), ('pressure', 'NN'), ('effect', 'NN'), ('turnaround', 'NN'), ('story', 'NN'), ('loan', 'NN'), ('matter', 'NN'), ('subsidiary', 'NN'), ('possibility', 'NN'), ('anything', 'NN'), ('stake', 'NN'), ('contribution', 'NN'), ('event', 'NN'), ('decade', 'NN'), ('rule', 'NN'), ('venture', 'NN'), ('target', 'NN'), ('movement', 'NN'), ('abortion', 'NN'), ('election', 'NN'), ('side', 'NN'), ('weekend', 'NN'), ('Nothing', 'NN'), ('force', 'NN'), ('meeting', 'NN'), ('Company', 'NN'), ('Market', 'NN'), ('ability', 'NN'), ('railroad', 'NN'), ('night', 'NN'), ('cash', 'NN'), ('paper', 'NN'), ('model', 'NN'), ('failure', 'NN'), ('much', 'NN'), ('junk-bond', 'NN'), ('nothing', 'NN'), ('home', 'NN'), ('bureau', 'NN'), ('bottom', 'NN'), ('space', 'NN'), ('judge', 'NN'), ('manager', 'NN'), ('advantage', 'NN'), ('banker', 'NN'), ('in', 'NN'), ('aid', 'NN'), ('extent', 'NN'), ('phase', 'NN'), ('coverage', 'NN'), ('concern', 'NN'), ('expense', 'NN'), ('hand', 'NN'), ('fund', 'NN'), ('start', 'NN'), ('interview', 'NN'), ('doubt', 'NN'), ('newspaper', 'NN'), ('series', 'NN'), ('opening', 'NN'), ('prospect', 'NN'), ('advertising', 'NN'), ('air', 'NN'), ('accord', 'NN'), ('arbitrage', 'NN'), ('option', 'NN'), ('franc', 'NN'), ('note', 'NN'), ('premium', 'NN'), ('lead', 'NN'), ('exclusion', 'NN'), ('asset', 'NN'), ('alternative', 'NN'), ('region', 'NN'), ('Business', 'NN'), ('junk', 'NN'), ('figure', 'NN'), ('comment', 'NN'), ('quarterly', 'NN'), ('financing', 'NN'), ('engineering', 'NN'), ('member', 'NN'), ('need', 'NN'), ('intelligence', 'NN'), ('spy', 'NN'), ('experience', 'NN'), ('death', 'NN'), ('bulk', 'NN'), ('audience', 'NN'), ('treatment', 'NN'), ('hope', 'NN'), ('bankruptcy', 'NN'), ('combination', 'NN'), ('release', 'NN'), ('work', 'NN'), ('indication', 'NN'), ('speech', 'NN'), ('auction', 'NN'), ('risk', 'NN'), ('trust', 'NN'), ('low', 'NN'), ('vaccine', 'NN'), ('battle', 'NN'), ('assembly', 'NN'), ('pipeline', 'NN'), ('attention', 'NN'), ('desire', 'NN'), ('casualty', 'NN'), ('broker', 'NN'), ('dozen', 'NN'), ('office', 'NN'), ('quest', 'NN'), ('son', 'NN'), ('downside', 'NN'), ('selling', 'NN'), ('opposite', 'NN'), ('candidate', 'NN'), ('economy', 'NN'), ('Takeover', 'NN'), ('magazine', 'NN'), ('Shareholder', 'NN'), ('step', 'NN'), ('direction', 'NN'), ('sort', 'NN'), ('remainder', 'NN'), ('litigation', 'NN'), ('judgment', 'NN'), ('centennial', 'NN'), ('reduction', 'NN'), ('package', 'NN'), ('temblor', 'NN'), ('ground', 'NN'), ('Everyone', 'NN'), ('friend', 'NN'), ('mine', 'NN'), ('fine', 'NN'), ('Transportation', 'NN'), ('advance', 'NN'), ('mood', 'NN'), ('banking', 'NN'), ('session', 'NN'), ('section', 'NN'), ('uncertainty', 'NN'), ('year-end', 'NN'), ('health-care', 'NN'), ('segment', 'NN'), ('Silver', 'NN'), ('leader', 'NN'), ('stress', 'NN'), ('calendar', 'NN'), ('security', 'NN'), ('principle', 'NN'), ('credit-card', 'NN'), ('party', 'NN'), ('rejection', 'NN'), ('chunk', 'NN'), ('pilot', 'NN'), ('arrangement', 'NN'), ('condition', 'NN'), ('complaint', 'NN'), ('wage', 'NN'), ('supply', 'NN'), ('answer', 'NN'), ('lesson', 'NN'), ('shift', 'NN'), ('climate', 'NN'), ('collapse', 'NN'), ('spring', 'NN'), ('child', 'NN'), ('marketer', 'NN'), ('backing', 'NN'), ('Repeal', 'NN'), ('conglomerate', 'NN'), ('pence', 'NN'), ('rail', 'NN'), ('service', 'NN'), ('noon', 'NN'), ('today', 'NN'), ('highway', 'NN'), ('none', 'NN'), ('dark', 'NN'), ('producer', 'NN'), ('giant', 'NN'), ('mainframe', 'NN'), ('marketing', 'NN'), ('software', 'NN'), ('family', 'NN'), ('Copyright', 'NN'), ('Speculation', 'NN'), ('bull', 'NN'), ('reversal', 'NN'), ('spacecraft', 'NN'), ('sense', 'NN'), ('lawyer', 'NN'), ('conclusion', 'NN'), ('lender', 'NN'), ('deduction', 'NN'), ('engine', 'NN'), ('declaration', 'NN'), ('pool', 'NN'), ('devastation', 'NN'), ('emergency', 'NN'), ('account', 'NN'), ('harvest', 'NN'), ('Food', 'NN'), ('form', 'NN'), ('utility', 'NN'), ('columnist', 'NN'), ('edition', 'NN'), ('aerospace', 'NN'), ('Demand', 'NN'), ('handful', 'NN'), ('suit', 'NN'), ('movie', 'NN'), ('compound', 'NN'), ('maturity', 'NN'), ('ad', 'NN'), ('Ad', 'NN'), ('ACCOUNT', 'NN'), ('act', 'NN'), ('sentiment', 'NN'), ('implication', 'NN'), ('rubble', 'NN'), ('reality', 'NN'), ('Government', 'NN'), ('show', 'NN'), ('theory', 'NN'), ('ratio', 'NN'), ('Profit', 'NN'), ('merger', 'NN'), ('glory', 'NN'), ('squeeze', 'NN'), ('bell', 'NN'), ('Brokerage', 'NN'), ('look', 'NN'), ('transfer', 'NN'), ('toothpaste', 'NN'), ('brand', 'NN'), ('bridge', 'NN'), ('catastrophe', 'NN'), ('manufacturing', 'NN'), ('executive', 'NN'), ('pact', 'NN'), ('refinancing', 'NN'), ('chance', 'NN'), ('Stock-index', 'NN'), ('basis', 'NN'), ('participation', 'NN'), ('control', 'NN'), ('outlook', 'NN'), ('syndicate', 'NN'), ('par', 'NN'), ('consent', 'NN'), ('sponsor', 'NN'), ('inflation', 'NN'), ('retirement', 'NN'), ('limit', 'NN'), ('helicopter', 'NN'), ('energy', 'NN'), ('slack', 'NN'), ('aftermath', 'NN'), ('call', 'NN'), ('epicenter', 'NN'), ('downtown', 'NN'), ('heart', 'NN'), ('stream', 'NN'), ('Mortgage', 'NN'), ('chancellor', 'NN'), ('occasion', 'NN'), ('selection', 'NN'), ('team', 'NN'), ('banner', 'NN'), ('reform', 'NN'), ('culmination', 'NN'), ('jury', 'NN'), ('box', 'NN'), ('wake', 'NN'), ('recession', 'NN'), ('redemption', 'NN'), ('meantime', 'NN'), ('Activity', 'NN'), ('Insurance', 'NN'), ('developer', 'NN'), ('jump', 'NN'), ('tobacco', 'NN'), ('food', 'NN'), ('55', 'NN'), ('privatization', 'NN'), ('factory', 'NN'), ('phone', 'NN'), ('help', 'NN'), ('briefing', 'NN'), ('freight', 'NN'), ('agenda', 'NN'), ('county', 'NN'), ('real-estate', 'NN'), ('round', 'NN'), ('household', 'NN'), ('surprise', 'NN'), ('profitability', 'NN'), ('priority', 'NN'), ('absence', 'NN'), ('coup', 'NN'), ('pay', 'NN'), ('campaign', 'NN'), ('stage', 'NN'), ('threat', 'NN'), ('indictment', 'NN'), ('incident', 'NN'), ('assistance', 'NN'), ('while', 'NN'), ('Output', 'NN'), ('Production', 'NN'), ('mortality', 'NN'), ('proportion', 'NN'), ('Share', 'NN'), ('technology', 'NN'), ('Price', 'NN'), ('chemical', 'NN'), ('speaker', 'NN'), ('consensus', 'NN'), ('pair', 'NN'), ('opportunity', 'NN'), ('physician', 'NN'), ('subcommittee', 'NN'), ('requirement', 'NN'), ('district', 'NN'), ('controversy', 'NN'), ('Pressure', 'NN'), ('bellwether', 'NN'), ('majority', 'NN'), ('City', 'NN'), ('Stock-market', 'NN'), ('cut', 'NN'), ('face', 'NN'), ('signal', 'NN'), ('lid', 'NN'), ('consumer', 'NN'), ('finance', 'NN'), ('portfolio', 'NN'), ('return', 'NN'), ('protest', 'NN'), ('portion', 'NN'), ('truth', 'NN'), ('recovery', 'NN'), ('station', 'NN'), ('degree', 'NN'), ('vehicle', 'NN'), ('Defense', 'NN'), ('incentive', 'NN'), ('commodity', 'NN'), ('ENERGY', 'NN'), ('barrel', 'NN'), ('Heating', 'NN'), ('weather', 'NN'), ('timing', 'NN'), ('repair', 'NN'), ('tank', 'NN'), ('support', 'NN'), ('minute', 'NN'), ('wonder', 'NN'), ('criticism', 'NN'), ('water', 'NN'), ('pitch', 'NN'), ('communism', 'NN'), ('warning', 'NN'), ('title', 'NN'), ('gap', 'NN'), ('minister', 'NN'), ('chain', 'NN'), ('Everything', 'NN'), ('shopping', 'NN'), ('disappointment', 'NN'), ('style', 'NN'), ('everyone', 'NN'), ('Lack', 'NN'), ('room', 'NN'), ('mania', 'NN'), ('search', 'NN'), ('game', 'NN'), ('tender', 'NN'), ('material', 'NN'), ('light', 'NN'), ('mail', 'NN'), ('statute', 'NN'), ('strength', 'NN'), ('element', 'NN'), ('phenomenon', 'NN'), ('focus', 'NN'), ('hour', 'NN'), ('stock-index', 'NN'), ('sell', 'NN'), ('owner', 'NN'), ('blue', 'NN'), ('name', 'NN'), ('role', 'NN'), ('choice', 'NN'), ('fight', 'NN'), ('injection', 'NN'), ('lending', 'NN'), ('future', 'NN'), ('funding', 'NN'), ('veto', 'NN'), ('brief', 'NN'), ('evaluation', 'NN'), ('nature', 'NN'), ('bit', 'NN'), ('Year', 'NN'), ('slump', 'NN'), ('rally', 'NN'), ('deficit-reduction', 'NN'), ('Dollar', 'NN')]\n"
     ]
    }
   ],
   "source": [
    "train_tags = tagger.tag_sents(conll2000.sents()[5474:])\n",
    "flat_list = []\n",
    "for sublist in train_tags:\n",
    "    for item in sublist:\n",
    "        flat_list.append(item)\n",
    "\n",
    "tagged_nouns = [(k,v) for (k,v) in flat_list if v == 'NN']\n",
    "print([(p,k) for (p,k) in nltk.FreqDist(tagged_nouns)])"
   ],
   "metadata": {
    "collapsed": false,
    "ExecuteTime": {
     "start_time": "2023-04-11T20:18:20.440140Z",
     "end_time": "2023-04-11T20:18:21.237996Z"
    }
   }
  },
  {
   "cell_type": "markdown",
   "source": [
    "# Question 3"
   ],
   "metadata": {
    "collapsed": false
   }
  },
  {
   "cell_type": "code",
   "execution_count": 127,
   "outputs": [],
   "source": [
    "\n",
    "patterns=[\n",
    "    ('.ing$','VBG'), # -ing: gerunds (a type of verb)\n",
    "    ('.ed$','VBD'), # -ed: past verbs\n",
    "    ('.es$','VBZ'), # -es, 3rd singural present\n",
    "    (r'(?i)(can|could|may|might|must|ought|shall|should|will|would)$', 'MD'), # Modal Verbs\n",
    "    ('.ould$','MD'), # -ould, modals\n",
    "    ('.*\\'s$','POS'), # 's, possesive ending noun\n",
    "    ('.*s\\'$','POS'), # s', possesive ending noun\n",
    "    ('.*s$','NNS'), # -s, plural noun\n",
    "    ('[A-Z]+','NNP'), # Proper Nouns\n",
    "    (r'(?i)(I|you|he|she|it|we|him|her|us|them)$', 'PP'), # Personal Pronouns\n",
    "    (r'(?i)(mine|yours|his|hers|ours|theirs)$', 'PP$'), # Possessive Personal Pronouns\n",
    "    ('^-?[0-9]+(\\.[0-9]+)?$','CD'), #cardinal numbers\n",
    "    ('.ment$', 'NN'),\n",
    "    ('.ful$', 'JJ'),\n",
    "    ('.er$', 'JJR'), # Adj that are comparisons for more or less\n",
    "    ('.est$', 'JJS'), # Adj that represent comparisons that are the best/worst\n",
    "    ('.ly$', 'RB'), # Adverbs\n",
    "    ('.er$', 'JJR'), # Adverb comparators\n",
    "    (r'(?i)(a|an|every|no|the|another|any|some|each|either|neither|that|these|those|all|both)$', 'DT'), # Determiners\n",
    "    (r'(?i)(my|oh|please|see|uh|well|yes|like|so)+(,)$', 'DT'), # interjections\n",
    "    (r'(?i)(and|but|nor|or|yet|plus|minus|less|times)$', 'CC'), # Coordinating Conjunction\n",
    "    ('.*','None') #default is none/untagged\n",
    "]\n",
    "regexp_tagger = nltk.RegexpTagger(patterns)\n",
    "\n"
   ],
   "metadata": {
    "collapsed": false,
    "ExecuteTime": {
     "start_time": "2023-04-12T17:38:46.516412Z",
     "end_time": "2023-04-12T17:38:46.524414Z"
    }
   }
  },
  {
   "cell_type": "code",
   "execution_count": 128,
   "outputs": [
    {
     "name": "stderr",
     "output_type": "stream",
     "text": [
      "C:\\Users\\PC\\AppData\\Local\\Temp\\ipykernel_11572\\279365043.py:9: DeprecationWarning: \n",
      "  Function evaluate() has been deprecated.  Use accuracy(gold)\n",
      "  instead.\n",
      "  regexp_tagger.evaluate(brown_tagged_sents)\n"
     ]
    },
    {
     "data": {
      "text/plain": "0.09318376195874853"
     },
     "execution_count": 128,
     "metadata": {},
     "output_type": "execute_result"
    }
   ],
   "source": [
    "import nltk\n",
    "from nltk.corpus import brown\n",
    "from collections import defaultdict\n",
    "from nltk.tokenize import word_tokenize\n",
    "\n",
    "brown_tagged_sents = brown.tagged_sents(categories='news')\n",
    "brown_sents=brown.sents(categories='news')\n",
    "regexp_tagger.tag(brown_sents[3])\n",
    "regexp_tagger.evaluate(brown_tagged_sents)"
   ],
   "metadata": {
    "collapsed": false,
    "ExecuteTime": {
     "start_time": "2023-04-12T17:38:49.173800Z",
     "end_time": "2023-04-12T17:38:50.956775Z"
    }
   }
  },
  {
   "cell_type": "code",
   "execution_count": 131,
   "outputs": [
    {
     "data": {
      "text/plain": "FreqDist({'the': 5580, ',': 5188, '.': 4030, 'of': 2849, 'and': 2146, 'to': 2116, 'a': 1993, 'in': 1893, 'for': 943, 'The': 806, ...})"
     },
     "execution_count": 131,
     "metadata": {},
     "output_type": "execute_result"
    }
   ],
   "source": [
    "fd=nltk.FreqDist(brown.words(categories='news'))\n",
    "fd"
   ],
   "metadata": {
    "collapsed": false,
    "ExecuteTime": {
     "start_time": "2023-04-12T17:38:58.204467Z",
     "end_time": "2023-04-12T17:38:58.358633Z"
    }
   }
  },
  {
   "cell_type": "code",
   "execution_count": 132,
   "outputs": [
    {
     "data": {
      "text/plain": "<ConditionalFreqDist with 14394 conditions>"
     },
     "execution_count": 132,
     "metadata": {},
     "output_type": "execute_result"
    }
   ],
   "source": [
    "cfd = nltk.ConditionalFreqDist(brown.tagged_words(categories='news'))\n",
    "cfd"
   ],
   "metadata": {
    "collapsed": false,
    "ExecuteTime": {
     "start_time": "2023-04-12T17:39:01.085273Z",
     "end_time": "2023-04-12T17:39:01.490000Z"
    }
   }
  },
  {
   "cell_type": "code",
   "execution_count": 133,
   "outputs": [
    {
     "name": "stderr",
     "output_type": "stream",
     "text": [
      "C:\\Users\\PC\\AppData\\Local\\Temp\\ipykernel_11572\\2198243110.py:5: DeprecationWarning: \n",
      "  Function evaluate() has been deprecated.  Use accuracy(gold)\n",
      "  instead.\n",
      "  baseline_tagger.evaluate(brown_tagged_sents)\n"
     ]
    },
    {
     "data": {
      "text/plain": "0.45578495136941344"
     },
     "execution_count": 133,
     "metadata": {},
     "output_type": "execute_result"
    }
   ],
   "source": [
    "most_freq_words=fd.most_common(100)\n",
    "likely_tags=dict((word,cfd[word].max()) for (word,_) in most_freq_words)\n",
    "baseline_tagger=nltk.UnigramTagger(model=likely_tags)\n",
    "baseline_tagger.tag(brown.sents(categories='news')[3])\n",
    "baseline_tagger.evaluate(brown_tagged_sents)"
   ],
   "metadata": {
    "collapsed": false,
    "ExecuteTime": {
     "start_time": "2023-04-12T17:39:07.095394Z",
     "end_time": "2023-04-12T17:39:07.381039Z"
    }
   }
  },
  {
   "cell_type": "code",
   "execution_count": 134,
   "outputs": [
    {
     "name": "stderr",
     "output_type": "stream",
     "text": [
      "C:\\Users\\PC\\AppData\\Local\\Temp\\ipykernel_11572\\3053614110.py:3: DeprecationWarning: \n",
      "  Function evaluate() has been deprecated.  Use accuracy(gold)\n",
      "  instead.\n",
      "  baseline_tagger.evaluate(brown_tagged_sents)\n"
     ]
    },
    {
     "data": {
      "text/plain": "0.5817769556656125"
     },
     "execution_count": 134,
     "metadata": {},
     "output_type": "execute_result"
    }
   ],
   "source": [
    "baseline_tagger=nltk.UnigramTagger(model=likely_tags,\n",
    "                                   backoff=nltk.DefaultTagger('NN'))\n",
    "baseline_tagger.evaluate(brown_tagged_sents)"
   ],
   "metadata": {
    "collapsed": false,
    "ExecuteTime": {
     "start_time": "2023-04-12T17:39:09.220164Z",
     "end_time": "2023-04-12T17:39:09.505521Z"
    }
   }
  },
  {
   "cell_type": "markdown",
   "source": [
    "# Question 4"
   ],
   "metadata": {
    "collapsed": false
   }
  },
  {
   "cell_type": "code",
   "execution_count": 189,
   "outputs": [],
   "source": [
    "import nltk\n",
    "from nltk.corpus import brown, treebank\n",
    "from nltk.tag import UnigramTagger, BigramTagger, TrigramTagger, AffixTagger\n",
    "from nltk.tag import brill, brill_trainer\n",
    "from nltk.tag import DefaultTagger\n",
    "from nltk.tag import brill, brill_trainer\n",
    "from nltk.tag import DefaultTagger\n",
    "from nltk.corpus import treebank"
   ],
   "metadata": {
    "collapsed": false,
    "ExecuteTime": {
     "start_time": "2023-04-12T18:31:34.129894Z",
     "end_time": "2023-04-12T18:31:34.139894Z"
    }
   }
  },
  {
   "cell_type": "code",
   "execution_count": 252,
   "outputs": [
    {
     "data": {
      "text/plain": "0.7286643203966595"
     },
     "execution_count": 252,
     "metadata": {},
     "output_type": "execute_result"
    }
   ],
   "source": [
    "train = brown.tagged_sents(tagset='universal')[:1000]\n",
    "test = brown.tagged_sents(tagset='universal')[1000:]\n",
    "\n",
    "unigram_tagger = UnigramTagger(brown.tagged_sents(tagset='universal')[:1000])\n",
    "# in class baseline\n",
    "baseline_class = UnigramTagger(train, backoff=None)\n",
    "baseline_class.accuracy(test)"
   ],
   "metadata": {
    "collapsed": false,
    "ExecuteTime": {
     "start_time": "2023-04-19T14:57:10.431953Z",
     "end_time": "2023-04-19T14:57:18.430837Z"
    }
   }
  },
  {
   "cell_type": "code",
   "execution_count": 253,
   "outputs": [
    {
     "data": {
      "text/plain": "0.8030581689437308"
     },
     "execution_count": 253,
     "metadata": {},
     "output_type": "execute_result"
    }
   ],
   "source": [
    "def backoff_tagger(train_sentences, tagger_classes, backoff=None):\n",
    "    for cls in tagger_classes:\n",
    "        backoff = cls(train_sentences, backoff=backoff)\n",
    "    return backoff\n",
    "\n",
    "tag0 = DefaultTagger('NN')\n",
    "tag1 = UnigramTagger(train, backoff=tag0)\n",
    "tag2 = AffixTagger(train, affix_length=-2, backoff=tag1)\n",
    "tag3 = AffixTagger(train, affix_length=-3, backoff=tag2)\n",
    "baseline = TrigramTagger(train, backoff=tag3)\n",
    "\n",
    "baseline.accuracy(test)"
   ],
   "metadata": {
    "collapsed": false,
    "ExecuteTime": {
     "start_time": "2023-04-19T14:57:18.434841Z",
     "end_time": "2023-04-19T14:57:26.555795Z"
    }
   }
  },
  {
   "cell_type": "code",
   "execution_count": 254,
   "outputs": [],
   "source": [
    "tag = baseline"
   ],
   "metadata": {
    "collapsed": false,
    "ExecuteTime": {
     "start_time": "2023-04-19T14:57:26.560231Z",
     "end_time": "2023-04-19T14:57:26.570228Z"
    }
   }
  },
  {
   "cell_type": "code",
   "execution_count": 255,
   "outputs": [
    {
     "data": {
      "text/plain": "0.8048744944531403"
     },
     "execution_count": 255,
     "metadata": {},
     "output_type": "execute_result"
    }
   ],
   "source": [
    "def brill_tagger(tag, train, **kwargs):\n",
    "    templates = [\n",
    "        nltk.tag.brill.Template(brill.Pos([1])), # Use next tag\n",
    "        nltk.tag.brill.Template(brill.Pos([-1])), # Use previous tag\n",
    "        nltk.tag.brill.Template(brill.Pos([-2, -1])), # Use combination of previous 2 POS tags\n",
    "        nltk.tag.brill.Template(brill.Pos([1, 2])), # Use combination of next two POS Tags\n",
    "        nltk.tag.brill.Template(brill.Pos([2])), # Use previous tag\n",
    "        nltk.tag.brill.Template(brill.Pos([-2])), # Use previous tag\n",
    "        nltk.tag.brill.Template(brill.Pos([-3, -2, -1])), # Use combination of previous 3 POS tags\n",
    "        nltk.tag.brill.Template(brill.Pos([1, 2, 3])), # Use combinations of next 3 POS tags\n",
    "        nltk.tag.brill.Template(brill.Pos([-1]), # Use previous POS Tag\n",
    "                                brill.Pos([1])), # Use following POS tag\n",
    "        nltk.tag.brill.Template(brill.Word([1])), # Use following word\n",
    "        nltk.tag.brill.Template(brill.Word([-1])), # Use previous word\n",
    "        nltk.tag.brill.Template(brill.Word([-2])), # Use previous 2 words\n",
    "        nltk.tag.brill.Template(brill.Word([2])), # Use next 2 words\n",
    "        nltk.tag.brill.Template(brill.Word([-2, -1])), # Use combination of previous 2 words\n",
    "        nltk.tag.brill.Template(brill.Word([1, 2])), # Use combination of next 2 words\n",
    "        nltk.tag.brill.Template(brill.Word([-3, -2, -1])), # Use combination of previous 3 words\n",
    "        nltk.tag.brill.Template(brill.Word([1, 2, 3])), # Use combination of next 3 words\n",
    "        nltk.tag.brill.Template(brill.Word([-1]), # Use previous word\n",
    "                                brill.Word([1])), # Use next word\n",
    "    ]\n",
    "    f = brill_trainer.BrillTaggerTrainer(tag, templates, deterministic = True)\n",
    "    return f.train(train, **kwargs)\n",
    "\n",
    "brill1=brill_tagger(tag, train)\n",
    "brill1.accuracy(test)"
   ],
   "metadata": {
    "collapsed": false,
    "ExecuteTime": {
     "start_time": "2023-04-19T14:57:26.580877Z",
     "end_time": "2023-04-19T14:57:36.182527Z"
    }
   }
  },
  {
   "cell_type": "code",
   "execution_count": 240,
   "outputs": [
    {
     "data": {
      "text/plain": "(Rule('342', 'PRT', 'ADP', [(Pos([1]),'DET')]),\n Rule('350', 'PRT', 'ADP', [(Pos([-1]),'NOUN'), (Pos([1]),'NOUN')]),\n Rule('342', 'PRT', 'ADP', [(Pos([1]),'ADJ')]),\n Rule('350', 'PRT', 'ADP', [(Pos([-1]),'VERB'), (Pos([1]),'NOUN')]),\n Rule('342', 'PRT', 'ADP', [(Pos([1]),'NUM')]),\n Rule('351', 'ADP', 'PRON', [(Word([1]),'would')]),\n Rule('351', 'ADP', 'PRON', [(Word([1]),'has')]),\n Rule('351', 'ADP', 'PRT', [(Word([1]),'make')]),\n Rule('359', 'ADP', 'PRT', [(Word([-1]),'``'), (Word([1]),'a')]),\n Rule('342', 'PRT', 'ADP', [(Pos([1]),'PRT')]),\n Rule('350', 'ADV', 'ADJ', [(Pos([-1]),'DET'), (Pos([1]),'NOUN')]),\n Rule('351', 'ADJ', 'ADV', [(Word([1]),'effective')]),\n Rule('351', 'ADP', 'ADV', [(Word([1]),'far')]),\n Rule('351', 'ADP', 'ADV', [(Word([1]),'soon')]),\n Rule('351', 'ADP', 'PRON', [(Word([1]),'are')]),\n Rule('351', 'ADP', 'PRON', [(Word([1]),'will')]),\n Rule('351', 'NOUN', 'ADJ', [(Word([1]),'hand')]),\n Rule('352', 'ADJ', 'NOUN', [(Word([-1]),'attorney')]),\n Rule('352', 'ADP', 'PRT', [(Word([-1]),'bring')]),\n Rule('352', 'ADP', 'PRT', [(Word([-1]),'carry')]),\n Rule('352', 'ADP', 'PRT', [(Word([-1]),'setting')]),\n Rule('352', 'ADP', 'PRT', [(Word([-1]),'take')]),\n Rule('353', 'PRT', 'ADP', [(Word([-2]),'jury')]),\n Rule('355', 'ADP', 'PRT', [(Word([-2, -1]),'turned')]),\n Rule('358', 'ADP', 'PRT', [(Word([1, 2, 3]),'expenses')]),\n Rule('359', 'ADP', 'PRT', [(Word([-1]),'for'), (Word([1]),'its')]),\n Rule('359', 'NOUN', 'ADV', [(Word([-1]),'as'), (Word([1]),'as')]))"
     },
     "execution_count": 240,
     "metadata": {},
     "output_type": "execute_result"
    }
   ],
   "source": [
    "brill1.rules()"
   ],
   "metadata": {
    "collapsed": false,
    "ExecuteTime": {
     "start_time": "2023-04-19T14:48:35.313111Z",
     "end_time": "2023-04-19T14:48:35.323187Z"
    }
   }
  },
  {
   "cell_type": "code",
   "execution_count": 246,
   "outputs": [
    {
     "name": "stdout",
     "output_type": "stream",
     "text": [
      "TEMPLATE STATISTICS (TRAIN)  8 templates, 27 rules)\n",
      "TRAIN (  22079 tokens) initial   333 0.9849 final:   182 0.9918\n",
      "#ID | Score (train) |  #Rules     | Template\n",
      "--------------------------------------------\n",
      "342 |    71   0.470 |   4   0.148 | Template(Pos([1]))\n",
      "350 |    35   0.232 |   3   0.111 | Template(Pos([-1]),Pos([1]))\n",
      "351 |    22   0.146 |   9   0.333 | Template(Word([1]))\n",
      "352 |    10   0.066 |   5   0.185 | Template(Word([-1]))\n",
      "359 |     7   0.046 |   3   0.111 | Template(Word([-1]),Word([1]))\n",
      "358 |     2   0.013 |   1   0.037 | Template(Word([1, 2, 3]))\n",
      "355 |     2   0.013 |   1   0.037 | Template(Word([-2, -1]))\n",
      "353 |     2   0.013 |   1   0.037 | Template(Word([-2]))\n",
      "\n",
      "\n"
     ]
    }
   ],
   "source": [
    "brill1.print_template_statistics(printunused=False)"
   ],
   "metadata": {
    "collapsed": false,
    "ExecuteTime": {
     "start_time": "2023-04-19T14:53:52.998102Z",
     "end_time": "2023-04-19T14:53:53.073683Z"
    }
   }
  },
  {
   "cell_type": "code",
   "execution_count": 256,
   "outputs": [
    {
     "data": {
      "text/plain": "0.6938297111526084"
     },
     "execution_count": 256,
     "metadata": {},
     "output_type": "execute_result"
    }
   ],
   "source": [
    "brill1.accuracy(treebank.tagged_sents(tagset='universal'))"
   ],
   "metadata": {
    "collapsed": false,
    "ExecuteTime": {
     "start_time": "2023-04-19T14:58:52.197565Z",
     "end_time": "2023-04-19T14:58:56.041100Z"
    }
   }
  }
 ],
 "metadata": {
  "kernelspec": {
   "display_name": "Python 3",
   "language": "python",
   "name": "python3"
  },
  "language_info": {
   "codemirror_mode": {
    "name": "ipython",
    "version": 2
   },
   "file_extension": ".py",
   "mimetype": "text/x-python",
   "name": "python",
   "nbconvert_exporter": "python",
   "pygments_lexer": "ipython2",
   "version": "2.7.6"
  }
 },
 "nbformat": 4,
 "nbformat_minor": 0
}
