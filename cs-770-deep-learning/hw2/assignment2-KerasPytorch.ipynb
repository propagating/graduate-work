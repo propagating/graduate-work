{
 "cells": [
  {
   "cell_type": "markdown",
   "id": "50d7e7a8",
   "metadata": {},
   "source": [
    "# Assignment 2: Programming MLPs in Keras and PyTorch\n",
    "\n",
    "We will use the Bank Marketing Data Set from UCI Machine Learning Repository: https://archive.ics.uci.edu/ml/datasets/bank+marketing"
   ]
  },
  {
   "cell_type": "code",
   "execution_count": 2,
   "id": "b764c272",
   "metadata": {},
   "outputs": [
    {
     "ename": "ModuleNotFoundError",
     "evalue": "No module named 'tensorflow'",
     "output_type": "error",
     "traceback": [
      "\u001B[1;31m---------------------------------------------------------------------------\u001B[0m",
      "\u001B[1;31mModuleNotFoundError\u001B[0m                       Traceback (most recent call last)",
      "Cell \u001B[1;32mIn[2], line 10\u001B[0m\n\u001B[0;32m      7\u001B[0m \u001B[38;5;28;01mfrom\u001B[39;00m \u001B[38;5;21;01msklearn\u001B[39;00m\u001B[38;5;21;01m.\u001B[39;00m\u001B[38;5;21;01mmodel_selection\u001B[39;00m \u001B[38;5;28;01mimport\u001B[39;00m train_test_split, StratifiedShuffleSplit\n\u001B[0;32m      9\u001B[0m \u001B[38;5;66;03m# Tensorflow\u001B[39;00m\n\u001B[1;32m---> 10\u001B[0m \u001B[38;5;28;01mimport\u001B[39;00m \u001B[38;5;21;01mtensorflow\u001B[39;00m \u001B[38;5;28;01mas\u001B[39;00m \u001B[38;5;21;01mtf\u001B[39;00m\n\u001B[0;32m     11\u001B[0m \u001B[38;5;28;01mfrom\u001B[39;00m \u001B[38;5;21;01mtensorflow\u001B[39;00m \u001B[38;5;28;01mimport\u001B[39;00m keras\n\u001B[0;32m     12\u001B[0m \u001B[38;5;28;01mfrom\u001B[39;00m \u001B[38;5;21;01mtensorflow\u001B[39;00m\u001B[38;5;21;01m.\u001B[39;00m\u001B[38;5;21;01mkeras\u001B[39;00m \u001B[38;5;28;01mimport\u001B[39;00m layers, regularizers\n",
      "\u001B[1;31mModuleNotFoundError\u001B[0m: No module named 'tensorflow'"
     ]
    }
   ],
   "source": [
    "import pandas as pd\n",
    "import numpy as np\n",
    "import matplotlib.pyplot as plt\n",
    "\n",
    "# sklearn\n",
    "from sklearn import metrics\n",
    "from sklearn.model_selection import train_test_split, StratifiedShuffleSplit\n",
    "\n",
    "# Tensorflow\n",
    "import tensorflow as tf\n",
    "from tensorflow import keras\n",
    "from tensorflow.keras import layers, regularizers\n",
    "from sklearn import preprocessing\n",
    "\n",
    "from keras.models import Sequential\n",
    "from keras.layers import Dense, Dropout, BatchNormalization\n",
    "from keras import optimizers, losses, metrics\n",
    "from keras.callbacks import EarlyStopping\n",
    "from keras.callbacks import ModelCheckpoint\n",
    "from keras.regularizers import L2\n"
   ]
  },
  {
   "cell_type": "markdown",
   "id": "211303f0",
   "metadata": {},
   "source": [
    "## Load the dataset\n",
    "Load the bank-additional dataset: "
   ]
  },
  {
   "cell_type": "code",
   "execution_count": 6,
   "id": "fcd69a6d",
   "metadata": {},
   "outputs": [
    {
     "name": "stdout",
     "output_type": "stream",
     "text": [
      "<class 'pandas.core.frame.DataFrame'>\n",
      "RangeIndex: 41188 entries, 0 to 41187\n",
      "Data columns (total 21 columns):\n",
      " #   Column          Non-Null Count  Dtype  \n",
      "---  ------          --------------  -----  \n",
      " 0   age             41188 non-null  int64  \n",
      " 1   job             41188 non-null  object \n",
      " 2   marital         41188 non-null  object \n",
      " 3   education       41188 non-null  object \n",
      " 4   default         41188 non-null  object \n",
      " 5   housing         41188 non-null  object \n",
      " 6   loan            41188 non-null  object \n",
      " 7   contact         41188 non-null  object \n",
      " 8   month           41188 non-null  object \n",
      " 9   day_of_week     41188 non-null  object \n",
      " 10  duration        41188 non-null  int64  \n",
      " 11  campaign        41188 non-null  int64  \n",
      " 12  pdays           41188 non-null  int64  \n",
      " 13  previous        41188 non-null  int64  \n",
      " 14  poutcome        41188 non-null  object \n",
      " 15  emp.var.rate    41188 non-null  float64\n",
      " 16  cons.price.idx  41188 non-null  float64\n",
      " 17  cons.conf.idx   41188 non-null  float64\n",
      " 18  euribor3m       41188 non-null  float64\n",
      " 19  nr.employed     41188 non-null  float64\n",
      " 20  y               41188 non-null  object \n",
      "dtypes: float64(5), int64(5), object(11)\n",
      "memory usage: 6.6+ MB\n"
     ]
    }
   ],
   "source": [
    "data_path=\"./bank-additional-full.csv\"\n",
    "\n",
    "df = pd.read_csv(data_path, sep=\";\")\n",
    "df.info()"
   ]
  },
  {
   "cell_type": "code",
   "execution_count": 7,
   "id": "702b27f5",
   "metadata": {},
   "outputs": [
    {
     "data": {
      "text/html": [
       "<div>\n",
       "<style scoped>\n",
       "    .dataframe tbody tr th:only-of-type {\n",
       "        vertical-align: middle;\n",
       "    }\n",
       "\n",
       "    .dataframe tbody tr th {\n",
       "        vertical-align: top;\n",
       "    }\n",
       "\n",
       "    .dataframe thead th {\n",
       "        text-align: right;\n",
       "    }\n",
       "</style>\n",
       "<table border=\"1\" class=\"dataframe\">\n",
       "  <thead>\n",
       "    <tr style=\"text-align: right;\">\n",
       "      <th></th>\n",
       "      <th>age</th>\n",
       "      <th>job</th>\n",
       "      <th>marital</th>\n",
       "      <th>education</th>\n",
       "      <th>default</th>\n",
       "      <th>housing</th>\n",
       "      <th>loan</th>\n",
       "      <th>contact</th>\n",
       "      <th>month</th>\n",
       "      <th>day_of_week</th>\n",
       "      <th>...</th>\n",
       "      <th>campaign</th>\n",
       "      <th>pdays</th>\n",
       "      <th>previous</th>\n",
       "      <th>poutcome</th>\n",
       "      <th>emp.var.rate</th>\n",
       "      <th>cons.price.idx</th>\n",
       "      <th>cons.conf.idx</th>\n",
       "      <th>euribor3m</th>\n",
       "      <th>nr.employed</th>\n",
       "      <th>y</th>\n",
       "    </tr>\n",
       "  </thead>\n",
       "  <tbody>\n",
       "    <tr>\n",
       "      <th>0</th>\n",
       "      <td>56</td>\n",
       "      <td>housemaid</td>\n",
       "      <td>married</td>\n",
       "      <td>basic.4y</td>\n",
       "      <td>no</td>\n",
       "      <td>no</td>\n",
       "      <td>no</td>\n",
       "      <td>telephone</td>\n",
       "      <td>may</td>\n",
       "      <td>mon</td>\n",
       "      <td>...</td>\n",
       "      <td>1</td>\n",
       "      <td>999</td>\n",
       "      <td>0</td>\n",
       "      <td>nonexistent</td>\n",
       "      <td>1.1</td>\n",
       "      <td>93.994</td>\n",
       "      <td>-36.4</td>\n",
       "      <td>4.857</td>\n",
       "      <td>5191.0</td>\n",
       "      <td>no</td>\n",
       "    </tr>\n",
       "    <tr>\n",
       "      <th>1</th>\n",
       "      <td>57</td>\n",
       "      <td>services</td>\n",
       "      <td>married</td>\n",
       "      <td>high.school</td>\n",
       "      <td>unknown</td>\n",
       "      <td>no</td>\n",
       "      <td>no</td>\n",
       "      <td>telephone</td>\n",
       "      <td>may</td>\n",
       "      <td>mon</td>\n",
       "      <td>...</td>\n",
       "      <td>1</td>\n",
       "      <td>999</td>\n",
       "      <td>0</td>\n",
       "      <td>nonexistent</td>\n",
       "      <td>1.1</td>\n",
       "      <td>93.994</td>\n",
       "      <td>-36.4</td>\n",
       "      <td>4.857</td>\n",
       "      <td>5191.0</td>\n",
       "      <td>no</td>\n",
       "    </tr>\n",
       "    <tr>\n",
       "      <th>2</th>\n",
       "      <td>37</td>\n",
       "      <td>services</td>\n",
       "      <td>married</td>\n",
       "      <td>high.school</td>\n",
       "      <td>no</td>\n",
       "      <td>yes</td>\n",
       "      <td>no</td>\n",
       "      <td>telephone</td>\n",
       "      <td>may</td>\n",
       "      <td>mon</td>\n",
       "      <td>...</td>\n",
       "      <td>1</td>\n",
       "      <td>999</td>\n",
       "      <td>0</td>\n",
       "      <td>nonexistent</td>\n",
       "      <td>1.1</td>\n",
       "      <td>93.994</td>\n",
       "      <td>-36.4</td>\n",
       "      <td>4.857</td>\n",
       "      <td>5191.0</td>\n",
       "      <td>no</td>\n",
       "    </tr>\n",
       "    <tr>\n",
       "      <th>3</th>\n",
       "      <td>40</td>\n",
       "      <td>admin.</td>\n",
       "      <td>married</td>\n",
       "      <td>basic.6y</td>\n",
       "      <td>no</td>\n",
       "      <td>no</td>\n",
       "      <td>no</td>\n",
       "      <td>telephone</td>\n",
       "      <td>may</td>\n",
       "      <td>mon</td>\n",
       "      <td>...</td>\n",
       "      <td>1</td>\n",
       "      <td>999</td>\n",
       "      <td>0</td>\n",
       "      <td>nonexistent</td>\n",
       "      <td>1.1</td>\n",
       "      <td>93.994</td>\n",
       "      <td>-36.4</td>\n",
       "      <td>4.857</td>\n",
       "      <td>5191.0</td>\n",
       "      <td>no</td>\n",
       "    </tr>\n",
       "    <tr>\n",
       "      <th>4</th>\n",
       "      <td>56</td>\n",
       "      <td>services</td>\n",
       "      <td>married</td>\n",
       "      <td>high.school</td>\n",
       "      <td>no</td>\n",
       "      <td>no</td>\n",
       "      <td>yes</td>\n",
       "      <td>telephone</td>\n",
       "      <td>may</td>\n",
       "      <td>mon</td>\n",
       "      <td>...</td>\n",
       "      <td>1</td>\n",
       "      <td>999</td>\n",
       "      <td>0</td>\n",
       "      <td>nonexistent</td>\n",
       "      <td>1.1</td>\n",
       "      <td>93.994</td>\n",
       "      <td>-36.4</td>\n",
       "      <td>4.857</td>\n",
       "      <td>5191.0</td>\n",
       "      <td>no</td>\n",
       "    </tr>\n",
       "  </tbody>\n",
       "</table>\n",
       "<p>5 rows × 21 columns</p>\n",
       "</div>"
      ],
      "text/plain": [
       "   age        job  marital    education  default housing loan    contact  \\\n",
       "0   56  housemaid  married     basic.4y       no      no   no  telephone   \n",
       "1   57   services  married  high.school  unknown      no   no  telephone   \n",
       "2   37   services  married  high.school       no     yes   no  telephone   \n",
       "3   40     admin.  married     basic.6y       no      no   no  telephone   \n",
       "4   56   services  married  high.school       no      no  yes  telephone   \n",
       "\n",
       "  month day_of_week  ...  campaign  pdays  previous     poutcome emp.var.rate  \\\n",
       "0   may         mon  ...         1    999         0  nonexistent          1.1   \n",
       "1   may         mon  ...         1    999         0  nonexistent          1.1   \n",
       "2   may         mon  ...         1    999         0  nonexistent          1.1   \n",
       "3   may         mon  ...         1    999         0  nonexistent          1.1   \n",
       "4   may         mon  ...         1    999         0  nonexistent          1.1   \n",
       "\n",
       "   cons.price.idx  cons.conf.idx  euribor3m  nr.employed   y  \n",
       "0          93.994          -36.4      4.857       5191.0  no  \n",
       "1          93.994          -36.4      4.857       5191.0  no  \n",
       "2          93.994          -36.4      4.857       5191.0  no  \n",
       "3          93.994          -36.4      4.857       5191.0  no  \n",
       "4          93.994          -36.4      4.857       5191.0  no  \n",
       "\n",
       "[5 rows x 21 columns]"
      ]
     },
     "execution_count": 7,
     "metadata": {},
     "output_type": "execute_result"
    }
   ],
   "source": [
    "df.head()"
   ]
  },
  {
   "cell_type": "code",
   "execution_count": 8,
   "id": "63006c4e",
   "metadata": {},
   "outputs": [
    {
     "data": {
      "text/plain": [
       "(41188, 21)"
      ]
     },
     "execution_count": 8,
     "metadata": {},
     "output_type": "execute_result"
    }
   ],
   "source": [
    "df.shape"
   ]
  },
  {
   "cell_type": "markdown",
   "id": "d32646bc",
   "metadata": {},
   "source": [
    "Does the dataset has imbalance in its label classes?"
   ]
  },
  {
   "cell_type": "code",
   "execution_count": 9,
   "id": "39a7344d",
   "metadata": {},
   "outputs": [
    {
     "data": {
      "text/plain": [
       "no     0.887346\n",
       "yes    0.112654\n",
       "Name: y, dtype: float64"
      ]
     },
     "execution_count": 9,
     "metadata": {},
     "output_type": "execute_result"
    }
   ],
   "source": [
    "df.y.value_counts()/len(df.y)"
   ]
  },
  {
   "cell_type": "markdown",
   "id": "8c85b60f",
   "metadata": {},
   "source": [
    "Let's convert categorical variables to dummy and also seperate the X and y:"
   ]
  },
  {
   "cell_type": "code",
   "execution_count": 10,
   "id": "ca7c401b",
   "metadata": {},
   "outputs": [],
   "source": [
    "X = df.copy()\n",
    "del X['y']\n",
    "X = pd.get_dummies(X, drop_first=True)\n",
    "y = np.where(df.y == \"yes\", 1, 0)"
   ]
  },
  {
   "cell_type": "markdown",
   "id": "fb4f3fb3",
   "metadata": {},
   "source": [
    "## Keras"
   ]
  },
  {
   "cell_type": "markdown",
   "id": "a064414d",
   "metadata": {},
   "source": [
    "Split into 20\\% validation and th rest test:"
   ]
  },
  {
   "cell_type": "code",
   "execution_count": 11,
   "id": "685195aa",
   "metadata": {},
   "outputs": [],
   "source": [
    "X_train, X_test, y_train, y_test = train_test_split(X, y,        \n",
    "                                    test_size = 0.2, random_state = 1)"
   ]
  },
  {
   "cell_type": "markdown",
   "id": "0a5184bc",
   "metadata": {},
   "source": [
    "Standardize the input values using a standard scaler"
   ]
  },
  {
   "cell_type": "code",
   "execution_count": 12,
   "id": "ff83de79",
   "metadata": {},
   "outputs": [],
   "source": [
    "scaler = preprocessing.StandardScaler()\n",
    "X_train_std = scaler.fit_transform(X_train)\n",
    "X_test_std = scaler.transform(X_test)"
   ]
  },
  {
   "cell_type": "markdown",
   "id": "464cd48c",
   "metadata": {},
   "source": [
    "Define a model in Keras with two hidden layers of size 10 and 8 with a ReLU activation function. The output layer will be sigmoid. use adam optimizer and binary_cross entropy with accuracy metrics. Run the training for 10 epochs."
   ]
  },
  {
   "cell_type": "code",
   "execution_count": 13,
   "id": "ee886b2f",
   "metadata": {},
   "outputs": [
    {
     "name": "stdout",
     "output_type": "stream",
     "text": [
      "Epoch 1/10\n"
     ]
    },
    {
     "name": "stderr",
     "output_type": "stream",
     "text": [
      "2023-04-10 05:36:16.824269: W tensorflow/compiler/xla/stream_executor/platform/default/dso_loader.cc:64] Could not load dynamic library 'libcuda.so.1'; dlerror: libcuda.so.1: cannot open shared object file: No such file or directory\n",
      "2023-04-10 05:36:16.824341: W tensorflow/compiler/xla/stream_executor/cuda/cuda_driver.cc:265] failed call to cuInit: UNKNOWN ERROR (303)\n",
      "2023-04-10 05:36:16.824370: I tensorflow/compiler/xla/stream_executor/cuda/cuda_diagnostics.cc:156] kernel driver does not appear to be running on this host (3e130c7f9eda): /proc/driver/nvidia/version does not exist\n",
      "2023-04-10 05:36:16.824600: I tensorflow/core/platform/cpu_feature_guard.cc:193] This TensorFlow binary is optimized with oneAPI Deep Neural Network Library (oneDNN) to use the following CPU instructions in performance-critical operations:  AVX2 FMA\n",
      "To enable them in other operations, rebuild TensorFlow with the appropriate compiler flags.\n"
     ]
    },
    {
     "name": "stdout",
     "output_type": "stream",
     "text": [
      "1648/1648 [==============================] - 5s 2ms/step - loss: 2.6446 - accuracy: 0.8717 - val_loss: 0.3206 - val_accuracy: 0.9006\n",
      "Epoch 2/10\n",
      "1648/1648 [==============================] - 3s 2ms/step - loss: 0.4337 - accuracy: 0.8849 - val_loss: 0.8071 - val_accuracy: 0.7406\n",
      "Epoch 3/10\n",
      "1648/1648 [==============================] - 3s 2ms/step - loss: 0.4075 - accuracy: 0.8847 - val_loss: 0.2308 - val_accuracy: 0.9053\n",
      "Epoch 4/10\n",
      "1648/1648 [==============================] - 3s 2ms/step - loss: 0.4520 - accuracy: 0.8849 - val_loss: 0.3391 - val_accuracy: 0.8926\n",
      "Epoch 5/10\n",
      "1648/1648 [==============================] - 3s 2ms/step - loss: 0.4407 - accuracy: 0.8859 - val_loss: 0.4127 - val_accuracy: 0.9030\n",
      "Epoch 6/10\n",
      "1648/1648 [==============================] - 3s 2ms/step - loss: 0.4226 - accuracy: 0.8877 - val_loss: 0.2929 - val_accuracy: 0.9041\n",
      "Epoch 7/10\n",
      "1648/1648 [==============================] - 3s 2ms/step - loss: 0.3949 - accuracy: 0.8879 - val_loss: 0.2982 - val_accuracy: 0.8909\n",
      "Epoch 8/10\n",
      "1648/1648 [==============================] - 3s 2ms/step - loss: 0.4336 - accuracy: 0.8895 - val_loss: 0.9335 - val_accuracy: 0.7124\n",
      "Epoch 9/10\n",
      "1648/1648 [==============================] - 3s 2ms/step - loss: 0.3869 - accuracy: 0.8895 - val_loss: 0.3250 - val_accuracy: 0.9048\n",
      "Epoch 10/10\n",
      "1648/1648 [==============================] - 3s 2ms/step - loss: 0.3941 - accuracy: 0.8866 - val_loss: 0.4739 - val_accuracy: 0.9001\n"
     ]
    }
   ],
   "source": [
    "batch_size = 20\n",
    "epochs = 10\n",
    "\n",
    "model = Sequential()\n",
    "#CODE HERE\n",
    "# write code to define the model and fit the model\n",
    "model.add(Dense(10, activation='relu', input_shape=(X_train.shape[1],)))\n",
    "model.add(Dense(8, activation='relu'))\n",
    "model.add(Dense(1, activation='sigmoid'))\n",
    "\n",
    "model.compile(loss='binary_crossentropy',\n",
    "              metrics=['accuracy'],\n",
    "              optimizer='adam'\n",
    "              )\n",
    "\n",
    "history = model.fit(X_train, y_train,\n",
    "          batch_size=batch_size,\n",
    "          epochs=epochs,\n",
    "          verbose=1,\n",
    "          validation_data=(X_test, y_test))\n"
   ]
  },
  {
   "cell_type": "code",
   "execution_count": 14,
   "id": "a188ce5d",
   "metadata": {},
   "outputs": [
    {
     "name": "stdout",
     "output_type": "stream",
     "text": [
      "Test loss: 0.5032514929771423\n",
      "Test accuracy: 0.7486040592193604\n"
     ]
    }
   ],
   "source": [
    "score = model.evaluate(X_test_std, y_test, verbose=0)\n",
    "print('Test loss:', score[0])\n",
    "print('Test accuracy:', score[1])"
   ]
  },
  {
   "cell_type": "markdown",
   "id": "4f3d920e",
   "metadata": {},
   "source": [
    "Plot the train and validation over the number of epoch"
   ]
  },
  {
   "cell_type": "code",
   "execution_count": 15,
   "id": "fe64e0de",
   "metadata": {},
   "outputs": [
    {
     "data": {
      "image/png": "[encoded data removed]",
      "text/plain": [
       "<Figure size 640x480 with 1 Axes>"
      ]
     },
     "metadata": {},
     "output_type": "display_data"
    }
   ],
   "source": [
    "plt.plot(history.history['loss'], label=\"train-loss\")\n",
    "plt.plot(history.history['val_loss'], label=\"val-loss\")\n",
    "plt.legend()\n",
    "plt.show()"
   ]
  },
  {
   "cell_type": "markdown",
   "id": "8e664b01",
   "metadata": {},
   "source": [
    "### Regularization\n",
    "Regularize the model above using dropouts(0.2 parameter)and early stopping (patience=2). Train the model and compare the performance."
   ]
  },
  {
   "cell_type": "code",
   "execution_count": 16,
   "id": "b13a9a5a",
   "metadata": {},
   "outputs": [
    {
     "name": "stdout",
     "output_type": "stream",
     "text": [
      "Epoch 1/100\n",
      "1648/1648 [==============================] - 4s 2ms/step - loss: 5.1141 - accuracy: 0.8431 - val_loss: 0.4211 - val_accuracy: 0.8854\n",
      "Epoch 2/100\n",
      "1648/1648 [==============================] - 3s 2ms/step - loss: 0.3803 - accuracy: 0.8833 - val_loss: 0.3638 - val_accuracy: 0.8854\n",
      "Epoch 3/100\n",
      "1648/1648 [==============================] - 3s 2ms/step - loss: 0.3496 - accuracy: 0.8877 - val_loss: 0.3565 - val_accuracy: 0.8854\n",
      "Epoch 4/100\n",
      "1648/1648 [==============================] - 3s 2ms/step - loss: 0.3476 - accuracy: 0.8877 - val_loss: 0.3562 - val_accuracy: 0.8854\n",
      "Epoch 5/100\n",
      "1648/1648 [==============================] - 3s 2ms/step - loss: 0.3426 - accuracy: 0.8870 - val_loss: 0.3480 - val_accuracy: 0.8854\n",
      "Epoch 6/100\n",
      "1648/1648 [==============================] - 3s 2ms/step - loss: 0.3271 - accuracy: 0.8880 - val_loss: 0.3356 - val_accuracy: 0.8854\n",
      "Epoch 7/100\n",
      "1648/1648 [==============================] - 3s 2ms/step - loss: 0.3228 - accuracy: 0.8907 - val_loss: 0.3299 - val_accuracy: 0.8854\n",
      "Epoch 8/100\n",
      "1648/1648 [==============================] - 3s 2ms/step - loss: 0.3177 - accuracy: 0.8948 - val_loss: 0.2831 - val_accuracy: 0.8863\n",
      "Epoch 9/100\n",
      "1648/1648 [==============================] - 4s 2ms/step - loss: 0.2720 - accuracy: 0.8974 - val_loss: 0.2460 - val_accuracy: 0.8889\n",
      "Epoch 10/100\n",
      "1648/1648 [==============================] - 4s 2ms/step - loss: 0.2578 - accuracy: 0.8967 - val_loss: 0.2204 - val_accuracy: 0.9043\n",
      "Epoch 11/100\n",
      "1648/1648 [==============================] - 3s 2ms/step - loss: 0.2461 - accuracy: 0.8988 - val_loss: 0.2185 - val_accuracy: 0.9011\n",
      "Epoch 12/100\n",
      "1648/1648 [==============================] - 4s 3ms/step - loss: 0.2429 - accuracy: 0.8991 - val_loss: 0.2188 - val_accuracy: 0.9036\n",
      "Epoch 13/100\n",
      "1648/1648 [==============================] - 4s 2ms/step - loss: 0.2434 - accuracy: 0.8987 - val_loss: 0.2490 - val_accuracy: 0.9001\n"
     ]
    }
   ],
   "source": [
    "batch_size = 20\n",
    "epochs = 100\n",
    "\n",
    "model = Sequential()\n",
    "# add early stopping and dropouts to your previous model code\n",
    "model.add(Dense(10, activation='relu', input_shape=(X_train.shape[1],)))\n",
    "model.add(Dropout(rate=0.2))\n",
    "model.add(Dense(8, activation='relu'))\n",
    "model.add(Dropout(rate=0.2))\n",
    "model.add(Dense(1, activation='sigmoid'))\n",
    "\n",
    "model.compile(loss='binary_crossentropy',\n",
    "              metrics=['accuracy'],\n",
    "              optimizer='adam'\n",
    "              )\n",
    "\n",
    "# define the early stopping callback\n",
    "early_stop = EarlyStopping(monitor='val_loss', patience=2)\n",
    "\n",
    "# train the model with dropout and early stopping\n",
    "history = model.fit(X_train, y_train,\n",
    "          batch_size=batch_size,\n",
    "          epochs=epochs,\n",
    "          verbose=1,\n",
    "          validation_data=(X_test, y_test),\n",
    "          callbacks=[early_stop])"
   ]
  },
  {
   "cell_type": "code",
   "execution_count": 17,
   "id": "398dd534",
   "metadata": {},
   "outputs": [
    {
     "name": "stdout",
     "output_type": "stream",
     "text": [
      "Test loss: 0.36135053634643555\n",
      "Test accuracy: 0.8824957609176636\n"
     ]
    }
   ],
   "source": [
    "score = model.evaluate(X_test_std, y_test, verbose=0)\n",
    "print('Test loss:', score[0])\n",
    "print('Test accuracy:', score[1])"
   ]
  },
  {
   "cell_type": "code",
   "execution_count": 18,
   "id": "4306d338",
   "metadata": {},
   "outputs": [
    {
     "data": {
      "image/png": "[encoded data removed]",
      "text/plain": [
       "<Figure size 640x480 with 1 Axes>"
      ]
     },
     "metadata": {},
     "output_type": "display_data"
    }
   ],
   "source": [
    "plt.plot(history.history['loss'], label=\"train-loss\")\n",
    "plt.plot(history.history['val_loss'], label=\"val-loss\")\n",
    "plt.legend()\n",
    "plt.show()"
   ]
  },
  {
   "cell_type": "markdown",
   "id": "9b565d17",
   "metadata": {},
   "source": [
    "Now, Regularize the model using early-stopping and kernel and bias regularizers (L2). Train the model and compare the performance."
   ]
  },
  {
   "cell_type": "code",
   "execution_count": 19,
   "id": "21f3f459",
   "metadata": {},
   "outputs": [
    {
     "name": "stdout",
     "output_type": "stream",
     "text": [
      "Epoch 1/100\n",
      "1648/1648 [==============================] - 4s 2ms/step - loss: 7.6642 - accuracy: 0.8556 - val_loss: 0.5078 - val_accuracy: 0.8854\n",
      "Epoch 2/100\n",
      "1648/1648 [==============================] - 3s 2ms/step - loss: 0.5365 - accuracy: 0.8871 - val_loss: 0.4530 - val_accuracy: 0.8854\n",
      "Epoch 3/100\n",
      "1648/1648 [==============================] - 3s 2ms/step - loss: 0.4444 - accuracy: 0.8877 - val_loss: 0.4293 - val_accuracy: 0.8854\n",
      "Epoch 4/100\n",
      "1648/1648 [==============================] - 3s 2ms/step - loss: 0.4117 - accuracy: 0.8879 - val_loss: 0.4037 - val_accuracy: 0.8854\n",
      "Epoch 5/100\n",
      "1648/1648 [==============================] - 3s 2ms/step - loss: 0.3862 - accuracy: 0.8880 - val_loss: 0.3797 - val_accuracy: 0.8854\n",
      "Epoch 6/100\n",
      "1648/1648 [==============================] - 3s 2ms/step - loss: 0.3656 - accuracy: 0.8881 - val_loss: 0.3642 - val_accuracy: 0.8854\n",
      "Epoch 7/100\n",
      "1648/1648 [==============================] - 3s 2ms/step - loss: 0.3560 - accuracy: 0.8878 - val_loss: 0.3581 - val_accuracy: 0.8854\n",
      "Epoch 8/100\n",
      "1648/1648 [==============================] - 4s 2ms/step - loss: 0.3519 - accuracy: 0.8878 - val_loss: 0.3568 - val_accuracy: 0.8854\n",
      "Epoch 9/100\n",
      "1648/1648 [==============================] - 3s 2ms/step - loss: 0.3355 - accuracy: 0.8919 - val_loss: 0.3005 - val_accuracy: 0.8883\n",
      "Epoch 10/100\n",
      "1648/1648 [==============================] - 3s 2ms/step - loss: 0.3078 - accuracy: 0.8970 - val_loss: 0.2834 - val_accuracy: 0.8935\n",
      "Epoch 11/100\n",
      "1648/1648 [==============================] - 3s 2ms/step - loss: 0.3070 - accuracy: 0.8977 - val_loss: 0.2913 - val_accuracy: 0.8878\n",
      "Epoch 12/100\n",
      "1648/1648 [==============================] - 3s 2ms/step - loss: 0.3083 - accuracy: 0.8970 - val_loss: 0.2893 - val_accuracy: 0.8886\n"
     ]
    }
   ],
   "source": [
    "batch_size = 20\n",
    "epochs = 100\n",
    "\n",
    "model_l2 = Sequential()\n",
    "# add early stopping and dropouts to your previous model code\n",
    "model_l2.add(Dense(10, activation='relu', input_shape=(X_train.shape[1],),\n",
    "          kernel_regularizer=regularizers.l2(0.02), bias_regularizer=regularizers.l2(0.2)))\n",
    "model_l2.add(Dropout(rate=0.2))\n",
    "model_l2.add(Dense(8, activation='relu',\n",
    "          kernel_regularizer=regularizers.l2(0.02), bias_regularizer=regularizers.l2(0.2)))\n",
    "model_l2.add(Dropout(rate=0.2))\n",
    "model_l2.add(Dense(1, activation='sigmoid'))\n",
    "\n",
    "model_l2.compile(loss='binary_crossentropy',\n",
    "              metrics=['accuracy'],\n",
    "              optimizer='adam'\n",
    "              )\n",
    "\n",
    "# define the early stopping callback\n",
    "early_stop = EarlyStopping(monitor='val_loss', patience=2)\n",
    "\n",
    "# train the model with dropout and early stopping\n",
    "history_l2 = model_l2.fit(X_train, y_train,\n",
    "          batch_size=batch_size,\n",
    "          epochs=epochs,\n",
    "          verbose=1,\n",
    "          validation_data=(X_test, y_test),\n",
    "          callbacks=[early_stop])"
   ]
  },
  {
   "cell_type": "code",
   "execution_count": 20,
   "id": "538fe08d",
   "metadata": {},
   "outputs": [
    {
     "name": "stdout",
     "output_type": "stream",
     "text": [
      "Test loss: 0.36481648683547974\n",
      "Test accuracy: 0.8854090571403503\n"
     ]
    }
   ],
   "source": [
    "score_l2 = model_l2.evaluate(X_test_std, y_test, verbose=0)\n",
    "print('Test loss:', score_l2[0])\n",
    "print('Test accuracy:', score_l2[1])"
   ]
  },
  {
   "cell_type": "code",
   "execution_count": 21,
   "id": "3ae6a178",
   "metadata": {},
   "outputs": [
    {
     "data": {
      "image/png": "[encoded data removed]",
      "text/plain": [
       "<Figure size 640x480 with 1 Axes>"
      ]
     },
     "metadata": {},
     "output_type": "display_data"
    }
   ],
   "source": [
    "plt.plot(history_l2.history['loss'], label=\"train-loss\")\n",
    "plt.plot(history_l2.history['val_loss'], label=\"val-loss\")\n",
    "plt.legend()\n",
    "plt.show()"
   ]
  },
  {
   "cell_type": "code",
   "execution_count": 22,
   "id": "d2dc49b4",
   "metadata": {},
   "outputs": [
    {
     "name": "stdout",
     "output_type": "stream",
     "text": [
      "Without l2 regularization the score is [0.36135053634643555, 0.8824957609176636]\n",
      "by adding l2 regularization we get a score of [0.36481648683547974, 0.8854090571403503]\n",
      "Test Lost improves 0.0034659504890441895\n",
      "Test Accuracy improves 0.0029132962226867676\n"
     ]
    }
   ],
   "source": [
    "print(f\"Without l2 regularization the score is {score}\")\n",
    "print(f\"by adding l2 regularization we get a score of {score_l2}\")\n",
    "print(f\"Test Lost improves {score_l2[0] -  score[0]}\")\n",
    "print(f\"Test Accuracy improves {score_l2[1] -  score[1]}\")"
   ]
  },
  {
   "cell_type": "markdown",
   "id": "0a88cdb3",
   "metadata": {},
   "source": [
    "### Batch Normalization\n",
    "Batch normalization standardize the inputs to a layer in a deep learning neural network. It helps accelerating the training process and might even improve the performance of the model via a regularization effect. \n",
    "Add Batch Normalizations to the original network and train the model and compare the performance."
   ]
  },
  {
   "cell_type": "code",
   "execution_count": 23,
   "id": "e8f0a22a",
   "metadata": {},
   "outputs": [
    {
     "name": "stdout",
     "output_type": "stream",
     "text": [
      "Epoch 1/10\n",
      "1648/1648 [==============================] - 5s 3ms/step - loss: 0.2925 - accuracy: 0.8865 - val_loss: 0.2825 - val_accuracy: 0.8929\n",
      "Epoch 2/10\n",
      "1648/1648 [==============================] - 4s 2ms/step - loss: 0.2159 - accuracy: 0.9047 - val_loss: 0.2505 - val_accuracy: 0.8979\n",
      "Epoch 3/10\n",
      "1648/1648 [==============================] - 4s 2ms/step - loss: 0.2125 - accuracy: 0.9042 - val_loss: 0.3888 - val_accuracy: 0.8865\n",
      "Epoch 4/10\n",
      "1648/1648 [==============================] - 4s 2ms/step - loss: 0.2088 - accuracy: 0.9040 - val_loss: 0.2328 - val_accuracy: 0.8975\n",
      "Epoch 5/10\n",
      "1648/1648 [==============================] - 4s 2ms/step - loss: 0.2044 - accuracy: 0.9051 - val_loss: 1.0971 - val_accuracy: 0.8858\n",
      "Epoch 6/10\n",
      "1648/1648 [==============================] - 4s 2ms/step - loss: 0.2039 - accuracy: 0.9054 - val_loss: 0.2190 - val_accuracy: 0.9098\n",
      "Epoch 7/10\n",
      "1648/1648 [==============================] - 4s 2ms/step - loss: 0.2037 - accuracy: 0.9059 - val_loss: 0.2822 - val_accuracy: 0.8921\n",
      "Epoch 8/10\n",
      "1648/1648 [==============================] - 4s 2ms/step - loss: 0.2012 - accuracy: 0.9075 - val_loss: 0.2118 - val_accuracy: 0.9057\n",
      "Epoch 9/10\n",
      "1648/1648 [==============================] - 4s 2ms/step - loss: 0.2012 - accuracy: 0.9061 - val_loss: 0.2177 - val_accuracy: 0.9097\n",
      "Epoch 10/10\n",
      "1648/1648 [==============================] - 4s 2ms/step - loss: 0.2000 - accuracy: 0.9041 - val_loss: 0.5250 - val_accuracy: 0.8927\n"
     ]
    }
   ],
   "source": [
    "batch_size = 20\n",
    "epochs = 10\n",
    "\n",
    "model_batch_regular = Sequential()\n",
    "#CODE HERE\n",
    "# write code to define the model and fit the model\n",
    "model_batch_regular.add(Dense(10, activation='relu', input_shape=(X_train.shape[1],)))\n",
    "model_batch_regular.add(BatchNormalization())\n",
    "model_batch_regular.add(Dense(8, activation='relu'))\n",
    "model_batch_regular.add(BatchNormalization())\n",
    "model_batch_regular.add(Dense(1, activation='sigmoid'))\n",
    "\n",
    "model_batch_regular.compile(loss='binary_crossentropy',\n",
    "                            metrics=['accuracy'],\n",
    "                            optimizer='adam'\n",
    "                            )\n",
    "\n",
    "history_batch_regular = model_batch_regular.fit(X_train, y_train,\n",
    "                                                batch_size=batch_size,\n",
    "                                                epochs=epochs,\n",
    "                                                verbose=1,\n",
    "                                                validation_data=(X_test, y_test))\n"
   ]
  },
  {
   "cell_type": "code",
   "execution_count": 24,
   "id": "0efee97e",
   "metadata": {},
   "outputs": [
    {
     "name": "stdout",
     "output_type": "stream",
     "text": [
      "Test loss: 31.50300407409668\n",
      "Test accuracy: 0.18001942336559296\n"
     ]
    },
    {
     "data": {
      "image/png": "[encoded data removed]",
      "text/plain": [
       "<Figure size 640x480 with 1 Axes>"
      ]
     },
     "metadata": {},
     "output_type": "display_data"
    },
    {
     "name": "stdout",
     "output_type": "stream",
     "text": [
      "Without batch regularization the score is [0.36135053634643555, 0.8824957609176636]\n",
      "by adding batch regularization we get a score of [31.50300407409668, 0.18001942336559296]\n",
      "Test Lost improves 31.141653537750244\n",
      "Test Accuracy improves -0.7024763375520706\n"
     ]
    }
   ],
   "source": [
    "score_batch_regular = model_batch_regular.evaluate(X_test_std, y_test, verbose=0)\n",
    "print('Test loss:', score_batch_regular[0])\n",
    "print('Test accuracy:', score_batch_regular[1])\n",
    "plt.plot(history_batch_regular.history['loss'], label=\"train-loss\")\n",
    "plt.plot(history_batch_regular.history['val_loss'], label=\"val-loss\")\n",
    "plt.legend()\n",
    "plt.show()\n",
    "print(f\"Without batch regularization the score is {score}\")\n",
    "print(f\"by adding batch regularization we get a score of {score_batch_regular}\")\n",
    "print(f\"Test Lost improves {score_batch_regular[0] -  score[0]}\")\n",
    "print(f\"Test Accuracy improves {score_batch_regular[1] -  score[1]}\")"
   ]
  },
  {
   "cell_type": "markdown",
   "id": "b2c4bc8d",
   "metadata": {},
   "source": [
    "## PyTorch\n",
    "Create the same original model that you developed in Keras using PyTorch this time:"
   ]
  },
  {
   "cell_type": "code",
   "execution_count": 25,
   "id": "d6812e74",
   "metadata": {
    "id": "TnIbNB-1c_JB"
   },
   "outputs": [
    {
     "name": "stderr",
     "output_type": "stream",
     "text": [
      "/usr/local/lib/python3.10/site-packages/tqdm/auto.py:22: TqdmWarning: IProgress not found. Please update jupyter and ipywidgets. See https://ipywidgets.readthedocs.io/en/stable/user_install.html\n",
      "  from .autonotebook import tqdm as notebook_tqdm\n"
     ]
    }
   ],
   "source": [
    "import torch\n",
    "from torch import nn\n",
    "from torch.utils.data import DataLoader\n",
    "from torch.utils.data import random_split\n",
    "from torch.optim import SGD\n",
    "from torch.nn import BCELoss\n",
    "from torch.utils.data import Dataset\n",
    "from torch.utils.data import DataLoader\n",
    "from torch.utils.data import random_split\n",
    "from numpy import vstack\n",
    "from sklearn.metrics import accuracy_score"
   ]
  },
  {
   "cell_type": "code",
   "execution_count": 26,
   "id": "6ebba3d2",
   "metadata": {
    "id": "iZqBO74dAN_X"
   },
   "outputs": [],
   "source": [
    "scaler = preprocessing.StandardScaler()\n",
    "X_std = scaler.fit_transform(X)"
   ]
  },
  {
   "cell_type": "code",
   "execution_count": 27,
   "id": "f8bd99fa",
   "metadata": {},
   "outputs": [],
   "source": [
    "X_tensor = torch.Tensor(X_std.astype('float32'))\n",
    "y_tensor = torch.Tensor(y.astype('float32'))"
   ]
  },
  {
   "cell_type": "code",
   "execution_count": 28,
   "id": "3ca084db",
   "metadata": {
    "id": "bx6odlvxdBZi"
   },
   "outputs": [],
   "source": [
    "class MyDataset(Dataset):\n",
    "    def __init__(self, X,y):\n",
    "        self.X = X\n",
    "        self.y = y\n",
    " \n",
    "    def __len__(self):\n",
    "        return len(self.X)\n",
    " \n",
    "    def __getitem__(self, idx):\n",
    "        return (self.X[idx], self.y[idx])"
   ]
  },
  {
   "cell_type": "code",
   "execution_count": 29,
   "id": "2e54665b",
   "metadata": {
    "id": "dbp29r9XdEfM"
   },
   "outputs": [],
   "source": [
    "test_size = round(0.2 * len(df))\n",
    "train_size = len(df) - test_size     \n",
    "train,test=random_split(MyDataset(X_tensor,y_tensor),[train_size, test_size])"
   ]
  },
  {
   "cell_type": "code",
   "execution_count": 30,
   "id": "7e19f25d",
   "metadata": {
    "id": "UfLmMGMDdGVe"
   },
   "outputs": [],
   "source": [
    "train_dl = DataLoader(train, batch_size=20, shuffle=True)\n",
    "test_dl = DataLoader(test, batch_size=100, shuffle=False)"
   ]
  },
  {
   "cell_type": "code",
   "execution_count": 31,
   "id": "4d512cc8",
   "metadata": {
    "colab": {
     "base_uri": "https://localhost:8080/"
    },
    "id": "UY3uxNlFdgUu",
    "outputId": "d885e132-ab28-42d8-99a5-f0f0ed5dd0a4"
   },
   "outputs": [
    {
     "data": {
      "text/plain": [
       "torch.Size([41188, 53])"
      ]
     },
     "execution_count": 31,
     "metadata": {},
     "output_type": "execute_result"
    }
   ],
   "source": [
    "X_tensor.shape"
   ]
  },
  {
   "cell_type": "code",
   "execution_count": 32,
   "id": "deed2d0d",
   "metadata": {
    "colab": {
     "base_uri": "https://localhost:8080/"
    },
    "id": "OMyYGDcqexKP",
    "outputId": "5cb11ec5-6e9d-4c37-f7dd-70352cb3a64f"
   },
   "outputs": [
    {
     "data": {
      "text/plain": [
       "torch.Size([41188])"
      ]
     },
     "execution_count": 32,
     "metadata": {},
     "output_type": "execute_result"
    }
   ],
   "source": [
    "y_tensor.shape"
   ]
  },
  {
   "cell_type": "code",
   "execution_count": 33,
   "id": "0a59e9cf",
   "metadata": {
    "colab": {
     "base_uri": "https://localhost:8080/"
    },
    "id": "lIcecTMDi4y6",
    "outputId": "29cffa7b-643d-433a-d753-d72aa0429a1c"
   },
   "outputs": [
    {
     "data": {
      "text/plain": [
       "32950"
      ]
     },
     "execution_count": 33,
     "metadata": {},
     "output_type": "execute_result"
    }
   ],
   "source": [
    "len(train)"
   ]
  },
  {
   "cell_type": "code",
   "execution_count": 34,
   "id": "c90254f4",
   "metadata": {
    "id": "E_ccn7b4dICJ"
   },
   "outputs": [],
   "source": [
    "class bank_marketing_MLP(nn.Module): \n",
    "\n",
    "   def __init__(self): \n",
    "      super(bank_marketing_MLP, self).__init__()\n",
    "      self.fc1 = nn.Linear(53, 10)\n",
    "      self.fc2 = nn.Linear(10, 8)\n",
    "      self.fc3 = nn.Linear(8, 1)\n",
    "      self.relu = nn.ReLU()\n",
    "      self.sigmoid = nn.Sigmoid()\n",
    "\n",
    "\n",
    "   def forward(self, x):\n",
    "      x = self.fc1(x)\n",
    "      x = self.relu(x)\n",
    "      x = self.fc2(x)\n",
    "      x = self.relu(x)\n",
    "      x = self.fc3(x)\n",
    "      x = self.sigmoid(x)\n",
    "      return x\n"
   ]
  },
  {
   "cell_type": "code",
   "execution_count": 35,
   "id": "22887f1a",
   "metadata": {
    "id": "JYvG-jfLdKEO"
   },
   "outputs": [],
   "source": [
    "def train_model(train_dl, model):\n",
    "    # define the optimization and loss\n",
    "    criterion = BCELoss()\n",
    "    optimizer = SGD(model.parameters(), lr=0.01, momentum=0.9)\n",
    "\n",
    "    for epoch in range(15):\n",
    "        # enumerate mini batches\n",
    "        for i, (inputs, targets) in enumerate(train_dl):\n",
    "            # clear the gradients\n",
    "            optimizer.zero_grad()\n",
    "            \n",
    "            # compute the model predictions\n",
    "            outputs = model(inputs)\n",
    "            \n",
    "            # calculate the loss\n",
    "            loss = criterion(outputs, targets.unsqueeze(1))\n",
    "            \n",
    "            # credit assignment\n",
    "            loss.backward()\n",
    "            \n",
    "            # update model weights\n",
    "            optimizer.step()\n",
    "        print(f'epoch {epoch} loss {loss}')\n",
    "\n"
   ]
  },
  {
   "cell_type": "code",
   "execution_count": 36,
   "id": "3aeccbb7",
   "metadata": {
    "colab": {
     "base_uri": "https://localhost:8080/"
    },
    "id": "B_VJ15L-dPRB",
    "outputId": "f1e23ca9-142e-4ea4-8bbf-f8ab13089692"
   },
   "outputs": [
    {
     "name": "stdout",
     "output_type": "stream",
     "text": [
      "epoch 0 loss 0.571310818195343\n",
      "epoch 1 loss 0.15095874667167664\n",
      "epoch 2 loss 0.07455188035964966\n",
      "epoch 3 loss 0.05583879351615906\n",
      "epoch 4 loss 0.30494171380996704\n",
      "epoch 5 loss 0.13488610088825226\n",
      "epoch 6 loss 0.08476319164037704\n",
      "epoch 7 loss 0.09272108972072601\n",
      "epoch 8 loss 0.17622879147529602\n",
      "epoch 9 loss 0.20769202709197998\n",
      "epoch 10 loss 0.0012301490642130375\n",
      "epoch 11 loss 0.4996981620788574\n",
      "epoch 12 loss 0.12232308089733124\n",
      "epoch 13 loss 0.09244941174983978\n",
      "epoch 14 loss 0.030538782477378845\n"
     ]
    }
   ],
   "source": [
    "model = bank_marketing_MLP()\n",
    "train_model(train_dl, model)"
   ]
  },
  {
   "cell_type": "code",
   "execution_count": 37,
   "id": "f9dca445",
   "metadata": {
    "id": "SWoscMQ0dMN1"
   },
   "outputs": [],
   "source": [
    "def evaluate_model(test_dl, model):\n",
    "    predictions, actuals = list(), list()\n",
    "    for i, (inputs, targets) in enumerate(test_dl):\n",
    "        yhat = model(inputs)\n",
    "        yhat = yhat.detach().numpy()\n",
    "        actual = targets.numpy()\n",
    "        actual = actual.reshape((len(actual), 1))\n",
    "        # round to class values\n",
    "        yhat = yhat.round()\n",
    "        predictions.append(yhat)\n",
    "        actuals.append(actual)\n",
    "    predictions, actuals = vstack(predictions), vstack(actuals)\n",
    "    # calculate accuracy\n",
    "    acc = accuracy_score(actuals, predictions)\n",
    "    return acc"
   ]
  },
  {
   "cell_type": "code",
   "execution_count": 38,
   "id": "b37e3db3",
   "metadata": {
    "colab": {
     "base_uri": "https://localhost:8080/"
    },
    "id": "SnKsijshdTJ4",
    "outputId": "40a80887-7c0d-4771-92fa-8560a73cc89f"
   },
   "outputs": [
    {
     "name": "stdout",
     "output_type": "stream",
     "text": [
      "Accuracy: 0.911\n"
     ]
    }
   ],
   "source": [
    "acc = evaluate_model(test_dl, model)\n",
    "print('Accuracy: %.3f' % acc)\n"
   ]
  },
  {
   "cell_type": "code",
   "execution_count": 39,
   "id": "5eec2488",
   "metadata": {
    "id": "hbgah7YadNxV"
   },
   "outputs": [],
   "source": [
    "def predict(row, model):\n",
    "    row = torch.Tensor([row])\n",
    "    yhat = model(row)\n",
    "    yhat = yhat.detach().numpy()\n",
    "    return yhat"
   ]
  },
  {
   "cell_type": "markdown",
   "id": "b5095543",
   "metadata": {},
   "source": [
    "## Hyper Parameter Tunning (optional bonus points)\n",
    "\n",
    "Find the optimal parameter for the following range of values:\n",
    "- Number of units at hidden layers=[10,8,6,1], [20,16,12,1],[40,32,24,1]\n",
    "- Number of hidden layers=[1,2,3]\n",
    "- Batch size=[20,50,100]\n",
    "- with/without Batch normalization\n",
    "- Activation functions=[Relu,tanh,sigmoid, softplus]\n",
    "- optimizers=[SGD,RMSprop,Adam]\n",
    "- Learning rate=[0.01,0.05,0.1]\n",
    "- With or without ExponentialDecay learning rate scheduler\n",
    "\n",
    "What is the validation accuracy of the optimal model?"
   ]
  },
  {
   "cell_type": "code",
   "execution_count": 40,
   "id": "769a22f5",
   "metadata": {},
   "outputs": [],
   "source": [
    "import itertools\n",
    "from typing import List\n",
    "from torch.optim import RMSprop, Adam, lr_scheduler"
   ]
  },
  {
   "cell_type": "code",
   "execution_count": 41,
   "id": "0f28b49e",
   "metadata": {},
   "outputs": [],
   "source": [
    "class bank_marketing_MLP(nn.Module): \n",
    "\n",
    "   def __init__(self, input_size: int, hidden_units: List[int],\n",
    "                      num_hidden_layers: int, activation: str,\n",
    "                      batch_norm: bool):\n",
    "      \"\"\"\n",
    "      improved version for grid search\n",
    "\n",
    "      :param input_size: The number of input features.\n",
    "      :param hidden_units: The number of units in each hidden layer.\n",
    "      :param num_hidden_layers: The number of hidden layers in the model.\n",
    "      :param activation: string corresponding to The activation function to use between layers.\n",
    "      :param batch_norm: Whether or not to use batch normalization between layers.\n",
    "      \"\"\"\n",
    "      super(bank_marketing_MLP, self).__init__()\n",
    "\n",
    "      self.input_size = input_size\n",
    "      self.hidden_units = hidden_units\n",
    "      self.num_hidden_layers = num_hidden_layers\n",
    "      self.batch_norm = batch_norm\n",
    "      self.activation = activation\n",
    "\n",
    "      self.layers = nn.ModuleList()\n",
    "      self.layers.append(nn.Linear(input_size, self.hidden_units[0]))\n",
    "      \n",
    "      # check to see if batch norm is used\n",
    "      if self.batch_norm:\n",
    "         self.layers.append(nn.BatchNorm1d(self.hidden_units[0]))\n",
    "      self.layers.append(self.activation())\n",
    "\n",
    "      for i in range(self.num_hidden_layers - 1): # -1 since we already have one hidden layer\n",
    "         self.layers.append(nn.Linear(self.hidden_units[i], self.hidden_units[i+1]))\n",
    "         if self.batch_norm:\n",
    "            self.layers.append(nn.BatchNorm1d(self.hidden_units[i]))\n",
    "         self.layers.append(self.activation())\n",
    "\n",
    "      self.layers.append(nn.Linear(self.hidden_units[self.num_hidden_layers-1], 1))\n",
    "      self.layers.append(nn.Sigmoid())\n",
    "\n",
    "   def forward(self, x):\n",
    "      for layer in self.layers:\n",
    "         x = layer(x)\n",
    "      return x"
   ]
  },
  {
   "cell_type": "code",
   "execution_count": 42,
   "id": "30210736",
   "metadata": {},
   "outputs": [],
   "source": [
    "def get_data_loaders(train_df, test_df, batch_size):\n",
    "    train_dl = DataLoader(train_df, batch_size=batch_size, shuffle=True)\n",
    "    test_dl = DataLoader(test_df, batch_size=100, shuffle=False)\n",
    "    return train_dl, test_dl"
   ]
  },
  {
   "cell_type": "code",
   "execution_count": 43,
   "id": "ed82a74e",
   "metadata": {},
   "outputs": [],
   "source": [
    "# setup inital values for grid search\n",
    "hidden_units_list = [[10, 8, 6, 1], [20, 16, 12, 1], [40, 32, 24, 1]]\n",
    "num_hidden_layers_list = [1, 2, 3]\n",
    "batch_size_list = [20, 50, 100]\n",
    "use_bn_list = [True, False]\n",
    "activation_list = [nn.ReLU, nn.Tanh, nn.Sigmoid, nn.Softplus]\n",
    "optimizer_list = [SGD, RMSprop, Adam]\n",
    "learning_rate_list = [0.01, 0.05, 0.1]\n",
    "use_lr_scheduler_list = [True, False]\n",
    "\n",
    "best_hidden_units = None\n",
    "best_hidden_layers = None\n",
    "best_batch_size = None\n",
    "best_batch_norm = None\n",
    "best_activation = None\n",
    "best_optimizer = None\n",
    "best_learning_rate = None\n",
    "best_scheduler = None\n",
    "best_val_acc = 0.0"
   ]
  },
  {
   "cell_type": "code",
   "execution_count": 44,
   "id": "a0be2611",
   "metadata": {},
   "outputs": [],
   "source": [
    "def train_model(model, train_loader, test_loader, \n",
    "                criterion, optimizer, scheduler):\n",
    "    for epoch in range(15):\n",
    "        # enumerate mini batches\n",
    "        for i, (inputs, targets) in enumerate(train_loader):\n",
    "            # clear the gradients\n",
    "            optimizer.zero_grad()\n",
    "            \n",
    "            # compute the model predictions\n",
    "            outputs = model(inputs)\n",
    "            \n",
    "            # calculate the loss\n",
    "            loss = criterion(outputs, targets.unsqueeze(1))\n",
    "            \n",
    "            # credit assignment\n",
    "            loss.backward()\n",
    "            \n",
    "            # update model weights\n",
    "            optimizer.step()\n",
    "            if scheduler is not None:\n",
    "                scheduler.step()\n",
    "\n",
    "    acc = evaluate_model(test_loader, model)\n",
    "    return acc\n"
   ]
  },
  {
   "cell_type": "code",
   "execution_count": 48,
   "id": "1c0981ac",
   "metadata": {},
   "outputs": [
    {
     "name": "stdout",
     "output_type": "stream",
     "text": [
      "SGD (\n",
      "Parameter Group 0\n",
      "    dampening: 0\n",
      "    differentiable: False\n",
      "    foreach: None\n",
      "    initial_lr: 0.01\n",
      "    lr: 0.0\n",
      "    maximize: False\n",
      "    momentum: 0\n",
      "    nesterov: False\n",
      "    weight_decay: 0\n",
      ")\n",
      "Best hidden units = [10, 8, 6, 1]\n",
      "Best hidden layers = 1\n",
      "best_batch_size = 20\n",
      "best_batch_size = True\n",
      "best_batch_size = <class 'torch.nn.modules.activation.ReLU'>\n",
      "best_batch_size = SGD\n",
      "best_batch_size = 0.01\n",
      "best_batch_size = True\n",
      "best_batch_size = 0.1389900461277009\n"
     ]
    }
   ],
   "source": [
    "for params in itertools.product(hidden_units_list, num_hidden_layers_list, batch_size_list, \n",
    "                                use_bn_list, activation_list, optimizer_list, learning_rate_list,\n",
    "                                use_lr_scheduler_list):\n",
    "    hidden_units, num_hidden_layers, batch_size, use_bn, activation, optimizer, learning_rate, use_lr_scheduler = params\n",
    "    \n",
    "    # defines the model using new model defs\n",
    "    model = bank_marketing_MLP(53, hidden_units, num_hidden_layers, activation, use_bn)\n",
    "    \n",
    "    # loss functiona nd opemizer is defined\n",
    "    criterion = nn.BCELoss()\n",
    "    optimizer = optimizer(model.parameters(), lr = learning_rate)\n",
    "\n",
    "    # need new data loaders\n",
    "    \n",
    "    train_loader, test_loader = get_data_loaders(train, test, batch_size)\n",
    "    if use_lr_scheduler:\n",
    "        scheduler = lr_scheduler.ExponentialLR(optimizer, gamma = 0.1)\n",
    "    else:\n",
    "        scheduler = None\n",
    "    value_accuracy = train_model(model, train_loader, test_loader, criterion, optimizer, scheduler)\n",
    "    if value_accuracy > best_val_acc:\n",
    "        best_hidden_units = hidden_units\n",
    "        best_hidden_layers = num_hidden_layers\n",
    "        best_batch_size = batch_size\n",
    "        best_batch_norm = use_bn\n",
    "        best_activation = activation\n",
    "        best_optimizer = type(optimizer).__name__\n",
    "        best_learning_rate = learning_rate\n",
    "        best_scheduler = use_lr_scheduler\n",
    "        best_val_acc = value_accuracy\n",
    "        print(f\"Best hidden units = {best_hidden_units}\")\n",
    "        print(f\"Best hidden layers = {best_hidden_layers}\")\n",
    "        print(f\"best_batch_size = {best_batch_size}\")\n",
    "        print(f\"best_batch_size = {best_batch_norm}\")\n",
    "        print(f\"best_batch_size = {best_activation}\")\n",
    "        print(f\"best_batch_size = {best_optimizer}\")\n",
    "        print(f\"best_batch_size = {best_learning_rate}\")\n",
    "        print(f\"best_batch_size = {best_scheduler}\")\n",
    "        print(f\"best_batch_size = {best_val_acc}\")"
   ]
  },
  {
   "cell_type": "code",
   "execution_count": 47,
   "id": "598aa43d",
   "metadata": {},
   "outputs": [
    {
     "name": "stdout",
     "output_type": "stream",
     "text": [
      "SGD\n"
     ]
    }
   ],
   "source": [
    "print(SGD.__name__)"
   ]
  },
  {
   "cell_type": "code",
   "execution_count": null,
   "id": "493b2c21",
   "metadata": {},
   "outputs": [],
   "source": []
  }
 ],
 "metadata": {
  "kernelspec": {
   "display_name": "Python 3.10.10 64-bit",
   "language": "python",
   "name": "python3"
  },
  "language_info": {
   "codemirror_mode": {
    "name": "ipython",
    "version": 3
   },
   "file_extension": ".py",
   "mimetype": "text/x-python",
   "name": "python",
   "nbconvert_exporter": "python",
   "pygments_lexer": "ipython3",
   "version": "3.10.10"
  },
  "vscode": {
   "interpreter": {
    "hash": "949777d72b0d2535278d3dc13498b2535136f6dfe0678499012e853ee9abcab1"
   }
  }
 },
 "nbformat": 4,
 "nbformat_minor": 5
}
