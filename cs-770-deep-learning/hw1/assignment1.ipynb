{
 "cells": [
  {
   "cell_type": "markdown",
   "id": "7ef0d9ec",
   "metadata": {},
   "source": [
    "# Assignment1: Classification of Sonar dataset With one Hidden Layer\n",
    "\n",
    "In this assignment, you will implement a neural network with one hidden layer from scratch using numpy operations to classify the UCI sonar dataset to Rock or Mine: https://www.kaggle.com/datasets/shrutimehta/nasa-asteroids-classification."
   ]
  },
  {
   "cell_type": "code",
   "execution_count": null,
   "id": "6b161a59",
   "metadata": {},
   "outputs": [],
   "source": [
    "import numpy as np\n",
    "import matplotlib.pyplot as plt\n",
    "import sklearn\n",
    "import sklearn.datasets\n",
    "import sklearn.linear_model\n",
    "import pandas as pd\n",
    "from sklearn.model_selection import train_test_split\n",
    "\n",
    "np.random.seed(10) "
   ]
  },
  {
   "cell_type": "markdown",
   "id": "75b54a0b",
   "metadata": {},
   "source": [
    "## Load  and Prepare Dataset"
   ]
  },
  {
   "cell_type": "markdown",
   "id": "342464d6",
   "metadata": {},
   "source": [
    "Load the dataset into a dataframe and show the first few rows:"
   ]
  },
  {
   "cell_type": "code",
   "execution_count": null,
   "id": "cbeb943c",
   "metadata": {},
   "outputs": [],
   "source": [
    "sonar_dataframe = pd.read_csv(\"/YOUR_PATH_TO_DATA/sonar.all-data.csv\", header=None)\n",
    "sonar_dataframe.head()"
   ]
  },
  {
   "cell_type": "markdown",
   "id": "293a57c1",
   "metadata": {},
   "source": [
    "How many rows and columns does this data set have:"
   ]
  },
  {
   "cell_type": "code",
   "execution_count": null,
   "id": "d424adec",
   "metadata": {},
   "outputs": [],
   "source": []
  },
  {
   "cell_type": "markdown",
   "id": "7720805e",
   "metadata": {},
   "source": [
    "Check the columns of the dataframe using info() function:"
   ]
  },
  {
   "cell_type": "code",
   "execution_count": null,
   "id": "687cbbda",
   "metadata": {},
   "outputs": [],
   "source": []
  },
  {
   "cell_type": "markdown",
   "id": "adc49990",
   "metadata": {},
   "source": [
    "Convert the target column to 0 and 1:"
   ]
  },
  {
   "cell_type": "code",
   "execution_count": null,
   "id": "af88cd89",
   "metadata": {},
   "outputs": [],
   "source": [
    "sonar_dataframe[60]=sonar_dataframe[60].map({'R': 0,'M' :1 })"
   ]
  },
  {
   "cell_type": "markdown",
   "id": "3f2ec31f",
   "metadata": {},
   "source": [
    "Convert the sonar_dataframe to numpy array using the values function:\n"
   ]
  },
  {
   "cell_type": "code",
   "execution_count": null,
   "id": "ba952ed5",
   "metadata": {},
   "outputs": [],
   "source": [
    "sonar_np_array = #CODE HERE"
   ]
  },
  {
   "cell_type": "markdown",
   "id": "c115c225",
   "metadata": {},
   "source": [
    "Split the dataset into  80\\% train and 20\\% validation usig the train_test_split command:"
   ]
  },
  {
   "cell_type": "code",
   "execution_count": null,
   "id": "1fbb3707",
   "metadata": {},
   "outputs": [],
   "source": [
    "train, test = #CODE HERE"
   ]
  },
  {
   "cell_type": "markdown",
   "id": "4bc748d1",
   "metadata": {},
   "source": [
    "split the last column as the label:"
   ]
  },
  {
   "cell_type": "code",
   "execution_count": null,
   "id": "1b83058f",
   "metadata": {},
   "outputs": [],
   "source": [
    "X_train = train[:,0:60].astype(float)\n",
    "Y_train = train[:,60]"
   ]
  },
  {
   "cell_type": "code",
   "execution_count": null,
   "id": "e96a9d42",
   "metadata": {},
   "outputs": [],
   "source": [
    "X_test = test[:,0:60].astype(float)\n",
    "Y_test = test[:,60]"
   ]
  },
  {
   "cell_type": "markdown",
   "id": "8141bc5b",
   "metadata": {},
   "source": [
    "## Train a logistic Regression Model\n",
    "Use sklearn to train a logistic regression model:"
   ]
  },
  {
   "cell_type": "code",
   "execution_count": null,
   "id": "66dd7099",
   "metadata": {},
   "outputs": [],
   "source": [
    "#CODE HERE"
   ]
  },
  {
   "cell_type": "markdown",
   "id": "cda66b7f",
   "metadata": {},
   "source": [
    "What is the accuracy of the model:"
   ]
  },
  {
   "cell_type": "code",
   "execution_count": null,
   "id": "8a305d4e",
   "metadata": {},
   "outputs": [],
   "source": []
  },
  {
   "cell_type": "markdown",
   "id": "1425349b",
   "metadata": {},
   "source": [
    "## Building a Neural Network Model\n",
    "In this section, you will create an NN model with one hidden layer and a sigmoid function for the output layer. Use a tanh functiomn for the hidden layer activation. Use average cross entropy for the loss function.\n",
    "Fill in the missing code wherever you see \\#CODE HERE comment"
   ]
  },
  {
   "cell_type": "code",
   "execution_count": null,
   "id": "2f0df930",
   "metadata": {},
   "outputs": [],
   "source": [
    "def initialize_parameters(n_x, n_h, n_y):\n",
    "    np.random.seed(2) \n",
    "    \n",
    "    W1 = np.random.randn(n_h,n_x) * 0.01\n",
    "    b1 = np.zeros((n_h,1))\n",
    "    W2 = np.random.randn(n_y,n_h) * 0.01\n",
    "    b2 = np.zeros((n_y,1))\n",
    "    \n",
    "    parameters = {\"W1\": W1,\n",
    "                  \"b1\": b1,\n",
    "                  \"W2\": W2,\n",
    "                  \"b2\": b2}\n",
    "    \n",
    "    return parameters"
   ]
  },
  {
   "cell_type": "code",
   "execution_count": null,
   "id": "e6af4ebe",
   "metadata": {},
   "outputs": [],
   "source": [
    "def sigmoid(z):\n",
    "    return 1/(1 + np.exp(-z))"
   ]
  },
  {
   "cell_type": "code",
   "execution_count": null,
   "id": "58bda184",
   "metadata": {},
   "outputs": [],
   "source": [
    "def forward_propagation(X, parameters):\n",
    "    W1 = parameters[\"W1\"]\n",
    "    b1 = parameters[\"b1\"]\n",
    "    W2 = parameters[\"W2\"]\n",
    "    b2 = parameters[\"b2\"]\n",
    "    \n",
    "    Z1 = #CODE HERE\n",
    "    A1 = #CODE HERE\n",
    "    Z2 = #CODE HERE\n",
    "    A2 = #CODE HERE    \n",
    "    \n",
    "    cache = {\"Z1\": Z1,\n",
    "             \"A1\": A1,\n",
    "             \"Z2\": Z2,\n",
    "             \"A2\": A2}\n",
    "    \n",
    "    return A2, cache"
   ]
  },
  {
   "cell_type": "code",
   "execution_count": null,
   "id": "1b1bf603",
   "metadata": {},
   "outputs": [],
   "source": [
    "def cross_entropy(Y_hat, Y, parameters):\n",
    "    m = Y.shape[1] # number of example\n",
    "    logprobs = logprobs = np.multiply(Y ,np.log(Y_hat)) + np.multiply((1-Y), np.log(1-Y_hat))\n",
    "    cost = (-1/m) * np.sum(logprobs)\n",
    "    cost = float(np.squeeze(cost)) \n",
    "                                    \n",
    "    return cost"
   ]
  },
  {
   "cell_type": "code",
   "execution_count": null,
   "id": "d30ec058",
   "metadata": {},
   "outputs": [],
   "source": [
    "def backward_propagation(parameters, cache, X, Y):\n",
    "    m = X.shape[0]\n",
    "   \n",
    "    W1 = parameters[\"W1\"]\n",
    "    b1 = parameters[\"b1\"]\n",
    "    W2 = parameters[\"W2\"]\n",
    "    b2 = parameters[\"b2\"]\n",
    "    \n",
    "    A1 = cache[\"A1\"]\n",
    "    A2 = cache[\"A2\"]\n",
    "    Z1 = cache[\"Z1\"]\n",
    "    Z2 = cache[\"Z2\"] \n",
    "    \n",
    "    dZ2 = #CODE HERE\n",
    "    dW2 = #CODE HERE\n",
    "    db2 = #CODE HERE\n",
    "    dZ1 = #CODE HERE)\n",
    "    dW1 = #CODE HERE\n",
    "    db1 = #CODE HERE\n",
    "    \n",
    "    grads = {\"dW1\": dW1,\n",
    "             \"db1\": db1,\n",
    "             \"dW2\": dW2,\n",
    "             \"db2\": db2}\n",
    "    \n",
    "    return grads"
   ]
  },
  {
   "cell_type": "code",
   "execution_count": null,
   "id": "fedc4f57",
   "metadata": {},
   "outputs": [],
   "source": [
    "\n",
    "def update_parameters(parameters, grads, learning_rate):\n",
    "    \n",
    "    W1 = parameters[\"W1\"]\n",
    "    b1 = parameters[\"b1\"]\n",
    "    W2 = parameters[\"W2\"]\n",
    "    b2 = parameters[\"b2\"]\n",
    "    \n",
    " \n",
    "    dW1 = grads[\"dW1\"]\n",
    "    db1 = grads[\"db1\"]\n",
    "    dW2 = grads[\"dW2\"]\n",
    "    db2 = grads[\"db2\"]\n",
    "    \n",
    "\n",
    "    W1 = #CODE HERE\n",
    "    b1 =#CODE HERE\n",
    "    W2 = #CODE HERE\n",
    "    b2 = #CODE HERE\n",
    "    \n",
    "    parameters = {\"W1\": W1,\n",
    "                  \"b1\": b1,\n",
    "                  \"W2\": W2,\n",
    "                  \"b2\": b2}\n",
    "    \n",
    "    return parameters"
   ]
  },
  {
   "cell_type": "markdown",
   "id": "16f2863d",
   "metadata": {},
   "source": [
    "Below is the main function which puts all the previous functions together to train the model"
   ]
  },
  {
   "cell_type": "code",
   "execution_count": null,
   "id": "e98f6022",
   "metadata": {},
   "outputs": [],
   "source": [
    "def train_nn_model(X, Y, num_of_hidden_units, learning_rate, num_iterations = 10000, print_cost=False):\n",
    "    \n",
    "    input_size=X_train.shape[1] \n",
    "    num_of_output_units=1\n",
    "    parameters = initialize_parameters(input_size, num_of_hidden_units, num_of_output_units)\n",
    "    W1 = parameters[\"W1\"]\n",
    "    b1 = parameters[\"b1\"]\n",
    "    W2 = parameters[\"W2\"]\n",
    "    b2 = parameters[\"b2\"]\n",
    "    \n",
    "    # gradient descent Loop\n",
    "    for i in range(0, num_iterations):\n",
    "        A2, cache = forward_propagation(X, parameters)\n",
    "        grads = backward_propagation(parameters, cache, X, Y)\n",
    "        parameters = update_parameters(parameters, grads, learning_rate)\n",
    "        if print_cost and i % 10000 == 0:\n",
    "            cost = cross_entropy(A2, Y, parameters)\n",
    "            print (\"Cost after iteration %i: %f\" %(i, cost))\n",
    "\n",
    "    return parameters"
   ]
  },
  {
   "cell_type": "markdown",
   "id": "4e9c22ba",
   "metadata": {},
   "source": [
    "Predict is the scoring function to get predictions for new instances using the trained model: "
   ]
  },
  {
   "cell_type": "code",
   "execution_count": null,
   "id": "5cb513d3",
   "metadata": {},
   "outputs": [],
   "source": [
    "def predict(parameters, X):\n",
    "    A2, cache = forward_propagation(X, parameters)\n",
    "    predictions = (A2 > 0.5)    \n",
    "    return predictions\n"
   ]
  },
  {
   "cell_type": "markdown",
   "id": "aa81ba4b",
   "metadata": {},
   "source": [
    "Train the model using the train_nn_model defined above with 5 units in the hidden layer"
   ]
  },
  {
   "cell_type": "code",
   "execution_count": null,
   "id": "99e257b3",
   "metadata": {},
   "outputs": [],
   "source": [
    "parameters = #CODE HERE\n"
   ]
  },
  {
   "cell_type": "markdown",
   "id": "1a861a6b",
   "metadata": {},
   "source": [
    "Use the predict function to generate the output for the X_test data. What is the accuracy of the model?"
   ]
  },
  {
   "cell_type": "code",
   "execution_count": null,
   "id": "3000ab4b",
   "metadata": {},
   "outputs": [],
   "source": [
    "predictions=#CODE HERE"
   ]
  },
  {
   "cell_type": "code",
   "execution_count": null,
   "id": "010999ba",
   "metadata": {},
   "outputs": [],
   "source": [
    "print ('Accuracy: %d' % float((np.dot(Y_test,predictions.T) + np.dot(1-Y_test,1-predictions.T))/float(Y_test.size)*100) + '%')\n"
   ]
  },
  {
   "cell_type": "markdown",
   "id": "00b46d2a",
   "metadata": {},
   "source": [
    "## Tunning the Size of Hidden Layer"
   ]
  },
  {
   "cell_type": "markdown",
   "id": "52bd5a48",
   "metadata": {},
   "source": [
    "Run the following code to see which size for the hodden layer gives you the best performance"
   ]
  },
  {
   "cell_type": "code",
   "execution_count": null,
   "id": "7f6789dd",
   "metadata": {},
   "outputs": [],
   "source": [
    "\n",
    "plt.figure(figsize=(16, 32))\n",
    "hidden_layer_sizes = [1, 2, 3, 4, 5, 10, 20, 30,50]\n",
    "for i, num_hidden_units in enumerate(hidden_layer_sizes):\n",
    "    parameters = train_nn_model(X_train.T, np.expand_dims(Y_train,axis=0),num_hidden_units ,0.01, num_iterations = 100000)\n",
    "    predictions = predict(parameters, X_test.T)\n",
    "    accuracy = float((np.dot(Y_test,predictions.T) + np.dot(1-Y_test,1-predictions.T))/float(Y_test.size)*100)\n",
    "    print (\"Accuracy for {} hidden units: {} %\".format(num_hidden_units, accuracy))\n",
    "    "
   ]
  },
  {
   "cell_type": "markdown",
   "id": "17af352a",
   "metadata": {},
   "source": [
    "Which one was the best model?"
   ]
  },
  {
   "cell_type": "markdown",
   "id": "c592b025",
   "metadata": {},
   "source": []
  },
  {
   "cell_type": "code",
   "execution_count": null,
   "id": "955ca1ee",
   "metadata": {},
   "outputs": [],
   "source": []
  }
 ],
 "metadata": {
  "kernelspec": {
   "display_name": "Python 3 (ipykernel)",
   "language": "python",
   "name": "python3"
  },
  "language_info": {
   "codemirror_mode": {
    "name": "ipython",
    "version": 3
   },
   "file_extension": ".py",
   "mimetype": "text/x-python",
   "name": "python",
   "nbconvert_exporter": "python",
   "pygments_lexer": "ipython3",
   "version": "3.9.12"
  }
 },
 "nbformat": 4,
 "nbformat_minor": 5
}
