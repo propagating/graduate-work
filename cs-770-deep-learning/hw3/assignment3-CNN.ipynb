{
 "cells": [
  {
   "cell_type": "markdown",
   "metadata": {
    "id": "vJG-MtdjpLTO"
   },
   "source": [
    "# Assignment 3: CNN\n",
    "\n",
    "#### Student Name: Ryan Richardson\n",
    "\n",
    "In this assignment, you will create a CNN model to classifiy the images in the CIFAR-10 dataset (https://www.cs.toronto.edu/~kriz/cifar.html). It consists of 60,000 32x32 color images containing one of 10 object classes, (6000 images per class).\n"
   ]
  },
  {
   "cell_type": "code",
   "execution_count": 43,
   "metadata": {
    "ExecuteTime": {
     "start_time": "2023-04-25T17:43:26.331424Z",
     "end_time": "2023-04-25T17:43:26.431925Z"
    }
   },
   "outputs": [],
   "source": [
    "import pickle\n",
    "import tensorflow as t\n",
    "from tensorflow import keras\n",
    "from tensorflow.keras import layers\n",
    "import numpy as np\n",
    "import pandas as pd"
   ]
  },
  {
   "cell_type": "markdown",
   "metadata": {
    "id": "t5vBrnwNqRCq"
   },
   "source": [
    "## Load the data"
   ]
  },
  {
   "cell_type": "code",
   "execution_count": 44,
   "metadata": {
    "id": "iph5-J6Gn8Eu",
    "ExecuteTime": {
     "start_time": "2023-04-25T17:43:26.349425Z",
     "end_time": "2023-04-25T17:43:27.225420Z"
    }
   },
   "outputs": [],
   "source": [
    "def unpickle(file):\n",
    "    with open(file, 'rb') as fo:\n",
    "        dict = pickle.load(fo, encoding='bytes')\n",
    "    return dict\n",
    "# Load the training and testing sets\n",
    "trainingData = []\n",
    "trainingLabels = []\n",
    "testingData = []\n",
    "testingLabels = []\n",
    "for i in range(0, 5):\n",
    "    batch = unpickle(f'E:/Chapman/graduate-work/cs-770-deep-learning/hw3/data/data_batch_{i + 1}')\n",
    "    trainingData.append(batch[b'data'])\n",
    "    trainingLabels += batch[b'labels']\n",
    "\n",
    "batch = unpickle('E:/Chapman/graduate-work/cs-770-deep-learning/hw3/data/test_batch')\n",
    "testingData.append(batch[b'data'])\n",
    "testingLabels += batch[b'labels']\n",
    "# Convert the data and labels to numpy arrays\n",
    "\n",
    "trainingData = np.concatenate(trainingData)\n",
    "trainingData = trainingData / 255.0\n",
    "trainingData = np.reshape(trainingData, (-1, 3, 32, 32)).transpose(0, 2, 3, 1)\n",
    "\n",
    "testingData = np.concatenate(testingData)\n",
    "testingData = testingData / 255.0\n",
    "testingData = np.reshape(testingData, (-1, 3, 32, 32)).transpose(0, 2, 3, 1)\n",
    "\n",
    "trainingLabels = np.array(trainingLabels)\n",
    "testingLabels = np.array(testingLabels)"
   ]
  },
  {
   "cell_type": "markdown",
   "source": [],
   "metadata": {
    "collapsed": false
   }
  },
  {
   "cell_type": "code",
   "execution_count": 53,
   "metadata": {
    "ExecuteTime": {
     "start_time": "2023-04-25T18:13:42.366592Z",
     "end_time": "2023-04-25T18:13:42.384089Z"
    }
   },
   "outputs": [
    {
     "name": "stdout",
     "output_type": "stream",
     "text": [
      "(50000, 32, 32, 3) (50000,)\n",
      "(10000, 32, 32, 3) (10000,)\n"
     ]
    }
   ],
   "source": [
    "print(trainingData.shape, trainingLabels.shape)\n",
    "print(testingData.shape, testingLabels.shape)"
   ]
  },
  {
   "cell_type": "markdown",
   "metadata": {
    "id": "n6NjVwfIrfEc"
   },
   "source": [
    "## Train CNN Model"
   ]
  },
  {
   "cell_type": "code",
   "execution_count": 54,
   "metadata": {
    "ExecuteTime": {
     "start_time": "2023-04-25T18:13:56.120863Z",
     "end_time": "2023-04-25T18:13:56.134364Z"
    }
   },
   "outputs": [],
   "source": [
    "from keras.callbacks import EarlyStopping, ModelCheckpoint"
   ]
  },
  {
   "cell_type": "markdown",
   "metadata": {},
   "source": [
    "## Define the Model\n",
    "Create a deep learning model with 5 convolutional layers, also add max pool layers after each conv layer or after two conv layers. At the end, add Fully connected layers and finally a softmax layer:"
   ]
  },
  {
   "cell_type": "markdown",
   "source": [
    "### I had an extremely rough time trying to get the data frame and the ImageDataGenerators to work properly, so I ended up settling with the following"
   ],
   "metadata": {
    "collapsed": false
   }
  },
  {
   "cell_type": "code",
   "execution_count": 47,
   "metadata": {
    "ExecuteTime": {
     "start_time": "2023-04-25T17:43:27.294922Z",
     "end_time": "2023-04-25T17:43:27.508423Z"
    }
   },
   "outputs": [],
   "source": [
    "# CODE HERE\n",
    "# Define your model architecture\n",
    "model = keras.Sequential([\n",
    "    layers.Conv2D(32, (3, 3), activation='relu', input_shape=(32, 32, 3)),\n",
    "    layers.MaxPooling2D((2, 2)),\n",
    "    layers.ZeroPadding2D(padding=((1, 1), (1, 1))),\n",
    "\n",
    "    layers.Conv2D(64, (3, 3), activation='relu'),\n",
    "    layers.MaxPooling2D((2, 2)),\n",
    "    layers.ZeroPadding2D(padding=((1, 1), (1, 1))),\n",
    "\n",
    "    layers.Conv2D(128, (3, 3), activation='relu'),\n",
    "    layers.MaxPooling2D((2, 2)),\n",
    "    layers.ZeroPadding2D(padding=((1, 1), (1, 1))),\n",
    "\n",
    "    layers.Conv2D(256, (3, 3), activation='relu'),\n",
    "    layers.MaxPooling2D((2, 2)),\n",
    "    layers.ZeroPadding2D(padding=((1, 1), (1, 1))),\n",
    "\n",
    "    layers.Conv2D(512, (3, 3), activation='relu'),\n",
    "    layers.Flatten(),\n",
    "    layers.Dense(64, activation='relu'),\n",
    "    layers.Dense(10, activation='softmax')\n",
    "])"
   ]
  },
  {
   "cell_type": "markdown",
   "source": [
    "# Compile Your Model"
   ],
   "metadata": {
    "collapsed": false
   }
  },
  {
   "cell_type": "code",
   "execution_count": 50,
   "metadata": {
    "ExecuteTime": {
     "start_time": "2023-04-25T17:46:12.479424Z",
     "end_time": "2023-04-25T17:46:12.518919Z"
    }
   },
   "outputs": [],
   "source": [
    "model.compile(optimizer=keras.optimizers.Adam(learning_rate=0.001),\n",
    "              loss='sparse_categorical_crossentropy',\n",
    "              metrics=['accuracy'])\n",
    "early_stop= EarlyStopping(monitor='val_loss', mode ='min', verbose = 1, patience = 3)\n",
    "model_checkpoint = ModelCheckpoint('best_model.h5', monitor='val_loss', save_best_only = True, mode ='min', verbose = 1)"
   ]
  },
  {
   "cell_type": "markdown",
   "source": [
    "# Train Your Model"
   ],
   "metadata": {
    "collapsed": false
   }
  },
  {
   "cell_type": "code",
   "execution_count": 51,
   "metadata": {
    "ExecuteTime": {
     "start_time": "2023-04-25T17:46:15.002934Z",
     "end_time": "2023-04-25T18:11:24.126924Z"
    }
   },
   "outputs": [
    {
     "name": "stdout",
     "output_type": "stream",
     "text": [
      "Epoch 1/10\n",
      "1563/1563 [==============================] - 164s 103ms/step - loss: 1.0724 - accuracy: 0.6164 - val_loss: 0.9530 - val_accuracy: 0.6653\n",
      "Epoch 2/10\n",
      "1563/1563 [==============================] - 169s 108ms/step - loss: 0.8733 - accuracy: 0.6924 - val_loss: 0.8663 - val_accuracy: 0.7035\n",
      "Epoch 3/10\n",
      "1563/1563 [==============================] - 173s 111ms/step - loss: 0.7292 - accuracy: 0.7445 - val_loss: 0.8346 - val_accuracy: 0.7178\n",
      "Epoch 4/10\n",
      "1563/1563 [==============================] - 179s 115ms/step - loss: 0.6348 - accuracy: 0.7803 - val_loss: 0.8150 - val_accuracy: 0.7326\n",
      "Epoch 5/10\n",
      "1563/1563 [==============================] - 180s 115ms/step - loss: 0.5383 - accuracy: 0.8141 - val_loss: 0.8398 - val_accuracy: 0.7224\n",
      "Epoch 6/10\n",
      "1563/1563 [==============================] - 155s 99ms/step - loss: 0.4672 - accuracy: 0.8384 - val_loss: 0.8419 - val_accuracy: 0.7320\n",
      "Epoch 7/10\n",
      "1563/1563 [==============================] - 119s 76ms/step - loss: 0.4020 - accuracy: 0.8609 - val_loss: 0.8754 - val_accuracy: 0.7373\n",
      "Epoch 8/10\n",
      "1563/1563 [==============================] - 120s 77ms/step - loss: 0.3450 - accuracy: 0.8792 - val_loss: 0.9621 - val_accuracy: 0.7253\n",
      "Epoch 9/10\n",
      "1563/1563 [==============================] - 125s 80ms/step - loss: 0.2999 - accuracy: 0.8942 - val_loss: 0.9901 - val_accuracy: 0.7257\n",
      "Epoch 10/10\n",
      "1563/1563 [==============================] - 124s 80ms/step - loss: 0.2567 - accuracy: 0.9103 - val_loss: 1.0157 - val_accuracy: 0.7355\n"
     ]
    }
   ],
   "source": [
    "history = model.fit(trainingData, trainingLabels, epochs=10,\n",
    "                    validation_data=(testingData, testingLabels))\n"
   ]
  },
  {
   "cell_type": "markdown",
   "source": [
    "# Evaluate Your Model"
   ],
   "metadata": {
    "collapsed": false
   }
  },
  {
   "cell_type": "code",
   "execution_count": 52,
   "metadata": {
    "ExecuteTime": {
     "start_time": "2023-04-25T18:12:11.863605Z",
     "end_time": "2023-04-25T18:12:17.876105Z"
    }
   },
   "outputs": [
    {
     "name": "stdout",
     "output_type": "stream",
     "text": [
      "313/313 - 6s - loss: 1.0157 - accuracy: 0.7355 - 6s/epoch - 19ms/step\n",
      "0.7354999780654907\n"
     ]
    }
   ],
   "source": [
    "loss, accuracy = model.evaluate(testingData, testingLabels, verbose=2)\n",
    "print(accuracy)"
   ]
  }
 ],
 "metadata": {
  "colab": {
   "provenance": []
  },
  "kernelspec": {
   "display_name": "Python 3 (ipykernel)",
   "language": "python",
   "name": "python3"
  },
  "language_info": {
   "codemirror_mode": {
    "name": "ipython",
    "version": 3
   },
   "file_extension": ".py",
   "mimetype": "text/x-python",
   "name": "python",
   "nbconvert_exporter": "python",
   "pygments_lexer": "ipython3",
   "version": "3.9.12"
  }
 },
 "nbformat": 4,
 "nbformat_minor": 1
}
