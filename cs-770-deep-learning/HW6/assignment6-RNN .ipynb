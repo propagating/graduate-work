{
 "cells": [
  {
   "attachments": {},
   "cell_type": "markdown",
   "metadata": {},
   "source": [
    "# Assignment 6: Sentiment Analysis Using LSTM\n",
    "#### Student Name: Ryan Richardson"
   ]
  },
  {
   "attachments": {},
   "cell_type": "markdown",
   "metadata": {},
   "source": [
    "In this assignment you will use an RNN/LSTM model for sentiment Analysis. You will use the movie reviews from the UCI Sentiment Labelled Sentences Dataset: https://archive.ics.uci.edu/ml/datasets/Sentiment+Labelled+Sentences."
   ]
  },
  {
   "cell_type": "code",
   "execution_count": 1,
   "metadata": {
    "ExecuteTime": {
     "end_time": "2023-05-18T05:43:23.581280200Z",
     "start_time": "2023-05-18T05:43:18.397780100Z"
    }
   },
   "outputs": [],
   "source": [
    "import tensorflow.keras as K\n",
    "from tensorflow.keras.layers import *\n",
    "from tensorflow.keras.models import *\n",
    "from tensorflow.keras.preprocessing import sequence\n",
    "from tensorflow.keras.datasets import imdb"
   ]
  },
  {
   "attachments": {},
   "cell_type": "markdown",
   "metadata": {},
   "source": [
    "### Load the data\n",
    "This is a dataset of 25,000 movies reviews from IMDB, labeled by sentiment (positive/negative). Reviews have been preprocessed, and each review is encoded as a list of word indexes (integers). For convenience, words are indexed by overall frequency in the dataset, so that for instance the integer \"3\" encodes the 3rd most frequent word in the data. This allows for quick filtering operations such as: \"only consider the top 10,000 most common words, but eliminate the top 20 most common words\"\n"
   ]
  },
  {
   "cell_type": "code",
   "execution_count": 2,
   "metadata": {
    "ExecuteTime": {
     "end_time": "2023-05-18T05:43:27.501279900Z",
     "start_time": "2023-05-18T05:43:23.584283400Z"
    }
   },
   "outputs": [
    {
     "name": "stdout",
     "output_type": "stream",
     "text": [
      "25000 train sequences\n",
      "25000 test sequences\n"
     ]
    }
   ],
   "source": [
    "max_features = 20000\n",
    "(x_train, y_train), (x_test, y_test) = imdb.load_data(num_words=max_features)\n",
    "print(len(x_train), 'train sequences')\n",
    "print(len(x_test), 'test sequences')"
   ]
  },
  {
   "attachments": {},
   "cell_type": "markdown",
   "metadata": {},
   "source": [
    "#### Pad the sequence"
   ]
  },
  {
   "cell_type": "code",
   "execution_count": 3,
   "metadata": {
    "ExecuteTime": {
     "end_time": "2023-05-18T05:43:27.935280600Z",
     "start_time": "2023-05-18T05:43:27.503782300Z"
    }
   },
   "outputs": [],
   "source": [
    "# Define Hyperparams\n",
    "maxlen = 80 \n",
    "batch_size = 32\n",
    "x_train = sequence.pad_sequences(x_train, maxlen=maxlen)\n",
    "x_test = sequence.pad_sequences(x_test, maxlen=maxlen)"
   ]
  },
  {
   "attachments": {},
   "cell_type": "markdown",
   "metadata": {},
   "source": [
    "### Define the model\n",
    "define an LSTM model with an emebeding layer followed(to learn the embeddings), followed by 128 layers of LSTM units followed by aflatten, followed by two dense fully connceted layers 200 and 100 units, and finally a sigmoid layer."
   ]
  },
  {
   "cell_type": "code",
   "execution_count": 4,
   "metadata": {
    "ExecuteTime": {
     "end_time": "2023-05-18T05:43:28.322841200Z",
     "start_time": "2023-05-18T05:43:27.939280500Z"
    }
   },
   "outputs": [],
   "source": [
    "model = Sequential()\n",
    "model.add(Embedding(input_dim=max_features, output_dim=batch_size, input_length=maxlen))\n",
    "model.add(LSTM(units=128, return_sequences=True))\n",
    "model.add(Flatten())\n",
    "model.add(Dense(units=200, activation='relu'))\n",
    "model.add(Dense(units=100, activation='relu'))\n",
    "model.add(Dense(units=1, activation='sigmoid'))\n",
    "\n",
    "model.compile(loss='binary_crossentropy', optimizer='adam', metrics=['accuracy'])\n"
   ]
  },
  {
   "attachments": {},
   "cell_type": "markdown",
   "metadata": {},
   "source": [
    "### Train the Model"
   ]
  },
  {
   "cell_type": "code",
   "execution_count": 5,
   "metadata": {
    "ExecuteTime": {
     "end_time": "2023-05-18T05:43:28.338842300Z",
     "start_time": "2023-05-18T05:43:28.325842800Z"
    }
   },
   "outputs": [],
   "source": [
    "model.compile(loss='binary_crossentropy',\n",
    "              optimizer='adam',\n",
    "              metrics=['accuracy'])\n",
    "\n"
   ]
  },
  {
   "cell_type": "code",
   "execution_count": 6,
   "metadata": {
    "ExecuteTime": {
     "end_time": "2023-05-18T05:53:40.514341800Z",
     "start_time": "2023-05-18T05:43:28.340840500Z"
    }
   },
   "outputs": [
    {
     "name": "stdout",
     "output_type": "stream",
     "text": [
      "Epoch 1/7\n",
      "782/782 [==============================] - 92s 114ms/step - loss: 0.4158 - accuracy: 0.8039 - val_loss: 0.4109 - val_accuracy: 0.8265\n",
      "Epoch 2/7\n",
      "782/782 [==============================] - 84s 107ms/step - loss: 0.2318 - accuracy: 0.9063 - val_loss: 0.4129 - val_accuracy: 0.8290\n",
      "Epoch 3/7\n",
      "782/782 [==============================] - 86s 109ms/step - loss: 0.0937 - accuracy: 0.9645 - val_loss: 0.6179 - val_accuracy: 0.8122\n",
      "Epoch 4/7\n",
      "782/782 [==============================] - 86s 110ms/step - loss: 0.0315 - accuracy: 0.9882 - val_loss: 0.8585 - val_accuracy: 0.8085\n",
      "Epoch 5/7\n",
      "782/782 [==============================] - 88s 112ms/step - loss: 0.0191 - accuracy: 0.9939 - val_loss: 1.0178 - val_accuracy: 0.8146\n",
      "Epoch 6/7\n",
      "782/782 [==============================] - 87s 112ms/step - loss: 0.0165 - accuracy: 0.9938 - val_loss: 1.1702 - val_accuracy: 0.8057\n",
      "Epoch 7/7\n",
      "782/782 [==============================] - 89s 114ms/step - loss: 0.0119 - accuracy: 0.9956 - val_loss: 1.2283 - val_accuracy: 0.8091\n"
     ]
    },
    {
     "data": {
      "text/plain": "<keras.callbacks.History at 0x265dd617bb0>"
     },
     "execution_count": 6,
     "metadata": {},
     "output_type": "execute_result"
    }
   ],
   "source": [
    "model.fit(x_train, y_train,\n",
    "          batch_size=batch_size,\n",
    "          epochs=7,\n",
    "          validation_data=(x_test, y_test))"
   ]
  },
  {
   "cell_type": "code",
   "execution_count": 7,
   "metadata": {
    "ExecuteTime": {
     "end_time": "2023-05-18T05:54:02.450341200Z",
     "start_time": "2023-05-18T05:53:40.488841800Z"
    }
   },
   "outputs": [
    {
     "name": "stdout",
     "output_type": "stream",
     "text": [
      "782/782 [==============================] - 22s 28ms/step - loss: 1.2283 - accuracy: 0.8091\n",
      "Test score: 1.2282716035842896\n",
      "Test accuracy: 0.8090800046920776\n"
     ]
    }
   ],
   "source": [
    "score, acc = model.evaluate(x_test, y_test,\n",
    "                            batch_size=batch_size)\n",
    "print('Test score:', score)\n",
    "print('Test accuracy:', acc)"
   ]
  }
 ],
 "metadata": {
  "kernelspec": {
   "display_name": "Python 3 (ipykernel)",
   "language": "python",
   "name": "python3"
  },
  "language_info": {
   "codemirror_mode": {
    "name": "ipython",
    "version": 3
   },
   "file_extension": ".py",
   "mimetype": "text/x-python",
   "name": "python",
   "nbconvert_exporter": "python",
   "pygments_lexer": "ipython3",
   "version": "3.10.10"
  }
 },
 "nbformat": 4,
 "nbformat_minor": 2
}
